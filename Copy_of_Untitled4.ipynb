{
  "nbformat": 4,
  "nbformat_minor": 0,
  "metadata": {
    "colab": {
      "name": "Copy of Untitled4.ipynb",
      "provenance": [],
      "collapsed_sections": [],
      "authorship_tag": "ABX9TyPnRSUflhk5R0rU+P+H1Eim",
      "include_colab_link": true
    },
    "kernelspec": {
      "name": "python3",
      "display_name": "Python 3"
    },
    "language_info": {
      "name": "python"
    }
  },
  "cells": [
    {
      "cell_type": "markdown",
      "metadata": {
        "id": "view-in-github",
        "colab_type": "text"
      },
      "source": [
        "<a href=\"https://colab.research.google.com/github/RupasriSatti/python-lab/blob/main/Copy_of_Untitled4.ipynb\" target=\"_parent\"><img src=\"https://colab.research.google.com/assets/colab-badge.svg\" alt=\"Open In Colab\"/></a>"
      ]
    },
    {
      "cell_type": "code",
      "metadata": {
        "id": "DZgnUHUaQOWJ"
      },
      "source": [
        ""
      ],
      "execution_count": null,
      "outputs": []
    },
    {
      "cell_type": "markdown",
      "metadata": {
        "id": "4rfxB_wIQgsq"
      },
      "source": [
        "Name:S.Rupasri.          \n",
        "Regno:19A21A05B8.          \n",
        "Branch/sec:cse-b"
      ]
    },
    {
      "cell_type": "markdown",
      "metadata": {
        "id": "qjT1UWS5HRd2"
      },
      "source": [
        "# **Exercise 1 - Basics**\n",
        "\n",
        "**AIM:**\n",
        "\n",
        "a) Running instructions in Interactive interpreter and a Python Script"
      ]
    },
    {
      "cell_type": "markdown",
      "metadata": {
        "id": "y2dImUrUHYDe"
      },
      "source": [
        "**DESCRIPTION:**"
      ]
    },
    {
      "cell_type": "markdown",
      "metadata": {
        "id": "z-H8KkaSHbvB"
      },
      "source": [
        "Python is a high-level, interpreted, interactive and object-oriented \n",
        "scripting language. \n",
        "Python is designed to be highly readable.  It uses English keywords frequently where as other languages use \n",
        "punctuation, and it has fewer syntactical constructions than other languages. \n",
        " \n",
        "* Python is Interpreted \n",
        " \n",
        "* Python is Interactive \n",
        " \n",
        "* Python is Object-Oriented\n",
        " \n",
        "* Python is a Beginner's Language\n",
        " \n",
        "**Python Programming Running Python Scripts**\n",
        " \n",
        "Running Python in THREE ways: \n",
        " \n",
        "a) Running Python Interpreter \n",
        " \n",
        "b) Running Python Scripts in IDLE \n",
        " \n",
        "c) Running python scripts in Command Prompt \n",
        " \n",
        "**a) Running Python Interpreter:**\n",
        "Python comes with an interactive interpreter. When you type python in your shell or command prompt, the python interpreter becomes active with a >>> prompt and waits for your commands\n",
        " \n",
        "b) **Running Python Scripts in IDLE:**\n",
        ". Go to File menu click on New File (CTRL+N) and write the \n",
        "code and save first.py\n",
        " \n",
        "c) **Running python scripts in Command Prompt: ** **bold text**\n",
        "· Before going to run we have to check the PATH in environment \n",
        "variables."
      ]
    },
    {
      "cell_type": "markdown",
      "metadata": {
        "id": "B0JZhZ-eH1SF"
      },
      "source": [
        "**PROGRAM:-**"
      ]
    },
    {
      "cell_type": "code",
      "metadata": {
        "colab": {
          "base_uri": "https://localhost:8080/"
        },
        "id": "4KgGV7-iH43x",
        "outputId": "51bed0c6-e288-4642-b945-5ad51a7d6f33"
      },
      "source": [
        "print(\"Hello,rupa\")"
      ],
      "execution_count": null,
      "outputs": [
        {
          "output_type": "stream",
          "name": "stdout",
          "text": [
            "Hello,rupa\n"
          ]
        }
      ]
    },
    {
      "cell_type": "markdown",
      "metadata": {
        "id": "plNoTrkEIFPm"
      },
      "source": [
        "**AIM:**"
      ]
    },
    {
      "cell_type": "markdown",
      "metadata": {
        "id": "kdwaAjC1IIym"
      },
      "source": [
        "b) Write a program to purposefully raise Indentation Error and Correct it"
      ]
    },
    {
      "cell_type": "markdown",
      "metadata": {
        "id": "CxowuSKyIMx9"
      },
      "source": [
        "Description:                             **Indentation** \n",
        "* Python does not support braces to indicate blocks of code for class and \n",
        "function definitions or flow control. \n",
        " \n",
        "* Blocks of code are denoted by line indentation.\n",
        " \n",
        "* All the continuous lines indented with same number of spaces would form a block. \n",
        " \n",
        "* Python strictly follow indentation rules to indicate the blocks."
      ]
    },
    {
      "cell_type": "code",
      "metadata": {
        "colab": {
          "base_uri": "https://localhost:8080/",
          "height": 185
        },
        "id": "wCVF_irXIcY6",
        "outputId": "5c9b330b-3a5a-4915-98dd-3e719fef091e"
      },
      "source": [
        "if True:\n",
        "    print(\"True\");\n",
        "   else:\n",
        "    print(\"false\");"
      ],
      "execution_count": null,
      "outputs": [
        {
          "output_type": "error",
          "ename": "IndentationError",
          "evalue": "ignored",
          "traceback": [
            "\u001b[0;36m  File \u001b[0;32m\"<ipython-input-2-67bd72984f4b>\"\u001b[0;36m, line \u001b[0;32m3\u001b[0m\n\u001b[0;31m    else:\u001b[0m\n\u001b[0m         ^\u001b[0m\n\u001b[0;31mIndentationError\u001b[0m\u001b[0;31m:\u001b[0m unindent does not match any outer indentation level\n"
          ]
        }
      ]
    },
    {
      "cell_type": "markdown",
      "metadata": {
        "id": "o4_9S9rEIxUz"
      },
      "source": [
        "Correct program:"
      ]
    },
    {
      "cell_type": "code",
      "metadata": {
        "colab": {
          "base_uri": "https://localhost:8080/"
        },
        "id": "08ofv87KItQ9",
        "outputId": "2741f898-1ca5-41b9-d9a1-bab24c4d0674"
      },
      "source": [
        "if True:\n",
        "    print(\"True\");\n",
        "else:\n",
        "    print(\"false\");"
      ],
      "execution_count": null,
      "outputs": [
        {
          "output_type": "stream",
          "name": "stdout",
          "text": [
            "True\n"
          ]
        }
      ]
    },
    {
      "cell_type": "code",
      "metadata": {
        "colab": {
          "base_uri": "https://localhost:8080/"
        },
        "id": "2PF1AJk1YOU-",
        "outputId": "ad70f750-3928-4d63-f5a5-0804f83e9fcc"
      },
      "source": [
        " a=56\n",
        "b=34\n",
        "a,b=b,a\n",
        "print(a,b)"
      ],
      "execution_count": null,
      "outputs": [
        {
          "output_type": "stream",
          "text": [
            "34 56\n"
          ],
          "name": "stdout"
        }
      ]
    },
    {
      "cell_type": "code",
      "metadata": {
        "colab": {
          "base_uri": "https://localhost:8080/"
        },
        "id": "wsO5uSQ-Ya3i",
        "outputId": "493dc748-5966-4e70-da28-1c7c85394aed"
      },
      "source": [
        " a=input(\"enter a vlaue:\")\n",
        "b=input(\"enter b value:\")\n",
        "c=a+b;\n",
        "print(\"sum is \",c,sep=\"\\t\")\n",
        "c=int(a)+int(b)\n",
        "print(\"sum of {} and {} is : {}\".format(a,b,c))\n",
        "print(\"sum of %s and %s is:%d\"%(a,b,c))\n",
        "x=23\n",
        "y=156\n",
        "z=x+y;\n",
        "print(\"sum is\",z,sep='\\t' )"
      ],
      "execution_count": null,
      "outputs": [
        {
          "output_type": "stream",
          "text": [
            "enter a vlaue:3\n",
            "enter b value:5\n",
            "sum is \t35\n",
            "sum of 3 and 5 is : 8\n",
            "sum of 3 and 5 is:8\n",
            "sum is\t179\n"
          ],
          "name": "stdout"
        }
      ]
    },
    {
      "cell_type": "code",
      "metadata": {
        "colab": {
          "base_uri": "https://localhost:8080/"
        },
        "id": "2o3ubTqtYk2r",
        "outputId": "461941f4-93ac-410d-ceb2-76280ba2dcb0"
      },
      "source": [
        " print(\"welcome to python\")\n",
        "a=10\n",
        "b=50\n",
        "print(\"the value of a:\",a)\n",
        "print(\"the value of b :\",b)\n",
        "if(a>b):\n",
        "       print(\"a is big\");\n",
        "       print(\"ifbblock ends\")\n",
        "else:\n",
        "            print(\"b is big\")\n",
        "            print(\"elseblock ends\")"
      ],
      "execution_count": null,
      "outputs": [
        {
          "output_type": "stream",
          "text": [
            "welcome to python\n",
            "the value of a: 10\n",
            "the value of b : 50\n",
            "b is big\n",
            "elseblock ends\n"
          ],
          "name": "stdout"
        }
      ]
    },
    {
      "cell_type": "markdown",
      "metadata": {
        "id": "G359To-ZJAa4"
      },
      "source": [
        "# **Exercise 2 - Operations**\n",
        "**AIM:**\n",
        " \n",
        "a) Write a program to compute distance between two points taking input from the user(PythagoreanTheorem)"
      ]
    },
    {
      "cell_type": "markdown",
      "metadata": {
        "id": "J8LCGnQzJE9t"
      },
      "source": [
        "Description:.                       **Taking Input From the User:**\n",
        "A function is defined as a block of organized, reusable code used to perform a single, related action. Python has many built-in functions; you can also create your own. \n",
        "\n",
        "Python has an input function which lets you ask a user for some text input. You call this function to tell the program to stop and wait for the user to key in the data.\n",
        "\n",
        " In Python 2, you have a built-in function raw_input(), whereas in Python 3, you have input(). The program will resume once the user presses the ENTER or RETURN key.\n",
        "\n",
        " **Input Function**\n",
        "\n",
        "input(prompt=None,/). \n",
        "\n",
        "Read a string from standard input. The trailing newline is stripped. \n",
        "\n",
        "The prompt string, if given, is printed to standard output without a trailing newline before reading input. \n",
        "\n",
        "If the user hits EOF (*nix: Ctrl-D, Windows: Ctrl Z+Return), raise EOFError."
      ]
    },
    {
      "cell_type": "code",
      "metadata": {
        "colab": {
          "base_uri": "https://localhost:8080/"
        },
        "id": "JN71AY1mYrqd",
        "outputId": "74d82ea1-a3e1-4b27-8d8a-746315eb1b1b"
      },
      "source": [
        " x1=7\n",
        "x2=45\n",
        "y1=65\n",
        "y2=20\n",
        "z=(pow((x2-x1),2)+pow((y2-y1),2))**0.5\n",
        "print(z)"
      ],
      "execution_count": null,
      "outputs": [
        {
          "output_type": "stream",
          "text": [
            "58.89821729050889\n"
          ],
          "name": "stdout"
        }
      ]
    },
    {
      "cell_type": "markdown",
      "metadata": {
        "id": "yAnjJq8P6DdH"
      },
      "source": [
        "b) Write a program add.py that takes 2 numbers as command line arguments and prints its sum"
      ]
    },
    {
      "cell_type": "markdown",
      "metadata": {
        "id": "cOetmwLG6E1j"
      },
      "source": [
        " The arguments that are given after the name of the program in the command line shell of the operating system are known as Command Line Arguments. Python provides various ways of dealing with these types of arguments. The three most common are: \n",
        " \n",
        "Using sys.argv\n",
        " \n",
        "Using getopt module\n",
        " \n",
        "Using argparse module\n",
        " \n",
        "Using sys.argv\n",
        " \n",
        "The sys module provides functions and variables used to manipulate different parts of the Python runtime environment. This module provides access to some variables used or maintained by the interpreter and to functions that interact strongly with the interpreter.\n",
        " \n",
        "One such variable is sys.argv which is a simple list structure. It’s main purpose are:\n",
        " \n",
        "* It is a list of command line arguments.\n",
        " \n",
        "* len(sys.argv) provides the number of command line arguments.\n",
        " \n",
        "* sys.argv[0] is the name of the current Python script."
      ]
    },
    {
      "cell_type": "code",
      "metadata": {
        "colab": {
          "base_uri": "https://localhost:8080/"
        },
        "id": "oPdIQVSPYvcm",
        "outputId": "4ca0352a-9bb4-46c7-e234-eed2239be72f"
      },
      "source": [
        " import math\n",
        "x1=int(input(\"enter  x1 value:\"))\n",
        "x2=int(input(\"enter  x2 value:\"))\n",
        "y1=int(input(\"enter  y1 value:\"))\n",
        "y2=int(input(\"enter  y2 value:\"))\n",
        "z=math.sqrt((x2-x1)**2+(y2-y1)**2)\n",
        "print(\"the distance between two points is :\",z)\n",
        "print(\"the distance between two points is :\",z,sep='\\t')\n",
        "print(\"the distance between ({}, {})and ({},{}) is  :{}\".format(x1,y1,x2,y2,z))\n",
        " \n",
        "print(\"the distance between (%d, %d)and (%d,%d) is  :%f\"%(x1,y1,x2,y2,z))"
      ],
      "execution_count": null,
      "outputs": [
        {
          "output_type": "stream",
          "text": [
            "enter  x1 value:3\n",
            "enter  x2 value:4\n",
            "enter  y1 value:5\n",
            "enter  y2 value:8\n",
            "the distance between two points is : 3.1622776601683795\n",
            "the distance between two points is :\t3.1622776601683795\n",
            "the distance between (3, 5)and (4,8) is  :3.1622776601683795\n",
            "the distance between (3, 5)and (4,8) is  :3.162278\n"
          ],
          "name": "stdout"
        }
      ]
    },
    {
      "cell_type": "code",
      "metadata": {
        "id": "o0cg6qqiY66c"
      },
      "source": [
        " import sys\n",
        "a=sys.argv[1]\n",
        "b=sys.argv[2]\n",
        "sum=int(a)+int(b)\n",
        "print(\"summ of two number is:\",sum)"
      ],
      "execution_count": null,
      "outputs": []
    },
    {
      "cell_type": "markdown",
      "metadata": {
        "id": "UdpOSTs7Y7sk"
      },
      "source": [
        "   EXCERSCISE-3 A) Write a Program for checking whether the given number is an even number or not.                   b) Using a for loop, write a program that prints out the decimal equivalents of 1/2, 1/3, 1/4, . . .1/10.           c) Write a program using a for loop that loops over a sequence. What is sequence? d) Write a program using a while loop that asks the user for a number, and prints a countdownfrom that number to zero"
      ]
    },
    {
      "cell_type": "markdown",
      "metadata": {
        "id": "pXPNOaGl6QdM"
      },
      "source": [
        "**DESCRIPTION:**"
      ]
    },
    {
      "cell_type": "markdown",
      "metadata": {
        "id": "igFn3Dgy6SO3"
      },
      "source": [
        " **if..else Statement**\n",
        "When there is an alternate operation in control flow, use an else statement alongside with if statement. The general format is\n",
        "\n",
        "if condition:\n",
        "\n",
        "        true statement\n",
        "\n",
        "else:\n",
        "\n",
        "         false statement"
      ]
    },
    {
      "cell_type": "code",
      "metadata": {
        "colab": {
          "base_uri": "https://localhost:8080/"
        },
        "id": "kU4vDi1jY_HD",
        "outputId": "1d3e7d5a-0edb-4a10-f0b4-e5f564b3cde5"
      },
      "source": [
        "  n=int(input(\"enter a number:\"))\n",
        "if (n%2)==0:\n",
        "        print(\"given number is even\")\n",
        "else:\n",
        "      print(\"given number is odd\")"
      ],
      "execution_count": null,
      "outputs": [
        {
          "output_type": "stream",
          "text": [
            "enter a number:6\n",
            "given number is even\n"
          ],
          "name": "stdout"
        }
      ]
    },
    {
      "cell_type": "markdown",
      "metadata": {
        "id": "StlbM46d6ZPy"
      },
      "source": [
        "b) Using a for loop, write a program that prints out the decimal equivalents of 1/2, 1/3, 1/4, . . .1/10"
      ]
    },
    {
      "cell_type": "markdown",
      "metadata": {
        "id": "gqdgdFXV6etT"
      },
      "source": [
        "**DESCRIPTION**"
      ]
    },
    {
      "cell_type": "markdown",
      "metadata": {
        "id": "7WQhpzFW6f7H"
      },
      "source": [
        " **For Loop:**\n",
        "For loops can iterate over a sequence of numbers using the \"range\" and \"xrange\" functions. The difference between range and xrange is that the range function returns a new list with numbers of that specified range, whereas xrange returns an iterator, which is more efficient. \n",
        " \n",
        "The general format is\n",
        " \n",
        "for x in range(start,stop,step):\n",
        " \n",
        "statements"
      ]
    },
    {
      "cell_type": "code",
      "metadata": {
        "colab": {
          "base_uri": "https://localhost:8080/"
        },
        "id": "sjFGOOA3ZDqp",
        "outputId": "f901e6ce-d80c-49d9-8053-d843911e2c89"
      },
      "source": [
        " n=int(input(\"enter a number:\"))\n",
        "for i in range(2,n):\n",
        "    de=1/i;\n",
        "    print(\"1/\",i,\"=\",de)"
      ],
      "execution_count": null,
      "outputs": [
        {
          "output_type": "stream",
          "text": [
            "enter a number:7\n",
            "1/ 2 = 0.5\n",
            "1/ 3 = 0.3333333333333333\n",
            "1/ 4 = 0.25\n",
            "1/ 5 = 0.2\n",
            "1/ 6 = 0.16666666666666666\n"
          ],
          "name": "stdout"
        }
      ]
    },
    {
      "cell_type": "markdown",
      "metadata": {
        "id": "GB3JBsxo6tHG"
      },
      "source": [
        " c) Write a program using a for loop that loops over a sequence. What is sequence?"
      ]
    },
    {
      "cell_type": "markdown",
      "metadata": {
        "id": "UKx_0eBd6uMv"
      },
      "source": [
        " **DESCRIPTION:**\n",
        " \n",
        "**For Loop:**\n",
        "For loops can iterate over a sequence of numbers using the \"range\" and \"xrange\" functions. The difference between range and xrange is that the range function returns a new list with numbers of that specified range, whereas xrange returns an iterator, which is more efficient. \n",
        " \n",
        "The general format is\n",
        " \n",
        "for x in range(start,stop,step):\n",
        " \n",
        "statements"
      ]
    },
    {
      "cell_type": "code",
      "metadata": {
        "colab": {
          "base_uri": "https://localhost:8080/"
        },
        "id": "z-ESh9vuZKz_",
        "outputId": "9bbb749c-028a-4e6b-cbe7-4fe857f6e3c0"
      },
      "source": [
        " #program using a for a loop that loops over a sequence\n",
        "print(\"loop sequence\")\n",
        "num=[45,25,2,28,3,25]\n",
        "for i in num:\n",
        "    print(i)\n",
        " \n",
        "#string sequence\n",
        "print(\"string sequence\")\n",
        "days=[\"sun\",\"mon\",\"tue\",\"wed\",\"thur\",\"fri\",\"st\"]\n",
        "for d in days:\n",
        "    print(d)\n",
        "    \n",
        "#bothh sequence\n",
        "print(\"sequence\")\n",
        "arr=[123,\"abc\",5.6,'h',-33,\"xy\",True]\n",
        "for x in arr:\n",
        "      print(x)"
      ],
      "execution_count": null,
      "outputs": [
        {
          "output_type": "stream",
          "text": [
            "loop sequence\n",
            "45\n",
            "25\n",
            "2\n",
            "28\n",
            "3\n",
            "25\n",
            "string sequence\n",
            "sun\n",
            "mon\n",
            "tue\n",
            "wed\n",
            "thur\n",
            "fri\n",
            "st\n",
            "sequence\n",
            "123\n",
            "abc\n",
            "5.6\n",
            "h\n",
            "-33\n",
            "xy\n",
            "True\n"
          ],
          "name": "stdout"
        }
      ]
    },
    {
      "cell_type": "markdown",
      "metadata": {
        "id": "z_FnY5z_61me"
      },
      "source": [
        "D) Write a program using a while loop that asks the user for a number, and prints a countdownfrom that number to zero."
      ]
    },
    {
      "cell_type": "markdown",
      "metadata": {
        "id": "FjCTGrUM658l"
      },
      "source": [
        "**DESCRIPTION:**\n",
        " \n",
        " While Loop is used to execute a block of statements repeatedly until a given condition is satisfied. And when the condition becomes false, the line immediately after the loop in the program is executed. While loop falls under the category of indefinite iteration\n",
        " \n",
        " The syntax for a while loop is: \n",
        " \n",
        " while [ condition]"
      ]
    },
    {
      "cell_type": "code",
      "metadata": {
        "colab": {
          "base_uri": "https://localhost:8080/"
        },
        "id": "nM6wzljWZM7e",
        "outputId": "8fccc246-d125-4a72-bac7-715da444cb99"
      },
      "source": [
        " #countdown seq\n",
        "n=int(input(\"enter the number:\"))\n",
        "while n>0:\n",
        "      print(n)\n",
        "      n=n-1"
      ],
      "execution_count": null,
      "outputs": [
        {
          "output_type": "stream",
          "text": [
            "enter the number:4\n",
            "4\n",
            "3\n",
            "2\n",
            "1\n"
          ],
          "name": "stdout"
        }
      ]
    },
    {
      "cell_type": "code",
      "metadata": {
        "colab": {
          "base_uri": "https://localhost:8080/"
        },
        "id": "X4PTjcntZVdY",
        "outputId": "e53dd88f-51d4-4430-82d1-ec8d7d2ac0cf"
      },
      "source": [
        " n=int(input(\"enter a num:\"))\n",
        "a=0\n",
        "b=1\n",
        "c=a+b\n",
        "st=\"\"\n",
        "sum=0\n",
        "con=0\n",
        "while con<=n:\n",
        "    st+=\"\"+str(c)\n",
        "    sum+=c        \n",
        "    a=b\n",
        "    b=c \n",
        "    c=a+b\n",
        "    con+=1\n",
        "print(st)\n",
        "print(\"sum of fibonacii series:\",sum)"
      ],
      "execution_count": null,
      "outputs": [
        {
          "output_type": "stream",
          "text": [
            "enter a num:4\n",
            "12358\n",
            "sum of fibonacii series: 19\n"
          ],
          "name": "stdout"
        }
      ]
    },
    {
      "cell_type": "markdown",
      "metadata": {
        "id": "b3Egdnyz7CtB"
      },
      "source": [
        "Ex 4.     \n",
        "Aim:"
      ]
    },
    {
      "cell_type": "markdown",
      "metadata": {
        "id": "YMLiYssw7Bi1"
      },
      "source": [
        "a) Find the sum of all the primes below two million. Each new term in the Fibonacci sequence is generated by adding the previous two terms. Bystarting with 1 and 2, the first 10 terms will be: 1, 2, 3, 5, 8, 13, 21, 34, 55, 89, ..."
      ]
    },
    {
      "cell_type": "markdown",
      "metadata": {
        "id": "tctx8WkL7Hcw"
      },
      "source": [
        " **DESCRIPTION:**\n",
        " \n",
        "A Fibonacci sequence is the integer sequence of 0, 1, 1, 2, 3, 5, 8....\n",
        " \n",
        "The first two terms are 0 and 1. All other terms are obtained by adding the preceding two terms. This means to say the nth term is the sum of (n-1)th and (n-2)th term\n",
        " \n",
        "Here, we store the number of terms in nterms. We initialize the first term to 0 and the second term to 1.\n",
        " \n",
        "If the number of terms is more than 2, we use a while loop to find the next term in the sequence by adding the preceding two terms. We then interchange the variables (update it) and continue on with the process."
      ]
    },
    {
      "cell_type": "code",
      "metadata": {
        "id": "TIc5-GlyZcuE"
      },
      "source": [
        "  n=int(input(\"enter a number:\"))\n",
        "c=0\n",
        " \n",
        " \n",
        "st=\"\"\n",
        "sum=0\n",
        " \n",
        "for i in range(2,n):\n",
        " state=True\n",
        "for j in range(2,i):\n",
        " if(i%j==0):\n",
        "        state=False\n",
        "        break;\n",
        "if state==True:\n",
        "            st+=\"\"+str(i)\n",
        "            c+=1\n",
        "            sum+=i\n",
        " \n",
        "print(\"prime numbers\")\n",
        "print(st)\n",
        " \n",
        "print(\"total count of the prime numbers:\",c)\n",
        "print(\"sum of all prime nums:\",sum)"
      ],
      "execution_count": null,
      "outputs": []
    },
    {
      "cell_type": "markdown",
      "metadata": {
        "id": "2NDzsBtO7OzE"
      },
      "source": [
        "b) By considering the terms in the Fibonacci sequence whose values do not exceed four million,find\n",
        "the sum of the even-valued terms."
      ]
    },
    {
      "cell_type": "markdown",
      "metadata": {
        "id": "jW9dgb7b7Pmm"
      },
      "source": [
        " **DESCRIPTION:**\n",
        " \n",
        "A Fibonacci sequence is the integer sequence of 0, 1, 1, 2, 3, 5, 8....\n",
        " \n",
        "The first two terms are 0 and 1. All other terms are obtained by adding the preceding two terms. This means to say the nth term is the sum of (n-1)th and (n-2)th term\n",
        " \n",
        "Here, we store the number of terms in nterms. We initialize the first term to 0 and the second term to 1.\n",
        " \n",
        "If the number of terms is more than 2, we use a while loop to find the next term in the sequence by adding the preceding two terms. We then interchange the variables (update it) and continue on with the process."
      ]
    },
    {
      "cell_type": "code",
      "metadata": {
        "colab": {
          "base_uri": "https://localhost:8080/"
        },
        "id": "-TTTWhwb7ZfR",
        "outputId": "9ab16646-0f25-4f46-97aa-95bb1ce91c40"
      },
      "source": [
        "n=int(input(\"Enter value of n: \"))\n",
        "a=0\n",
        "b=1\n",
        "c=a+b\n",
        "sum=0\n",
        "print(\"Even numbers in Fibonacci series:\\t \",end='')\n",
        "while c<=n:\n",
        "    if c%2==0:\n",
        "        print(c,end=' ')\n",
        "        sum+=c\n",
        "    a=b\n",
        "    b=c\n",
        "    c=a+b\n",
        "print(\"\\nsum of Fibonacci Series is: \",sum)"
      ],
      "execution_count": 1,
      "outputs": [
        {
          "output_type": "stream",
          "name": "stdout",
          "text": [
            "Enter value of n: 4\n",
            "Even numbers in Fibonacci series:\t 2 \n",
            "sum of Fibonacci Series is:  2\n"
          ]
        }
      ]
    },
    {
      "cell_type": "markdown",
      "metadata": {
        "id": "45ouXywY7t_I"
      },
      "source": [
        " ## **Exercise - 5 - DS**"
      ]
    },
    {
      "cell_type": "markdown",
      "metadata": {
        "id": "1Z1PeT8j7oOC"
      },
      "source": [
        "**AIM:**"
      ]
    },
    {
      "cell_type": "markdown",
      "metadata": {
        "id": "v3q-KkW47rvf"
      },
      "source": [
        "a) Write a program to count the numbers of characters in the string and store them in adictionary data\n",
        "structure"
      ]
    },
    {
      "cell_type": "markdown",
      "metadata": {
        "id": "tzZhF2pA7xWL"
      },
      "source": [
        " **DESCRIPTION:**\n",
        "\n",
        "Given a string, the task is to find the frequencies of all the characters in that string and return a dictionary with key as the character and its value as its frequency in the given string.\n",
        "\n",
        "Method #1 : Naive method\n",
        "\n",
        "Simply iterate through the string and form a key in dictionary of newly occurred element or if element is already occurred, increase its value by 1.\n",
        "\n",
        "Method #2 : Using collections.Counter()\n",
        "\n",
        "The most suggested method that could be used to find all occurrences is this method, this actually gets all element frequency and could also be used to print single element frequency if required."
      ]
    },
    {
      "cell_type": "code",
      "metadata": {
        "colab": {
          "base_uri": "https://localhost:8080/"
        },
        "id": "z1PWpKolZj-e",
        "outputId": "2d683ea9-c770-4f7e-81aa-ed66d0b5c003"
      },
      "source": [
        " name=input(\"enter a name:\")\n",
        "dic={}\n",
        "for ch in name:\n",
        "    keys=dic.keys()\n",
        " \n",
        "    if(ch in keys):\n",
        "        dic[ch]=dic[ch]+1\n",
        "    else:\n",
        "        dic[ch]=1\n",
        " \n",
        "print(\"dictinarry is:\",dic)"
      ],
      "execution_count": null,
      "outputs": [
        {
          "output_type": "stream",
          "text": [
            "enter a name:Cseb\n",
            "dictinarry is: {'C': 1, 's': 1, 'e': 1, 'b': 1}\n"
          ],
          "name": "stdout"
        }
      ]
    },
    {
      "cell_type": "markdown",
      "metadata": {
        "id": "Y8-xhlRP71w6"
      },
      "source": [
        " b) Write a program to use split and join methods in the string and trace a birthday with adictionary\n",
        "data structure"
      ]
    },
    {
      "cell_type": "markdown",
      "metadata": {
        "id": "scVguMDY75BY"
      },
      "source": [
        " **DESCRIPTION:**\n",
        "\n",
        "Python program to Split a string based on a delimiter and join the string using another delimiter.\n",
        "\n",
        "Split a string can be quite useful sometimes, especially when you need only certain parts of strings. A simple yet effective example is splitting the First-name and Last-name of a person. Another application is CSV(Comma Separated Files). We use split to get data from CSV and join to write data to CSV.\n",
        "\n",
        "In Python, we can use the function split() to split a string and \n",
        "\n",
        "join() to join a string."
      ]
    },
    {
      "cell_type": "code",
      "metadata": {
        "id": "DYy-xR1LZqjt"
      },
      "source": [
        " dob={\"rupa\":\"24-08-2001\",\"naveen\":\"07-10-2005\"}\n",
        "name=input(\"enter which person dob u want:\")\n",
        "l=name.split()\n",
        "birth=\"\"\n",
        "for i in l:\n",
        "    if i in dob.keys():\n",
        "        pers=i\n",
        " \n",
        "print(\"\".join([pers,\"birthdayis:\",dob[pers]]))"
      ],
      "execution_count": null,
      "outputs": []
    },
    {
      "cell_type": "markdown",
      "metadata": {
        "id": "-HDem7In8CEu"
      },
      "source": [
        "## **Exercise - 6 DS - Continued**\n",
        " \n",
        "**AIM:**\n",
        " \n",
        "a) Write a program combinelists that combines these lists into a dictionary."
      ]
    },
    {
      "cell_type": "markdown",
      "metadata": {
        "id": "d_Q4WDhn8DsP"
      },
      "source": [
        " **DESCRIPTION:**\n",
        "\n",
        "For this, simply declare a dictionary, and then run nested loop for both the lists and assign key and value pairs to from list values to dictionary.\n",
        "\n",
        "Most pythonic and generic method to perform this very task is by using zip(). This function pairs the list element with other list element at corresponding index in form of key-value pairs."
      ]
    },
    {
      "cell_type": "code",
      "metadata": {
        "colab": {
          "base_uri": "https://localhost:8080/"
        },
        "id": "WjD4TsQYZ8Vq",
        "outputId": "1ad3868c-dc5b-4788-f645-631a2badd9d6"
      },
      "source": [
        " sub=[\"daa\",\"os\",\"dbms\",\"p&s\",\"ppl\",\"se\"]\n",
        "marks=[85,96,75,65,83,56]\n",
        "print(sub)\n",
        "print(marks)\n",
        "dic=dict(zip(sub,marks))\n",
        "print(dic)"
      ],
      "execution_count": null,
      "outputs": [
        {
          "output_type": "stream",
          "text": [
            "['daa', 'os', 'dbms', 'p&s', 'ppl', 'se']\n",
            "[85, 96, 75, 65, 83, 56]\n",
            "{'daa': 85, 'os': 96, 'dbms': 75, 'p&s': 65, 'ppl': 83, 'se': 56}\n"
          ],
          "name": "stdout"
        }
      ]
    },
    {
      "cell_type": "markdown",
      "metadata": {
        "id": "-hUCtp7R8IsL"
      },
      "source": [
        " b) Write a program to count frequency of characters in a given file. Can you use characterfrequency to\n",
        "tell whether the given file is a Python program file, C program file or a text file?"
      ]
    },
    {
      "cell_type": "markdown",
      "metadata": {
        "id": "zsk7J8VN8R9l"
      },
      "source": [
        " **DESCRIPTION:**\n",
        " \n",
        "approaches to count the number of times a letter appears in a text file in Python.\n",
        " \n",
        "Method 1: Using the in-built count() method.\n",
        " \n",
        "**Approach:**\n",
        " \n",
        "1. Read the file.\n",
        "2. Store the content of the file in a variable.\n",
        "3. Use the count() method with the argument as a letter whose frequency is required.\n",
        "4. Display the count of the letter."
      ]
    },
    {
      "cell_type": "code",
      "metadata": {
        "id": "HVzEyhClSDvc"
      },
      "source": [
        " \n",
        " filetypes=['.py','.c','.txt']\n",
        "fn=input(\"enter a file name:\")\n",
        "f=open(fn,\"r\")\n",
        "count=dict()\n",
        "for  ft in filetypes:\n",
        "     if(ft in  fn):\n",
        "           if(ft==\".py\"):\n",
        "             print(\"python file\")\n",
        "           elif(ft==\".c\"):\n",
        "             print(\"cfile\")\n",
        "           elif(ft==\".txt\"):\n",
        "             print(\"text file\")\n",
        " \n",
        " \n",
        "for line in f:\n",
        "     for ch in line:\n",
        "          if ch in count:\n",
        "               count[ch]=count[ch]+1\n",
        " \n",
        "          else:\n",
        "              count[ch]=1\n",
        " \n",
        " \n",
        "print(count)\n",
        "f.close()"
      ],
      "execution_count": null,
      "outputs": []
    },
    {
      "cell_type": "markdown",
      "metadata": {
        "id": "DZ82-iaq8ZR9"
      },
      "source": [
        "## **Exercise - 7 Files**\n",
        "\n",
        "**AIM**\n",
        "\n",
        "a) Write a program to print each line of a file in reverse order."
      ]
    },
    {
      "cell_type": "markdown",
      "metadata": {
        "id": "8O53hCza8awz"
      },
      "source": [
        " **DESCRIPTION:**\n",
        " \n",
        "The file handling plays an important role when the data needs to be stored permanently into the\n",
        "file. A file is a named location on disk to store related information. We can access the stored\n",
        "information (non-volatile) after the program termination.\n",
        "In Python, files are treated in two modes as text or binary. The file may be in the text or binary\n",
        "format, and each line of a file is ended with the special character.\n",
        "Hence, a file operation can be done in the following order.\n",
        " \n",
        " Open a file\n",
        " \n",
        " Read or write - Performing operation\n",
        " \n",
        " Close the file"
      ]
    },
    {
      "cell_type": "code",
      "metadata": {
        "id": "pAfnByyJ85jS"
      },
      "source": [
        "obj=open(\"abc.txt\",\"r\")\n",
        "if obj:\n",
        "  st=obj.read()\n",
        "  print(\"File content is:\\n\",st)\n",
        "obj.close()\n",
        "print()\n",
        "lines=st.split('\\n')\n",
        "for ln in lines:\n",
        "  i=len(ln)-1\n",
        "  while(i>=0):\n",
        "    print(ln[i],end=\"\")\n",
        "    i=i-1\n",
        "  print()"
      ],
      "execution_count": null,
      "outputs": []
    },
    {
      "cell_type": "markdown",
      "metadata": {
        "id": "Zpzm5seN9BUQ"
      },
      "source": [
        "b) Write a program to compute the number of characters, words and lines in a file"
      ]
    },
    {
      "cell_type": "markdown",
      "metadata": {
        "id": "V_TkQqmD9Etb"
      },
      "source": [
        "Description:     \n",
        "Given a text file fname, the task is to count the total number of characters, words, spaces and lines in the file.\n",
        " \n",
        "As we know, Python provides multiple in-built features and modules for handling files. Let’s discuss different ways to calculate total number of characters, words, spaces and lines in a file using Python.\n",
        " \n",
        "Method #1: Naive approach\n",
        " \n",
        "In this approach, the idea is to solve the task by developing our own logic. Without using any built-in function of Python, the total number of characters, words, spaces and lines of the file will be calculated.\n",
        " \n",
        "Method #2: Using some built-in functions and OS module functions\n",
        " \n",
        "In this approach, the idea is to use the os.linesep() method of OS module to separate the lines on the current platform. When the interpreter’s scanner encounter os.linesep it replaces it with \\n character. After that strip() and split() functions will be used to carry out the task."
      ]
    },
    {
      "cell_type": "code",
      "metadata": {
        "id": "I7KjHyTVaNHe"
      },
      "source": [
        " obj=open(\"sam.txt\",\"r\")\n",
        "if obj:\n",
        "    st=obj.read()\n",
        "    print(\"file content is:\")\n",
        "obj.close()\n",
        "print()\n",
        "nc=nw=nl=0\n",
        "for ch in st:\n",
        "    if(ch):\n",
        "        nc=nc+1\n",
        "    if(ch==''):\n",
        "        nw=nw+1\n",
        "    if(ch=='\\n'):\n",
        "        nl=nl+1\n",
        " \n",
        "print(\"number of characters in a file:\",nc)\n",
        "print(\"number of words in file is:\",nw)\n",
        "print(\"number of lines ins file:\",nl)"
      ],
      "execution_count": null,
      "outputs": []
    },
    {
      "cell_type": "markdown",
      "metadata": {
        "id": "MH1VenAm9Rrv"
      },
      "source": [
        "## **Exercise - 8 Functions**\n",
        " \n",
        "**AIM:**\n",
        " \n",
        "a) Write a function ball collide that takes two balls as parameters and computes if they arecolliding.\n",
        "Your function should return a Boolean representing whether or not the balls arecolliding.\n",
        " \n",
        " \n",
        " \n",
        " \n",
        "*Hint: Represent a ball on a plane as a tuple of (x, y, r), r being the radius\n",
        "If (distance between two balls centers) <= (sum of their radii) then (they are colliding)*"
      ]
    },
    {
      "cell_type": "markdown",
      "metadata": {
        "id": "nhiTdfSH9YgC"
      },
      "source": [
        " **DESCRIPTION**\n",
        " \n",
        "**Functions**\n",
        "A function in python is a block of code that is defined for doing frequent operations in a\n",
        "particular task. The general format is\n",
        " \n",
        "def  Functionname(arguments):\n",
        " \n",
        "      Statements\n",
        " \n",
        "**Calling a Function:**\n",
        " \n",
        "A function can be called by its name followed by arguments within parenthesis.\n",
        " \n",
        "function()"
      ]
    },
    {
      "cell_type": "code",
      "metadata": {
        "colab": {
          "base_uri": "https://localhost:8080/"
        },
        "id": "mHve8-tfaTTG",
        "outputId": "986d0d7b-fe65-4702-93e3-6eec39f2673a"
      },
      "source": [
        " import math\n",
        "def ballcollide(b1tup,b2tup):\n",
        "    x1=b1tup[0]\n",
        "    y1=b1tup[1]\n",
        "    x2=b2tup[0]\n",
        "    y2=b2tup[1]\n",
        "    r1=b1tup[2]\n",
        "    r2=b2tup[2]\n",
        " \n",
        " \n",
        "    d=math.sqrt((x2-x1)**2+(y2-y1)**2)\n",
        "    if(d<=r1+r2):\n",
        "      return True\n",
        "    else:\n",
        "        return False\n",
        " \n",
        " \n",
        "ball1=(1,2,3)\n",
        "ball2=(3,2,1)\n",
        "c=ballcollide(ball1,ball2)\n",
        "if(c):\n",
        "    print(\"balls are collided\")\n",
        "else:\n",
        "    print(\"ball are not collided\")"
      ],
      "execution_count": null,
      "outputs": [
        {
          "output_type": "stream",
          "text": [
            "balls are collided\n"
          ],
          "name": "stdout"
        }
      ]
    },
    {
      "cell_type": "markdown",
      "metadata": {
        "id": "EgBmXVMC9hNm"
      },
      "source": [
        "b) Find mean, median, mode for the given set of numbers in a list"
      ]
    },
    {
      "cell_type": "markdown",
      "metadata": {
        "id": "AuYgleMx9h8K"
      },
      "source": [
        " **DESCRIPTION**\n",
        " \n",
        "Mean : The mean is the average of all numbers and is sometimes called the arithmetic mean. This code calculates Mean or Average of a list containing numbers:\n",
        " \n",
        "Median : The median is the middle number in a group of numbers. This code calculates Median of a list containing numbers:\n",
        " \n",
        "Mode : The mode is the number that occurs most often within a set of numbers. This code calculates Mode of a list containing numbers:\n",
        " \n",
        "We will import Counter from collections library which is a built-in module in Python 2 and 3. This module will help us count duplicate elements in a list.\n",
        "We define a list of numbers and calculate the length of the list. We then call Counter (a dict subclass) which helps to count hashable objects, and we then convert it to dict object. We then initialize a list with a For Loop to compare all the dict values (Number of elements) to the max of all dict values (count of most occurring element) and it returns all the elements equal to max count. If the elements returned are equal to the number of total elements in a list then we print out ‘No mode’, else we print out the modes returned."
      ]
    },
    {
      "cell_type": "code",
      "metadata": {
        "id": "uD8bmoHjacjg",
        "colab": {
          "base_uri": "https://localhost:8080/"
        },
        "outputId": "dcd20bfc-cd6e-4fb1-df10-bc20b962bc27"
      },
      "source": [
        " \n",
        " def mean(numlist):\n",
        "    return sum(numlist)/len(numlist)\n",
        "def median(numlist):\n",
        "    numlist.sort()\n",
        "    print(numlist)\n",
        "    n=len(numlist)\n",
        "    print(\"total\",n)\n",
        "    mid=n//2\n",
        "    print(\"mid:\",mid)\n",
        "    if(n%2==0):\n",
        "        return numlist[mid]\n",
        "    else:\n",
        "        return (numlist[mid-1]+numlist[mid])/2\n",
        "def mode(numlist):\n",
        "    numlist.sort()\n",
        "    temp=[]\n",
        "    i=0\n",
        "    while i<len(numlist):\n",
        "        temp.append(numlist.count(numlist[i]))\n",
        "        i+=1\n",
        "    dic=dict(zip(numlist,temp))\n",
        "    modes={k for k, v in dic.items() if(v==max(temp))}\n",
        "    return modes\n",
        "list=[1,1,2,2,3,4,5,3,3]\n",
        "print(\"mean of guive list:\",mean(list))\n",
        "print(\"median of guive list:\",median(list))\n",
        " \n",
        "print(\"mode of guive list:\",mode(list))"
      ],
      "execution_count": null,
      "outputs": [
        {
          "output_type": "stream",
          "text": [
            "mean of guive list: 2.6666666666666665\n",
            "[1, 1, 2, 2, 3, 3, 3, 4, 5]\n",
            "total 9\n",
            "mid: 4\n",
            "median of guive list: 2.5\n",
            "mode of guive list: {3}\n"
          ],
          "name": "stdout"
        }
      ]
    },
    {
      "cell_type": "markdown",
      "metadata": {
        "id": "QUOCFRZL9rhY"
      },
      "source": [
        "# **Exercise - 9 Functions - Continued**\n",
        "\n",
        "**AIM:**\n",
        "\n",
        "a) Write a function nearly equal to test whether two strings are nearly"
      ]
    },
    {
      "cell_type": "markdown",
      "metadata": {
        "id": "L5zV7MIT9t-c"
      },
      "source": [
        " **DESCRIPTION:**\n",
        "\n",
        "strlen() function is used to check wether the two string are nearly equal or not by basis of the Length of those Strings\n",
        "\n",
        "len() function is an inbuilt function in Python programming language that returns the length of the string.\n",
        "\n",
        "len() is a built-in function in python.You can use the len() to get the length of the given string, array, list, tuple, dictionary, etc.\n",
        "\n",
        "Value: the given value you want the length of.\n",
        "\n",
        "Return value a return an integer value i.e. the length of the given string, or array, or list, or collections.\n",
        "\n",
        "Syntax:\n",
        "\n",
        "len(string)"
      ]
    },
    {
      "cell_type": "code",
      "metadata": {
        "colab": {
          "base_uri": "https://localhost:8080/"
        },
        "id": "4zU42pCxaiAi",
        "outputId": "44fdb3bb-f58c-405a-c023-19d710c67726"
      },
      "source": [
        " def nearlyeq(str1,str2):\n",
        "    count=0\n",
        "    i=j=0\n",
        "    ss=0\n",
        "    while(i<len(str1)and j<len(str2)):\n",
        "        if(str1[i]!=str2[j]):\n",
        "            count+=1\n",
        "        if(len(str1)>len(str2)):\n",
        "            i+=1\n",
        " \n",
        "        elif(len(str1)==len(str2)):\n",
        "            pass\n",
        "        else:\n",
        "            i-=1     \n",
        "        if(count>1):\n",
        "             ss-=1\n",
        "             \n",
        "        i+=1\n",
        "        j+=1\n",
        "        if(count<2):\n",
        "             ss+=1\n",
        " \n",
        "    return ss\n",
        "s1=input(\"enter a string 1:\")\n",
        "s2=input(\"enter the string2:\")\n",
        "t=nearlyeq(s1,s2)\n",
        "if(t>1):\n",
        "    print(\"nearly equal0\")\n",
        "else:\n",
        "    print(\"not nearly equal\")"
      ],
      "execution_count": null,
      "outputs": [
        {
          "output_type": "stream",
          "text": [
            "enter a string 1:Cse\n",
            "enter the string2:Swrn\n",
            "not nearly equal\n"
          ],
          "name": "stdout"
        }
      ]
    },
    {
      "cell_type": "markdown",
      "metadata": {
        "id": "SnvrC48E9x8l"
      },
      "source": [
        " b) Write a function dup to find all duplicates in the list."
      ]
    },
    {
      "cell_type": "markdown",
      "metadata": {
        "id": "PtOFAcH091lI"
      },
      "source": [
        " **DESCRIPTION:**\n",
        "\n",
        "To check if a list contains any duplicate element follow the following steps,\n",
        "\n",
        "1. Add the contents of list in a set.\n",
        "\n",
        "        As set contains only unique elements, so no duplicates will be added   the the set.\n",
        "\n",
        "2. Compare the size of set and list.\n",
        "\n",
        "            If size of list & set is equal then it means no duplicates in list.\n",
        "\n",
        "3. If size of list & set are different then it means yes, there are duplicates in list."
      ]
    },
    {
      "cell_type": "code",
      "metadata": {
        "colab": {
          "base_uri": "https://localhost:8080/"
        },
        "id": "vcOgelNLavEO",
        "outputId": "c95deeda-4111-4ca4-fe0b-878fb1fab87e"
      },
      "source": [
        " def dup(list):\n",
        "  list1=[]\n",
        "  for i in list:\n",
        "    count=list.count(i)\n",
        "    if(count>1 and (i not in list1)):\n",
        "        list1.append(i)\n",
        "        \n",
        "  print(\"the dups int the list are:\",list1)        \n",
        "list2=[1,2,1,2]\n",
        " \n",
        "dup(list2)"
      ],
      "execution_count": null,
      "outputs": [
        {
          "output_type": "stream",
          "text": [
            "the dups int the list are: [1, 2]\n"
          ],
          "name": "stdout"
        }
      ]
    },
    {
      "cell_type": "markdown",
      "metadata": {
        "id": "2_x0eHC396yz"
      },
      "source": [
        " c) Write a function unique to find all the unique elements of a list."
      ]
    },
    {
      "cell_type": "markdown",
      "metadata": {
        "id": "cQIgqSBd9-J3"
      },
      "source": [
        " **DESCRIPTION:**\n",
        " \n",
        "To find the unique in the list .There is a Specific Method i.e.,\n",
        " \n",
        "Method  : Traversal of list\n",
        " \n",
        "Using traversal, we can traverse for every element in the list and check if the element is in the unique_list already if it is not over there, then we can append it in the unique_list. \n",
        " \n",
        "This is done using one for loop and other if statement which check if the value is in the unique list or not which is equivalent to another for loop."
      ]
    },
    {
      "cell_type": "code",
      "metadata": {
        "colab": {
          "base_uri": "https://localhost:8080/"
        },
        "id": "t5SQEx5UazKv",
        "outputId": "449d3a10-da07-4427-c489-88bd8973da39"
      },
      "source": [
        " def unique(list1):\n",
        "  list2={}\n",
        " \n",
        "  for i in list1:\n",
        "    c=list1.count(i)\n",
        "    if c==1:\n",
        "      list2[i]=c\n",
        "  print(\"the unique elements in the list are:\",list2)\n",
        " \n",
        "list=[6,4,3,45,36,25,28,32,75]\n",
        "unique(list)"
      ],
      "execution_count": null,
      "outputs": [
        {
          "output_type": "stream",
          "text": [
            "the unique elements in the list are: {6: 1, 4: 1, 3: 1, 45: 1, 36: 1, 25: 1, 28: 1, 32: 1, 75: 1}\n"
          ],
          "name": "stdout"
        }
      ]
    },
    {
      "cell_type": "markdown",
      "metadata": {
        "id": "yLx10eGW-EYD"
      },
      "source": [
        "## **Exercise - 10 - Functions - Problem Solving**\n",
        "\n",
        "**AIM**:\n",
        "\n",
        "a) Write a function cumulative product to compute cumulative product of a list of numbers."
      ]
    },
    {
      "cell_type": "markdown",
      "metadata": {
        "id": "p231QXMd-Iln"
      },
      "source": [
        "**DESCRIPTION:**\n",
        "\n",
        "A cumulative product is a sequence of partial products of a given sequence. For example, the cumulative products of the sequence. , are , , .. Cumulative products can be implemented in the Wolfram Language as Rest[FoldList[Times, 1, list]]\n",
        "\n",
        "cumprod(A,1) works on successive elements in the columns of A and returns the cumulative products of each column. cumprod(A,2) works on successive elements in the rows of A and returns the cumulative products of each row.\n",
        "\n",
        "umprod() function is used when we want to compute the cumulative product of array elements over a given axis. Syntax : numpy.cumprod(arr, axis=None, dtype=None, out=None) Parameters : arr : [array_like] Array containing numbers whose cumulative product is desired."
      ]
    },
    {
      "cell_type": "code",
      "metadata": {
        "colab": {
          "base_uri": "https://localhost:8080/"
        },
        "id": "tgam2hNBa4nC",
        "outputId": "6e189544-d3e4-46b0-8749-0b54a9b0ea63"
      },
      "source": [
        " def cumulative_product(list1,n):\n",
        "    list2=[]\n",
        "    i=0\n",
        "    list2.append(list1[i])\n",
        "    for i in range(1,n):\n",
        "        v=list1[i]*list2[i-1]\n",
        "        list2.append(v)\n",
        "        \n",
        "    print(list2)\n",
        "list3=[]\n",
        "n=int(input(\"enter size :\"))\n",
        "print(\"enter the data:\")\n",
        "for i in range(0,n):\n",
        "    x=int(input())\n",
        "    list3.append(x)\n",
        "cumulative_product(list3,n)"
      ],
      "execution_count": null,
      "outputs": [
        {
          "output_type": "stream",
          "text": [
            "enter size :4\n",
            "enter the data:\n",
            "34\n",
            "26\n",
            "5\n",
            "78\n",
            "[34, 884, 4420, 344760]\n"
          ],
          "name": "stdout"
        }
      ]
    },
    {
      "cell_type": "markdown",
      "metadata": {
        "id": "9wuO_W1R-Kjh"
      },
      "source": [
        " b) Write a function reverse to reverse a list. Without using the reverse function."
      ]
    },
    {
      "cell_type": "markdown",
      "metadata": {
        "id": "fDN1GMVe-Nl-"
      },
      "source": [
        " **DESCRIPTION:**\n",
        "\n",
        "In this Python code snippet post, we are going to implement a list reverse function from the scratch without using any builtin functions.\n",
        "\n",
        "Let us see how…\n",
        "\n",
        "Iterative solution\n",
        "\n",
        "We can use a for loop to swap the first and last items, the second and the one before the last item and so on until the list is reversed in place. The number of iterations needed is half the list size. If the list has an odd number of items then the middle item will stay in its place."
      ]
    },
    {
      "cell_type": "code",
      "metadata": {
        "colab": {
          "base_uri": "https://localhost:8080/"
        },
        "id": "rG218aQGbHxY",
        "outputId": "d669b8e4-1d7c-49cc-b139-f123a4108e10"
      },
      "source": [
        " def reverse_list(numlist):\n",
        "    temp=list1[::-1]\n",
        "    numlist=temp\n",
        "    return temp\n",
        "list1=[1,2,3,4]\n",
        "print(\"giiven list is :\",list1)\n",
        "print(\"after reverse function:\",reverse_list(list1))\n",
        "print(\"after list is:\",list1)"
      ],
      "execution_count": null,
      "outputs": [
        {
          "output_type": "stream",
          "text": [
            "giiven list is : [1, 2, 3, 4]\n",
            "after reverse function: [4, 3, 2, 1]\n",
            "after list is: [1, 2, 3, 4]\n"
          ],
          "name": "stdout"
        }
      ]
    },
    {
      "cell_type": "markdown",
      "metadata": {
        "id": "4-851oKd-Rdb"
      },
      "source": [
        " c) Write function to compute gcd, lcm of two numbers. Each function shouldn’t exceed one line."
      ]
    },
    {
      "cell_type": "markdown",
      "metadata": {
        "id": "cHdrQHV4-Ukg"
      },
      "source": [
        " **DESCRIPTION:**\n",
        "\n",
        "Python provides you an anonymous function called lambda. It can take any number of\n",
        "arguments, but can only have one expression. It can be used to find LCM and GCD values without exceeding each from from one line.\n",
        "\n",
        "The general format is\n",
        "\n",
        "**lambda arguments: expression**\n",
        "\n",
        "The expression is executed during the function call and the result is returned. \n",
        "\n",
        "**Lambda as a Function**\n",
        "\n",
        "The power of using a lambda expression is implementing it using a function"
      ]
    },
    {
      "cell_type": "code",
      "metadata": {
        "colab": {
          "base_uri": "https://localhost:8080/"
        },
        "id": "h2csVYjnbLr4",
        "outputId": "68e388a7-341b-4e48-ac89-9de9087791c4"
      },
      "source": [
        " gcd=lambda a,b: a if b==0 else gcd(a,a%b)\n",
        "lcm=lambda a,b: (a*b)/gcd(a,b)\n",
        " \n",
        "x=6\n",
        "y=48\n",
        "print(\"gcd=\",gcd(x,y))\n",
        "print(\"lcm=\",lcm(x,y))"
      ],
      "execution_count": null,
      "outputs": [
        {
          "output_type": "stream",
          "text": [
            "gcd= 6\n",
            "lcm= 48.0\n"
          ],
          "name": "stdout"
        }
      ]
    },
    {
      "cell_type": "markdown",
      "metadata": {
        "id": "Wjkis74s-frr"
      },
      "source": [
        " # **Exercise 11 - Multi-D Lists**\n",
        "**AIM**:\n",
        " \n",
        "a) Write a program that defines a matrix and prints"
      ]
    },
    {
      "cell_type": "markdown",
      "metadata": {
        "id": "-y1yTgpz-kcq"
      },
      "source": [
        " **DESCRIPTION:**\n",
        "\n",
        "Lists are a very widely use data structure in python. They contain a list of elements separated by comma. But sometimes lists can also contain lists within them. These are called nested lists or multidimensional lists. In this article we will see how to create and access elements in a multidimensional list.\n",
        "\n",
        "**Methods on Multidimensional lists**\n",
        "\n",
        "1. append(): Adds an element at the end of the list.\n",
        "\n",
        "2. extend(): Add the elements of a list (or any iterable), to the end of the current list.\n",
        "\n",
        "3. reverse(): Reverses the order of the list."
      ]
    },
    {
      "cell_type": "code",
      "metadata": {
        "colab": {
          "base_uri": "https://localhost:8080/"
        },
        "id": "flBHPWV2T6ZZ",
        "outputId": "17fd6910-e199-421b-aad4-d96cdea26f54"
      },
      "source": [
        " \n",
        "matA=[[]]\n",
        "rows=int(input(\"Enter row size of matrix: \"))\n",
        "cols=int(input(\"Enter column size of matrix: \"))\n",
        "matA=[[int(input(\"Enter[%d,%d] value: \"%(i,j)))for j in range(cols)]for i in range(rows)]\n",
        "print(\"matrix is: \")\n",
        "for i in range(rows):\n",
        "  for j in range(cols):\n",
        "    print(matA[i][j],end='\\t')\n",
        "  print()"
      ],
      "execution_count": null,
      "outputs": [
        {
          "output_type": "stream",
          "text": [
            "Enter row size of matrix: 2\n",
            "Enter column size of matrix: 3\n",
            "Enter[0,0] value: 1\n",
            "Enter[0,1] value: 3\n",
            "Enter[0,2] value: 5\n",
            "Enter[1,0] value: 2\n",
            "Enter[1,1] value: 4\n",
            "Enter[1,2] value: 6\n",
            "matrix is: \n",
            "1\t3\t5\t\n",
            "2\t4\t6\t\n"
          ],
          "name": "stdout"
        }
      ]
    },
    {
      "cell_type": "markdown",
      "metadata": {
        "id": "bm0b2TxN-o4j"
      },
      "source": [
        " b) Write a program to perform addition of two square matrices"
      ]
    },
    {
      "cell_type": "markdown",
      "metadata": {
        "id": "06PkQoHQ-sKJ"
      },
      "source": [
        " **DESCRIPTION:**\n",
        " \n",
        "We can perform matrix addition in following ways in Python.  \n",
        " \n",
        "1. Using for loop: \n",
        " \n",
        "**Explanation** :- \n",
        "In this program we have used nested for loops to iterate through each row and each column. At each point we add the corresponding elements in the two matrices and store it in the result.\n",
        " \n",
        "2. Using nested list comprehension :\n",
        " \n",
        " In Python, we can implement a matrix as nested list (list inside a list). We can treat each element as a row of the matrix. \n",
        " \n",
        "**Explanation :-**\n",
        " \n",
        "The output of this program is the same as above. We have used nested list comprehension to iterate through each element in the matrix. List comprehension allows us to write concise codes and we must try to use them frequently in Python. They are very helpful.\n",
        " \n",
        "3. uising zip function\n",
        " \n",
        "**Explanation :**\n",
        " \n",
        "The zip function accepts iterator i of each element(list) of matrix, mapping them, adding them using sum() and storing them in the map form."
      ]
    },
    {
      "cell_type": "code",
      "metadata": {
        "id": "oPfZwsthU621",
        "colab": {
          "base_uri": "https://localhost:8080/"
        },
        "outputId": "0eaed256-a2d3-41a3-cecf-e2768c3e3014"
      },
      "source": [
        " \n",
        "def matRead(r,c):\n",
        "  return[[int(input(\"[%d,%d]value:\"%(i,j)))for j in range(c)]for i in range(r)]\n",
        "def matDisp(mat,r,c):\n",
        "  for i in range(r):\n",
        "    for j in range(c):\n",
        "      print(mat[i][j],end='\\t')\n",
        "    print()\n",
        "matA=[[]]\n",
        "matB=[[]]       \n",
        "matSum=[[]]\n",
        "rows=int(input(\"Enter row size of the matrix: \"))\n",
        "cols=int(input(\"Enter column size of the matrix: \"))\n",
        "if rows==cols:\n",
        "  print(\"Enter Matrix-A elements: \")\n",
        "  matA=matRead(rows,cols)\n",
        " \n",
        "  print(\"Enter Matrix-B elements: \")\n",
        "  matB=matRead(rows,cols)\n",
        " \n",
        "  print(\"Matrix-A is: \")\n",
        "  matDisp(matA,rows,cols)\n",
        " \n",
        "  print(\"Matrix-B is: \")\n",
        "  matDisp(matB,rows,cols)\n",
        "  matSum=[[matA[i][j]+matB[i][j]for j in range(cols)]for i in range(rows)]\n",
        "  print(\"sum of matrices is: \")\n",
        "  matDisp(matSum,rows,cols)\n",
        "else:\n",
        "  print(\"Matrices addition is not possible\")"
      ],
      "execution_count": null,
      "outputs": [
        {
          "output_type": "stream",
          "text": [
            "Enter row size of the matrix: 2\n",
            "Enter column size of the matrix: 2\n",
            "Enter Matrix-A elements: \n",
            "[0,0]value:1\n",
            "[0,1]value:3\n",
            "[1,0]value:6\n",
            "[1,1]value:8\n",
            "Enter Matrix-B elements: \n",
            "[0,0]value:3\n",
            "[0,1]value:6\n",
            "[1,0]value:7\n",
            "[1,1]value:9\n",
            "Matrix-A is: \n",
            "1\t3\t\n",
            "6\t8\t\n",
            "Matrix-B is: \n",
            "3\t6\t\n",
            "7\t9\t\n",
            "sum of matrices is: \n",
            "4\t9\t\n",
            "13\t17\t\n"
          ],
          "name": "stdout"
        }
      ]
    },
    {
      "cell_type": "markdown",
      "metadata": {
        "id": "uMPXBUiP-zi-"
      },
      "source": [
        " c) Write a program to perform multiplication of two square"
      ]
    },
    {
      "cell_type": "markdown",
      "metadata": {
        "id": "i50h1mD--0gK"
      },
      "source": [
        " **DESCRIPTION:**\n",
        "\n",
        "In Python, we can implement a matrix as nested list (list inside a list).\n",
        "\n",
        "We can treat each element as a row of the matrix.\n",
        "\n",
        "For example X = [[1, 2], [4, 5], [3, 6]] would represent a 3x2 matrix.\n",
        "\n",
        "The first row can be selected as X[0]. And, the element in first row, first column can be selected as X[0][0].\n",
        "\n",
        "Multiplication of two matrices X and Y is defined only if the number of columns in X is equal to the number of rows Y.\n",
        "\n",
        "If X is a n x m matrix and Y is a m x l matrix then, XY is defined and has the dimension n x l (but YX is not defined). Here are a couple of ways to implement matrix multiplication in Python."
      ]
    },
    {
      "cell_type": "code",
      "metadata": {
        "colab": {
          "base_uri": "https://localhost:8080/"
        },
        "id": "9i6QaFIMUuYn",
        "outputId": "8b0b5758-715a-43f0-9007-695e7080cf0b"
      },
      "source": [
        " \n",
        "def  matRead(r,c):  \n",
        "  return[[int(input(\"[%d,%d]value: \"%(i,j)))for j in range(c)]for i in range(r)]\n",
        "def matDisp(mat,r,c):\n",
        "  for i in range(r):\n",
        "    for j in range(c):\n",
        "      print(mat[i][j],end='\\t')\n",
        "matA=[[]]\n",
        "matB=[[]]\n",
        "matMul=[[]]\n",
        "rows=int(input(\"Enter row size of the Matrix: \"))\n",
        "cols=int(input(\"Enter column size of the Matrix: \"))\n",
        " \n",
        "if rows==cols:\n",
        "  print(\"Enter Matrix-A:  \")\n",
        "  matA=matRead(rows,cols)\n",
        "  print(\" Enter Matrix-B: \")\n",
        "  matB=matRead(rows,cols)\n",
        " \n",
        "  matMul=[[0 for j in range(cols)]for i in range(rows)]\n",
        "  for i in range(rows):\n",
        "    for j in range(cols):\n",
        "      for k in range(cols):\n",
        "        matMul[i][j]+=matA[i][k]*matB[k][j]\n",
        "  print(\"Matrix-A is: \")\n",
        "  matDisp(matA,rows,cols)\n",
        " \n",
        "  print(\"Matrix-B is: \")\n",
        "  matDisp(matB,rows,cols)\n",
        " \n",
        "  print(\"Multiplication of matrices is: \")\n",
        "  matDisp(matMul,rows,cols)\n",
        "else:\n",
        "  print(\"Matrices Multiplication is not possible is\")"
      ],
      "execution_count": null,
      "outputs": [
        {
          "output_type": "stream",
          "text": [
            "Enter row size of the Matrix: 2\n",
            "Enter column size of the Matrix: 2\n",
            "Enter Matrix-A:  \n",
            "[0,0]value: 1\n",
            "[0,1]value: 3\n",
            "[1,0]value: 2\n",
            "[1,1]value: 7\n",
            " Enter Matrix-B: \n",
            "[0,0]value: 5\n",
            "[0,1]value: 6\n",
            "[1,0]value: 7\n",
            "[1,1]value: 8\n",
            "Matrix-A is: \n",
            "1\t3\t2\t7\tMatrix-B is: \n",
            "5\t6\t7\t8\tMultiplication of matrices is: \n",
            "26\t30\t59\t68\t"
          ],
          "name": "stdout"
        }
      ]
    },
    {
      "cell_type": "markdown",
      "metadata": {
        "id": "sS6sCj2x-5cd"
      },
      "source": [
        " # **Exercise-12-Modules**"
      ]
    },
    {
      "cell_type": "markdown",
      "metadata": {
        "id": "sMYgBObt-92S"
      },
      "source": [
        " **AIM:**"
      ]
    },
    {
      "cell_type": "markdown",
      "metadata": {
        "id": "v--3GO_R_AqJ"
      },
      "source": [
        " a) Install packages requests,flask and explore them using(pip)"
      ]
    },
    {
      "cell_type": "markdown",
      "metadata": {
        "id": "RC_HkAvl_FtI"
      },
      "source": [
        "**DESCRIPTION:**\n",
        " \n",
        "Installing the pip Python package manager on Windows\n",
        "If you are on Windows, and your installed Python the current version, you already have pip! If your Python installation is not the most recent, the easiest thing to do is to simply reinstall it. Download the Python Windows installer at https://www.python.org/downloads/.\n",
        " \n",
        "In Windows, the variable that controls which programs are accessible from the command line is path. To modify your path to include Python and pip, we have to add C:\\Python27 and C:\\Python27\\Tools. Edit the Windows path by opening the Windows menu, right-clicking on Computer and clicking on Properties. Under Advanced system settings, click Environment Variables.... Scroll down until you find Path, double-click it, and add ;C:\\Python27;C:\\Python27\\Tools to the end.\n",
        " \n",
        "**Installing packages:**\n",
        " \n",
        "Suppose you want to install a package called requests (which is used to make HTTP requests). You need to issue the following command.\n",
        " \n",
        "pip install requests\n",
        " \n",
        "**show installed packages**\n",
        " \n",
        "You can use the following command to get information about a installed package, i.e Package name, version, location, dependencies.\n",
        " \n",
        "pip show package_name\n",
        " \n",
        "**install flask**\n",
        " \n",
        "On Mac and Linux, because you are installing programs outside the user-owned folders, you might have to prepend sudo to the install commands. To install Flask, simply run this:\n",
        " \n",
        "$ pip install flask\n",
        " \n",
        "**show installed flask**\n",
        " \n",
        "You can use the following command to get information about a installed flask, i.e Package name, version, location, dependencies\n",
        " \n",
        "$ pip show flask"
      ]
    },
    {
      "cell_type": "markdown",
      "metadata": {
        "id": "xREfy7nwVU3F"
      },
      "source": [
        " Exercise 13- OOP\n",
        " \n",
        "a)Class variables and instance variables and illsustration of the self variable\n",
        " \n",
        "1)Robot"
      ]
    },
    {
      "cell_type": "markdown",
      "metadata": {
        "id": "WyptsIzd_Ngr"
      },
      "source": [
        "**PROGRAM:**"
      ]
    },
    {
      "cell_type": "markdown",
      "metadata": {
        "id": "ymAW7ZKh_QyF"
      },
      "source": [
        " The requests and flask packages are downloaded from internet using the following commands."
      ]
    },
    {
      "cell_type": "markdown",
      "metadata": {
        "id": "8wvmG4_X_Rdt"
      },
      "source": [
        " c:\\phython3.9\\scripts>pip install requests"
      ]
    },
    {
      "cell_type": "markdown",
      "metadata": {
        "id": "lz4_01EL_UF1"
      },
      "source": [
        " c:\\phython3.9\\scripts>pip show requests"
      ]
    },
    {
      "cell_type": "markdown",
      "metadata": {
        "id": "cuZWrQyT_WkF"
      },
      "source": [
        " c:\\phython3.9\\scripts>pip install flask"
      ]
    },
    {
      "cell_type": "markdown",
      "metadata": {
        "id": "gjI6r874_Y-s"
      },
      "source": [
        " c:\\phython3.9\\scripts>pip show flask"
      ]
    },
    {
      "cell_type": "markdown",
      "metadata": {
        "id": "I7qu-KKx_bzF"
      },
      "source": [
        " https://drive.google.com/file/d/1H1xDdPf3STLM8BivVum2IE9DHUaVUov5/view?usp=sharing"
      ]
    },
    {
      "cell_type": "markdown",
      "metadata": {
        "id": "hBvR1GEG_fSK"
      },
      "source": [
        " https://drive.google.com/file/d/1s7OuAcNw0mleuB1PE6DnN93fDFzHaDCd/view?usp=sharing"
      ]
    },
    {
      "cell_type": "markdown",
      "metadata": {
        "id": "tQyY6fa4_iKC"
      },
      "source": [
        " https://drive.google.com/file/d/1Y5tZqVGVbtNItIsEVKmmv_VCtHo_Gieq/view?usp=sharing"
      ]
    },
    {
      "cell_type": "markdown",
      "metadata": {
        "id": "753XV_F0_kmA"
      },
      "source": [
        " https://drive.google.com/file/d/111lqK5HU4_SpTlOQ_52nEn5g41X-ESkI/view?usp=sharing"
      ]
    },
    {
      "cell_type": "markdown",
      "metadata": {
        "id": "DyCPU-7x_nYY"
      },
      "source": [
        " b) Write a scripts that imports requests and fetch content from the page.Eg. (Wiki)code:"
      ]
    },
    {
      "cell_type": "markdown",
      "metadata": {
        "id": "wi5lSSpU_qcY"
      },
      "source": [
        " **DESCRIPTION:**\n",
        " \n",
        "The Hypertext Transfer Protocol (HTTP) is an application protocol for distributed, collaborative, hypermedia information systems. HTTP is the foundation of data communication for the World Wide Web.\n",
        " \n",
        "**Python requests**\n",
        " \n",
        "Requests is a simple and elegant Python HTTP library. It provides methods for accessing Web resources via HTTP.\n",
        " \n",
        "**Python requests reading a web page**\n",
        " \n",
        "The **get()** method issues a GET request; it fetches documents identified by the given URL."
      ]
    },
    {
      "cell_type": "code",
      "metadata": {
        "colab": {
          "base_uri": "https://localhost:8080/"
        },
        "id": "l1p_QSNj_wQl",
        "outputId": "cc00762e-8d75-46e6-cfce-ed2134d18c6b"
      },
      "source": [
        "import requests\n",
        "r=requests.get('https://www.google.com')\n",
        "print(\"Statuscode: \",r.status_code)\n",
        "print(\"Header Content: \",r.headers['content-type'])\n",
        "print(r.text)"
      ],
      "execution_count": 5,
      "outputs": [
        {
          "output_type": "stream",
          "name": "stdout",
          "text": [
            "Statuscode:  200\n",
            "Header Content:  text/html; charset=ISO-8859-1\n",
            "<!doctype html><html itemscope=\"\" itemtype=\"http://schema.org/WebPage\" lang=\"en\"><head><meta content=\"Search the world's information, including webpages, images, videos and more. Google has many special features to help you find exactly what you're looking for.\" name=\"description\"><meta content=\"noodp\" name=\"robots\"><meta content=\"text/html; charset=UTF-8\" http-equiv=\"Content-Type\"><meta content=\"/logos/doodles/2021/labor-day-2021-6753651837109056.2-l.png\" itemprop=\"image\"><meta content=\"Labor Day 2021\" property=\"twitter:title\"><meta content=\"Labor Day 2021 #GoogleDoodle\" property=\"twitter:description\"><meta content=\"Labor Day 2021 #GoogleDoodle\" property=\"og:description\"><meta content=\"summary_large_image\" property=\"twitter:card\"><meta content=\"@GoogleDoodles\" property=\"twitter:site\"><meta content=\"https://www.google.com/logos/doodles/2021/labor-day-2021-6753651837109056.2-2x.png\" property=\"twitter:image\"><meta content=\"https://www.google.com/logos/doodles/2021/labor-day-2021-6753651837109056.2-2x.png\" property=\"og:image\"><meta content=\"1000\" property=\"og:image:width\"><meta content=\"400\" property=\"og:image:height\"><title>Google</title><script nonce=\"23RKYG/5RlslxzecAnwJ/Q==\">(function(){window.google={kEI:'U8I1YYegMpqy5NoPouKv2As',kEXPI:'0,772215,1,530320,56873,954,755,4349,207,2414,2390,926,1390,383,246,5,1354,4936,315,1122515,1197766,516,89,328896,51224,16114,17444,11240,17572,4858,1362,9291,3020,17588,4020,978,13228,3847,10622,1142,13620,4282,2778,919,5968,707,1278,2212,239,293,147,1103,840,1983,213,4101,3514,606,2023,2297,14670,3227,1990,855,7,12353,5097,14396,1924,908,2,16265,432,3,346,1244,1,5445,148,11323,2652,4,1528,2304,1236,5226,577,74,1983,2626,2015,11501,3824,3050,2658,4243,3113,31,13628,2305,638,37,1457,5586,3772,5993,1435,5797,2560,992,3102,3138,6,614,294,3,3541,1,5349,6593,2768,1,1813,283,38,876,5990,14678,769,8,1,1272,1344,371,2,3036,21,6155,627,4,32,4,5387,4,89,594,442,342,255,55,4,434,2500,2300,2350,3503,2050,1645,6768,1160,1364,2739,2087,2,217,291,2380,2718,3709,2,835,3,123,5350,4635,233,980,2427,1,8,3401,1483,2834,1932,190,1,2445,1596,981,372,2752,557,2470,1917,2,979,1264,898,1660,49,594,664,3,792,1598,4,1462,1956,114,1347,310,221,93,429,35,1187,759,24,670,882,162,1230,28,12,157,76,200,892,2,15,5,97,169,447,110,301,570,681,473,110,256,71,4,1200,354,39,84,3809,555,7,567,5581689,226,220,73,132,74,1802610,77,4193902,2800697,882,444,1,2,80,1,1796,1,9,2553,1,748,141,795,563,1,4265,1,1,2,1331,4142,2609,155,17,13,72,139,4,2,20,2,169,13,19,46,5,39,96,548,29,2,2,1,2,1,2,2,7,4,1,2,2,2,2,2,2,353,513,186,1,1,158,3,2,2,2,2,2,4,2,3,3,269,291,53,24,36,6,39,18,3,31,4,21,23954196,2738465,1302887,338,3,2414,448,2,463,172,406,9,3243,117,1417,991',kBL:'94Ui'};google.sn='webhp';google.kHL='en';})();(function(){\n",
            "var f=this||self;var h,k=[];function l(a){for(var b;a&&(!a.getAttribute||!(b=a.getAttribute(\"eid\")));)a=a.parentNode;return b||h}function m(a){for(var b=null;a&&(!a.getAttribute||!(b=a.getAttribute(\"leid\")));)a=a.parentNode;return b}\n",
            "function n(a,b,c,d,g){var e=\"\";c||-1!==b.search(\"&ei=\")||(e=\"&ei=\"+l(d),-1===b.search(\"&lei=\")&&(d=m(d))&&(e+=\"&lei=\"+d));d=\"\";!c&&f._cshid&&-1===b.search(\"&cshid=\")&&\"slh\"!==a&&(d=\"&cshid=\"+f._cshid);c=c||\"/\"+(g||\"gen_204\")+\"?atyp=i&ct=\"+a+\"&cad=\"+b+e+\"&zx=\"+Date.now()+d;/^http:/i.test(c)&&\"https:\"===window.location.protocol&&(google.ml&&google.ml(Error(\"a\"),!1,{src:c,glmm:1}),c=\"\");return c};h=google.kEI;google.getEI=l;google.getLEI=m;google.ml=function(){return null};google.log=function(a,b,c,d,g){if(c=n(a,b,c,d,g)){a=new Image;var e=k.length;k[e]=a;a.onerror=a.onload=a.onabort=function(){delete k[e]};a.src=c}};google.logUrl=n;}).call(this);(function(){\n",
            "google.y={};google.sy=[];google.x=function(a,b){if(a)var c=a.id;else{do c=Math.random();while(google.y[c])}google.y[c]=[a,b];return!1};google.sx=function(a){google.sy.push(a)};google.lm=[];google.plm=function(a){google.lm.push.apply(google.lm,a)};google.lq=[];google.load=function(a,b,c){google.lq.push([[a],b,c])};google.loadAll=function(a,b){google.lq.push([a,b])};google.bx=!1;google.lx=function(){};}).call(this);google.f={};(function(){\n",
            "document.documentElement.addEventListener(\"submit\",function(b){var a;if(a=b.target){var c=a.getAttribute(\"data-submitfalse\");a=\"1\"==c||\"q\"==c&&!a.elements.q.value?!0:!1}else a=!1;a&&(b.preventDefault(),b.stopPropagation())},!0);document.documentElement.addEventListener(\"click\",function(b){var a;a:{for(a=b.target;a&&a!=document.documentElement;a=a.parentElement)if(\"A\"==a.tagName){a=\"1\"==a.getAttribute(\"data-nohref\");break a}a=!1}a&&b.preventDefault()},!0);}).call(this);</script><style>#gbar,#guser{font-size:13px;padding-top:1px !important;}#gbar{height:22px}#guser{padding-bottom:7px !important;text-align:right}.gbh,.gbd{border-top:1px solid #c9d7f1;font-size:1px}.gbh{height:0;position:absolute;top:24px;width:100%}@media all{.gb1{height:22px;margin-right:.5em;vertical-align:top}#gbar{float:left}}a.gb1,a.gb4{text-decoration:underline !important}a.gb1,a.gb4{color:#00c !important}.gbi .gb4{color:#dd8e27 !important}.gbf .gb4{color:#900 !important}\n",
            "</style><style>body,td,a,p,.h{font-family:arial,sans-serif}body{margin:0;overflow-y:scroll}#gog{padding:3px 8px 0}td{line-height:.8em}.gac_m td{line-height:17px}form{margin-bottom:20px}.h{color:#1558d6}em{font-weight:bold;font-style:normal}.lst{height:25px;width:496px}.gsfi,.lst{font:18px arial,sans-serif}.gsfs{font:17px arial,sans-serif}.ds{display:inline-box;display:inline-block;margin:3px 0 4px;margin-left:4px}input{font-family:inherit}body{background:#fff;color:#000}a{color:#4b11a8;text-decoration:none}a:hover,a:active{text-decoration:underline}.fl a{color:#1558d6}a:visited{color:#4b11a8}.sblc{padding-top:5px}.sblc a{display:block;margin:2px 0;margin-left:13px;font-size:11px}.lsbb{background:#f8f9fa;border:solid 1px;border-color:#dadce0 #70757a #70757a #dadce0;height:30px}.lsbb{display:block}#WqQANb a{display:inline-block;margin:0 12px}.lsb{background:url(/images/nav_logo229.png) 0 -261px repeat-x;border:none;color:#000;cursor:pointer;height:30px;margin:0;outline:0;font:15px arial,sans-serif;vertical-align:top}.lsb:active{background:#dadce0}.lst:focus{outline:none}</style><script nonce=\"23RKYG/5RlslxzecAnwJ/Q==\"></script></head><body bgcolor=\"#fff\"><script nonce=\"23RKYG/5RlslxzecAnwJ/Q==\">(function(){var src='/images/nav_logo229.png';var iesg=false;document.body.onload = function(){window.n && window.n();if (document.images){new Image().src=src;}\n",
            "if (!iesg){document.f&&document.f.q.focus();document.gbqf&&document.gbqf.q.focus();}\n",
            "}\n",
            "})();</script><div id=\"mngb\"><div id=gbar><nobr><b class=gb1>Search</b> <a class=gb1 href=\"https://www.google.com/imghp?hl=en&tab=wi\">Images</a> <a class=gb1 href=\"https://maps.google.com/maps?hl=en&tab=wl\">Maps</a> <a class=gb1 href=\"https://play.google.com/?hl=en&tab=w8\">Play</a> <a class=gb1 href=\"https://www.youtube.com/?gl=US&tab=w1\">YouTube</a> <a class=gb1 href=\"https://news.google.com/?tab=wn\">News</a> <a class=gb1 href=\"https://mail.google.com/mail/?tab=wm\">Gmail</a> <a class=gb1 href=\"https://drive.google.com/?tab=wo\">Drive</a> <a class=gb1 style=\"text-decoration:none\" href=\"https://www.google.com/intl/en/about/products?tab=wh\"><u>More</u> &raquo;</a></nobr></div><div id=guser width=100%><nobr><span id=gbn class=gbi></span><span id=gbf class=gbf></span><span id=gbe></span><a href=\"http://www.google.com/history/optout?hl=en\" class=gb4>Web History</a> | <a  href=\"/preferences?hl=en\" class=gb4>Settings</a> | <a target=_top id=gb_70 href=\"https://accounts.google.com/ServiceLogin?hl=en&passive=true&continue=https://www.google.com/&ec=GAZAAQ\" class=gb4>Sign in</a></nobr></div><div class=gbh style=left:0></div><div class=gbh style=right:0></div></div><center><br clear=\"all\" id=\"lgpd\"><div id=\"lga\"><a href=\"/search?ie=UTF-8&amp;q=Labor+Day&amp;oi=ddle&amp;ct=174788297&amp;hl=en&amp;sa=X&amp;ved=0ahUKEwjHlc7j6OnyAhUaGVkFHSLxC7sQPQgD\"><img alt=\"Labor Day 2021\" border=\"0\" height=\"200\" src=\"/logos/doodles/2021/labor-day-2021-6753651837109056.2-l.png\" title=\"Labor Day 2021\" width=\"500\" id=\"hplogo\"><br></a><br></div><form action=\"/search\" name=\"f\"><table cellpadding=\"0\" cellspacing=\"0\"><tr valign=\"top\"><td width=\"25%\">&nbsp;</td><td align=\"center\" nowrap=\"\"><input name=\"ie\" value=\"ISO-8859-1\" type=\"hidden\"><input value=\"en\" name=\"hl\" type=\"hidden\"><input name=\"source\" type=\"hidden\" value=\"hp\"><input name=\"biw\" type=\"hidden\"><input name=\"bih\" type=\"hidden\"><div class=\"ds\" style=\"height:32px;margin:4px 0\"><input class=\"lst\" style=\"margin:0;padding:5px 8px 0 6px;vertical-align:top;color:#000\" autocomplete=\"off\" value=\"\" title=\"Google Search\" maxlength=\"2048\" name=\"q\" size=\"57\"></div><br style=\"line-height:0\"><span class=\"ds\"><span class=\"lsbb\"><input class=\"lsb\" value=\"Google Search\" name=\"btnG\" type=\"submit\"></span></span><span class=\"ds\"><span class=\"lsbb\"><input class=\"lsb\" id=\"tsuid1\" value=\"I'm Feeling Lucky\" name=\"btnI\" type=\"submit\"><script nonce=\"23RKYG/5RlslxzecAnwJ/Q==\">(function(){var id='tsuid1';document.getElementById(id).onclick = function(){if (this.form.q.value){this.checked = 1;if (this.form.iflsig)this.form.iflsig.disabled = false;}\n",
            "else top.location='/doodles/';};})();</script><input value=\"ALs-wAMAAAAAYTXQYz12QT6Qn0HcIH3D1rcuKI58QxUN\" name=\"iflsig\" type=\"hidden\"></span></span></td><td class=\"fl sblc\" align=\"left\" nowrap=\"\" width=\"25%\"><a href=\"/advanced_search?hl=en&amp;authuser=0\">Advanced search</a></td></tr></table><input id=\"gbv\" name=\"gbv\" type=\"hidden\" value=\"1\"><script nonce=\"23RKYG/5RlslxzecAnwJ/Q==\">(function(){\n",
            "var a,b=\"1\";if(document&&document.getElementById)if(\"undefined\"!=typeof XMLHttpRequest)b=\"2\";else if(\"undefined\"!=typeof ActiveXObject){var c,d,e=[\"MSXML2.XMLHTTP.6.0\",\"MSXML2.XMLHTTP.3.0\",\"MSXML2.XMLHTTP\",\"Microsoft.XMLHTTP\"];for(c=0;d=e[c++];)try{new ActiveXObject(d),b=\"2\"}catch(h){}}a=b;if(\"2\"==a&&-1==location.search.indexOf(\"&gbv=2\")){var f=google.gbvu,g=document.getElementById(\"gbv\");g&&(g.value=a);f&&window.setTimeout(function(){location.href=f},0)};}).call(this);</script></form><div id=\"gac_scont\"></div><div style=\"font-size:83%;min-height:3.5em\"><br></div><span id=\"footer\"><div style=\"font-size:10pt\"><div style=\"margin:19px auto;text-align:center\" id=\"WqQANb\"><a href=\"/intl/en/ads/\">Advertising Programs</a><a href=\"/services/\">Business Solutions</a><a href=\"/intl/en/about.html\">About Google</a></div></div><p style=\"font-size:8pt;color:#70757a\">&copy; 2021 - <a href=\"/intl/en/policies/privacy/\">Privacy</a> - <a href=\"/intl/en/policies/terms/\">Terms</a></p></span></center><script nonce=\"23RKYG/5RlslxzecAnwJ/Q==\">(function(){window.google.cdo={height:757,width:1440};(function(){\n",
            "var a=window.innerWidth,b=window.innerHeight;if(!a||!b){var c=window.document,d=\"CSS1Compat\"==c.compatMode?c.documentElement:c.body;a=d.clientWidth;b=d.clientHeight}a&&b&&(a!=google.cdo.width||b!=google.cdo.height)&&google.log(\"\",\"\",\"/client_204?&atyp=i&biw=\"+a+\"&bih=\"+b+\"&ei=\"+google.kEI);}).call(this);})();</script> <script nonce=\"23RKYG/5RlslxzecAnwJ/Q==\">(function(){google.xjs={ck:'',cs:'',excm:[]};})();</script>  <script nonce=\"23RKYG/5RlslxzecAnwJ/Q==\">(function(){var u='/xjs/_/js/k\\x3dxjs.hp.en_US.uJVE4aH5PNY.O/am\\x3dAPgEWA/d\\x3d1/ed\\x3d1/rs\\x3dACT90oHMCNW-abUb8NKgcji0KPjTPcrpeg/m\\x3dsb_he,d';\n",
            "var e=this||self,f=function(a){return a};var g;var l=function(a,b){this.g=b===h?a:\"\"};l.prototype.toString=function(){return this.g+\"\"};var h={};function m(){var a=u;google.lx=function(){n(a);google.lx=function(){}};google.bx||google.lx()}\n",
            "function n(a){google.timers&&google.timers.load&&google.tick&&google.tick(\"load\",\"xjsls\");var b=document;var c=\"SCRIPT\";\"application/xhtml+xml\"===b.contentType&&(c=c.toLowerCase());c=b.createElement(c);if(void 0===g){b=null;var k=e.trustedTypes;if(k&&k.createPolicy){try{b=k.createPolicy(\"goog#html\",{createHTML:f,createScript:f,createScriptURL:f})}catch(p){e.console&&e.console.error(p.message)}g=b}else g=b}a=(b=g)?b.createScriptURL(a):a;a=new l(a,h);c.src=a instanceof l&&a.constructor===l?a.g:\"type_error:TrustedResourceUrl\";var d;a=(c.ownerDocument&&c.ownerDocument.defaultView||window).document;(d=(b=null===(d=a.querySelector)||void 0===d?void 0:d.call(a,\"script[nonce]\"))?b.nonce||b.getAttribute(\"nonce\")||\"\":\"\")&&c.setAttribute(\"nonce\",d);document.body.appendChild(c);google.psa=!0};setTimeout(function(){m()},0);})();(function(){window.google.xjsu='/xjs/_/js/k\\x3dxjs.hp.en_US.uJVE4aH5PNY.O/am\\x3dAPgEWA/d\\x3d1/ed\\x3d1/rs\\x3dACT90oHMCNW-abUb8NKgcji0KPjTPcrpeg/m\\x3dsb_he,d';})();function _DumpException(e){throw e;}\n",
            "function _F_installCss(c){}\n",
            "(function(){google.jl={attn:false,blt:'none',chnk:0,dw:false,emtn:0,end:0,ine:false,lls:'default',pdt:0,rep:0,sif:true,snet:true,strt:0,ubm:false,uwp:true};})();(function(){var pmc='{\\x22d\\x22:{},\\x22sb_he\\x22:{\\x22agen\\x22:true,\\x22cgen\\x22:true,\\x22client\\x22:\\x22heirloom-hp\\x22,\\x22dh\\x22:true,\\x22dhqt\\x22:true,\\x22ds\\x22:\\x22\\x22,\\x22ffql\\x22:\\x22en\\x22,\\x22fl\\x22:true,\\x22host\\x22:\\x22google.com\\x22,\\x22isbh\\x22:28,\\x22jsonp\\x22:true,\\x22msgs\\x22:{\\x22cibl\\x22:\\x22Clear Search\\x22,\\x22dym\\x22:\\x22Did you mean:\\x22,\\x22lcky\\x22:\\x22I\\\\u0026#39;m Feeling Lucky\\x22,\\x22lml\\x22:\\x22Learn more\\x22,\\x22oskt\\x22:\\x22Input tools\\x22,\\x22psrc\\x22:\\x22This search was removed from your \\\\u003Ca href\\x3d\\\\\\x22/history\\\\\\x22\\\\u003EWeb History\\\\u003C/a\\\\u003E\\x22,\\x22psrl\\x22:\\x22Remove\\x22,\\x22sbit\\x22:\\x22Search by image\\x22,\\x22srch\\x22:\\x22Google Search\\x22},\\x22ovr\\x22:{},\\x22pq\\x22:\\x22\\x22,\\x22refpd\\x22:true,\\x22rfs\\x22:[],\\x22sbas\\x22:\\x220 3px 8px 0 rgba(0,0,0,0.2),0 0 0 1px rgba(0,0,0,0.08)\\x22,\\x22sbpl\\x22:16,\\x22sbpr\\x22:16,\\x22scd\\x22:10,\\x22stok\\x22:\\x22ebcObug_WZZ4habY0jDPaPh7iSg\\x22,\\x22uhde\\x22:false}}';google.pmc=JSON.parse(pmc);})();</script>        </body></html>\n"
          ]
        }
      ]
    },
    {
      "cell_type": "markdown",
      "metadata": {
        "id": "STJE5e8U_0in"
      },
      "source": [
        "c) Write a simple script that serves a simple HTTPResponse and Simple HTML page."
      ]
    },
    {
      "cell_type": "markdown",
      "metadata": {
        "id": "vTJXYjAb_3wS"
      },
      "source": [
        "**DESCRIPTION:**\n",
        " \n",
        "  **HTTP Protocol**\n",
        " \n",
        "The most important part of a web server is HTTP protocol.So now we will see what exactly this is –\n",
        " \n",
        "It stands for Hyper Text Transfer Protocol.\n",
        " \n",
        "It is an application layer protocol that allows web based applications to \n",
        "communicate and exchange data.\n",
        " \n",
        "The HTTP is the messenger of web.\n",
        " \n",
        "The computer that communicate via the HTTP must speak the HTTP protocol.\n",
        " \n",
        "It is a TCP/IP based protocol.\n",
        " \n",
        "It is used to deliver contents, for eg. images, audios, videos, documents etc.\n",
        " \n",
        "Using HTTP is the most convenient way to quickly and reliably move data on the web.\n",
        " \n",
        "HTML stands for hypertext markup language. It is the standard markup language for web pages that define the structure of the content. These elements are the building blocks of any website"
      ]
    },
    {
      "cell_type": "code",
      "metadata": {
        "id": "UtdRE5HUKBa5"
      },
      "source": [
        " \n",
        "from flask import Flask,render_template\n",
        "app=Flask(__name__)\n",
        "print(app)\n",
        "@app.route(\"/\")\n",
        "def main():\n",
        "  return render_template(\"login.html')\n",
        "if__name__==\"__main__\":\n",
        "  app.run(host=\"127.0.0.1\",port=2500)"
      ],
      "execution_count": null,
      "outputs": []
    },
    {
      "cell_type": "markdown",
      "metadata": {
        "id": "vOQfW67RAFK4"
      },
      "source": [
        "# **Exercise-13 OOP**"
      ]
    },
    {
      "cell_type": "markdown",
      "metadata": {
        "id": "qaOFtvaAAIOd"
      },
      "source": [
        " Aim:\n",
        " \n",
        "a)class variables and instance variable and illustration of the self -variable\n",
        " \n",
        "**DESCRIPTION:**\n",
        " \n",
        "Variables are named storage location. In python variables are not defined by its type instead it\n",
        "will be automatically determined by the value assigned to it.\n",
        "To determine the type of a variable a function called type () is used.\n",
        " \n",
        "**class variable**is shared by all object instances of a class. ... They are not defined inside any methods of a class. Because a class variable is shared by instances of a class, the Python class owns the variable. As a result, all instances of the class will be able to access that variable\n",
        " \n",
        "**Instance variables** are owned by instances of the class. This means that for each object or instance of a class, the instance variables are different. ... Instance variables, owned by objects of the class, allow for each object or instance to have different values assigned to those variables\n",
        " \n",
        "**self variable** is used to bind the instance of the class to the instance method. We have to explicitly declare it as the first method argument to access the instance variables and methods. This variable is used only with the instance methods.\n",
        " \n",
        "**PROGRAM:**\n",
        " \n",
        "**i)Robot**"
      ]
    },
    {
      "cell_type": "code",
      "metadata": {
        "colab": {
          "base_uri": "https://localhost:8080/"
        },
        "id": "R5JYTGU7AVlJ",
        "outputId": "b7be72f6-5387-464d-874e-7833df34a245"
      },
      "source": [
        " \n",
        "class Robot:\n",
        "    what=\"Machine\"\n",
        "    name=\"Chitti\"\n",
        "    version=1.0\n",
        "    speed=\"1THz\"\n",
        "    memory=\"1ZB\"\n",
        " \n",
        "    def update(upd):\n",
        "        upd.version=2.0\n",
        "        upd.speed=\"2THz\"\n",
        "        upd.memory=\"2ZB\"\n",
        " \n",
        "    def disp(self):\n",
        "        print(\"Myself is a\",robj.what)\n",
        "        print(\"MyName is a\",robj.name)\n",
        "        print(\"Version:\",robj.version)\n",
        "        print(\"Speed:\",robj.speed)\n",
        "        print(\"Memory:\",robj.memory)\n",
        " \n",
        "robj=Robot ()\n",
        "robj.disp()\n",
        " \n",
        "print(\"------------Update---------\")\n",
        "robj.update()\n",
        "robj.disp()"
      ],
      "execution_count": 6,
      "outputs": [
        {
          "output_type": "stream",
          "name": "stdout",
          "text": [
            "Myself is a Machine\n",
            "MyName is a Chitti\n",
            "Version: 1.0\n",
            "Speed: 1THz\n",
            "Memory: 1ZB\n",
            "------------Update---------\n",
            "Myself is a Machine\n",
            "MyName is a Chitti\n",
            "Version: 2.0\n",
            "Speed: 2THz\n",
            "Memory: 2ZB\n"
          ]
        }
      ]
    },
    {
      "cell_type": "markdown",
      "metadata": {
        "id": "ctMsPffhVfQs"
      },
      "source": [
        " 2)ATM Machine"
      ]
    },
    {
      "cell_type": "code",
      "metadata": {
        "colab": {
          "base_uri": "https://localhost:8080/"
        },
        "id": "Rf9gCAnkVgJq",
        "outputId": "75595abe-025b-4646-cc71-2e9c765a4684"
      },
      "source": [
        " \n",
        "class ATM:\n",
        "    def __init__(self):\n",
        "        self.balance=0\n",
        "        print(\"New Account\")\n",
        "        \n",
        "    def enquire(self):\n",
        "        print(\"Balance: \",self.balance)\n",
        "        \n",
        "    def deposit(self):\n",
        "        amount=int(input(\"Enter the Deposit Amount:\"))\n",
        "        self.balance+=amount\n",
        "        self.enquire()\n",
        " \n",
        "    def withdraw(self):\n",
        "        amount=int(input(\"Enter the Withdraw Amount: \"))\n",
        "        if self.balance<amount:\n",
        "            print(\"Insufficient Balance.....!\")\n",
        "        else:\n",
        "            self.balance-=amount\n",
        "            self.enquire()\n",
        " \n",
        "aobj=ATM()\n",
        "while(True):\n",
        "    print(\"*****Menu****\")\n",
        "    print(\"1.Deposit\")\n",
        "    print(\"2.Withdarw\")\n",
        "    print(\"3.Balance\")\n",
        "    print(\"0.Exit\")\n",
        "    ch=int(input(\"Enter Your Choice: \"))\n",
        "    if ch==0:\n",
        "        break\n",
        "    elif ch==1:\n",
        "        aobj.deposit()\n",
        "    elif ch==2:\n",
        "        aobj.withdraw()\n",
        "    elif ch==3:\n",
        "        aobj.enquire()\n",
        "    else:\n",
        "        print(\"Invalid choice:\")\n",
        "        pass"
      ],
      "execution_count": null,
      "outputs": [
        {
          "output_type": "stream",
          "text": [
            "New Account\n",
            "*****Menu****\n",
            "1.Deposit\n",
            "2.Withdarw\n",
            "3.Balance\n",
            "0.Exit\n",
            "Enter Your Choice: 1\n",
            "Enter the Deposit Amount:43555\n",
            "Balance:  43555\n",
            "*****Menu****\n",
            "1.Deposit\n",
            "2.Withdarw\n",
            "3.Balance\n",
            "0.Exit\n",
            "Enter Your Choice: 2\n",
            "Enter the Withdraw Amount: 2456\n",
            "Balance:  41099\n",
            "*****Menu****\n",
            "1.Deposit\n",
            "2.Withdarw\n",
            "3.Balance\n",
            "0.Exit\n",
            "Enter Your Choice: 3\n",
            "Balance:  41099\n",
            "*****Menu****\n",
            "1.Deposit\n",
            "2.Withdarw\n",
            "3.Balance\n",
            "0.Exit\n",
            "Enter Your Choice: 4\n",
            "Invalid choice:\n",
            "*****Menu****\n",
            "1.Deposit\n",
            "2.Withdarw\n",
            "3.Balance\n",
            "0.Exit\n",
            "Enter Your Choice: 0\n"
          ],
          "name": "stdout"
        }
      ]
    },
    {
      "cell_type": "markdown",
      "metadata": {
        "id": "7V39G5EOAmQt"
      },
      "source": [
        "# **Exercise - 14 GUI, Graphics**\n",
        " \n",
        "**AIM:**"
      ]
    },
    {
      "cell_type": "markdown",
      "metadata": {
        "id": "9-P94P_YApJj"
      },
      "source": [
        "a. Write a GUI for an Expression Calculator using tk"
      ]
    },
    {
      "cell_type": "markdown",
      "metadata": {
        "id": "OmZISItmAqA4"
      },
      "source": [
        " **DESCRIPTION:**\n",
        " \n",
        "Tkinter is a Python package which comes with many functions and methods that can be used to create an application. In order to create a tkinter application, we generally create an instance of tkinter frame, i.e., Tk(). It helps to display the root window and manages all the other components of the tkinter application. We can initialize the tkinter instance by assigning the variable to it."
      ]
    },
    {
      "cell_type": "code",
      "metadata": {
        "id": "g4xxOt7XBK_b"
      },
      "source": [
        " \n",
        " \n",
        "from tkinter import *\n",
        "from math import *\n",
        "win=Tk()\n",
        "win.geometry(\"312x324\")\n",
        "win.resizable(0,0)\n",
        "win.title(\"My Calculator\")\n",
        " \n",
        "def btn_click(item):\n",
        "    global expression\n",
        "    expression=expression+str(item)\n",
        "    input_text.set(expression)\n",
        " \n",
        "def bt_clear():\n",
        "    global expression\n",
        "    expression=\"\"\n",
        "    input_text.set(\"\")\n",
        " \n",
        "def bt_equal():\n",
        "    global expression\n",
        "    result=str(eval(expression))\n",
        "    input_text.set(result)\n",
        "    expression=\"\"\n",
        "expression=\"\"\n",
        " \n",
        "input_text=StringVar()\n",
        " \n",
        "input_frame = Frame(win,width=312,height=50,bd=0,highlightbackground=\"black\",\n",
        "highlightcolor=\"black\",highlightthickness=2)\n",
        "input_frame.pack(side=TOP)\n",
        " \n",
        "input_field = Entry(input_frame,font=('arial',18,'bold'),textvariable=input_text,width=50,bg=\"#eee\",bd=0,justify=RIGHT)\n",
        "input_field.grid(row=0,column=0)\n",
        "input_field.pack(ipady=10)\n",
        " \n",
        "btns_frame=Frame(win,width=312,height=272.5,bg=\"grey\")\n",
        "btns_frame.pack()\n",
        " \n",
        "clear=Button(btns_frame,text=\"C\",fg=\"black\",width=32,height=3,bd=0,bg=\"#eee\",cursor=\"hand2\",command=lambda:bt_clear()).grid(row=0,column=0,columnspan=3,padx=1,pady=1)\n",
        "divide=Button(btns_frame,text=\"/\",fg=\"black\",width=10,height=3,bd=0,bg=\"#eee\",cursor=\"hand2\",command=lambda:btn_click(\"/\")).grid(row=0,column=3,padx=1,pady=1)\n",
        " \n",
        "seven=Button(btns_frame,text=\"7\",fg=\"black\",width=10,height=3,bd=0,bg=\"#fff\",cursor=\"hand2\",command=lambda:btn_click(7)).grid(row=1,column=0,padx=1,pady=1)\n",
        "eight=Button(btns_frame,text=\"8\",fg=\"black\",width=10,height=3,bd=0,bg=\"#fff\",cursor=\"hand2\",command=lambda:btn_click(8)).grid(row=1,column=1,padx=1,pady=1)\n",
        "nine=Button(btns_frame,text=\"9\",fg=\"black\",width=10,height=3,bd=0,bg=\"#fff\",cursor=\"hand2\",command=lambda:btn_click(9)).grid(row=1,column=2,padx=1,pady=1)\n",
        "multiply=Button(btns_frame,text=\"*\",fg=\"black\",width=10,height=3,bd=0,bg='#eee',cursor=\"hand2\",command=lambda:btn_click(\"*\")).grid(row=1,column=3, padx=1,pady=1)\n",
        " \n",
        "four=Button(btns_frame,text=\"4\",fg=\"black\",width=10,height=3,bd=0,bg=\"#fff\",cursor=\"hand2\",command=lambda:btn_click(4)).grid(row=2,column=0,padx=1,pady=1)\n",
        "five=Button(btns_frame,text=\"5\",fg=\"black\",width=10,height=3,bd=0,bg=\"#fff\",cursor=\"hand2\",command=lambda:btn_click(5)).grid(row=2,column=1,padx=1,pady=1)\n",
        "six=Button(btns_frame,text=\"6\",fg=\"black\",width=10,height=3,bd=0,bg=\"#fff\",cursor=\"hand2\",command=lambda:btn_click(6)).grid(row=2,column=2,padx=1,pady=1)\n",
        "minus=Button(btns_frame,text=\"-\",fg=\"black\",width=10,height=3,bd=0,bg='#eee',cursor=\"hand2\",command=lambda:btn_click(\"-\")).grid(row=2,column=3, padx=1,pady=1)\n",
        " \n",
        "one=Button(btns_frame,text=\"1\",fg=\"black\",width=10,height=3,bd=0,bg=\"#fff\",cursor=\"hand2\",command=lambda:btn_click(1)).grid(row=3,column=0,padx=1,pady=1)\n",
        "two=Button(btns_frame,text=\"2\",fg=\"black\",width=10,height=3,bd=0,bg=\"#fff\",cursor=\"hand2\",command=lambda:btn_click(2)).grid(row=3,column=1,padx=1,pady=1)\n",
        "three=Button(btns_frame,text=\"3\",fg=\"black\",width=10,height=3,bd=0,bg=\"#fff\",cursor=\"hand2\",command=lambda:btn_click(3)).grid(row=3,column=2,padx=1,pady=1)\n",
        "plus=Button(btns_frame,text=\"+\",fg=\"black\",width=10,height=3,bd=0,bg='#eee',cursor=\"hand2\",command=lambda:btn_click(\"+\")).grid(row=3,column=3, padx=1,pady=1)\n",
        " \n",
        "zero=Button(btns_frame,text=\"0\",fg=\"black\",width=21,height=3,bd=0,bg=\"#fff\",cursor=\"hand2\",command=lambda:btn_click(0)).grid(row=4,column=0,columnspan=2,padx=1,pady=1)\n",
        "point=Button(btns_frame,text=\".\",fg=\"black\",width=10,height=3,bd=0,bg=\"#eee\",cursor=\"hand2\",command=lambda:btn_click(\".\")).grid(row=4,column=2,padx=1,pady=1)\n",
        "equals=Button(btns_frame,text=\"=\",fg=\"black\",width=10,height=3,bd=0,bg=\"#eee\",cursor=\"hand2\",command=lambda:bt_equal()).grid(row=4,column=3,padx=1,pady=1)\n",
        " \n",
        "win.mainloop()"
      ],
      "execution_count": null,
      "outputs": []
    },
    {
      "cell_type": "markdown",
      "metadata": {
        "id": "D-b8JUfMBQqQ"
      },
      "source": [
        "**Output**"
      ]
    },
    {
      "cell_type": "markdown",
      "metadata": {
        "id": "GUcIg2wbBTXV"
      },
      "source": [
        "https://drive.google.com/file/d/1wmP7468qu0_sDM-kdMop1_HmJK19Bb2y/view?usp=sharing"
      ]
    },
    {
      "cell_type": "markdown",
      "metadata": {
        "id": "g6rIy73vBUN0"
      },
      "source": [
        " https://drive.google.com/file/d/1EKtrQzzyJPsaex-kjd-ZLUD8TlU72bvm/view?usp=sharing"
      ]
    },
    {
      "cell_type": "markdown",
      "metadata": {
        "id": "pEKVUPByBXJK"
      },
      "source": [
        " https://drive.google.com/file/d/1T7O2fRBDrRLdzEK7kbj-ui5SNC4igDme/view?usp=sharing"
      ]
    },
    {
      "cell_type": "markdown",
      "metadata": {
        "id": "sDbYsNlYBd_R"
      },
      "source": [
        "**AIM:**"
      ]
    },
    {
      "cell_type": "markdown",
      "metadata": {
        "id": "dfxS204GBem5"
      },
      "source": [
        " b. Write a program to implement the following figures using turtle"
      ]
    },
    {
      "cell_type": "markdown",
      "metadata": {
        "id": "t8ZnuALsBhyn"
      },
      "source": [
        " **DESCRIPTION:**\n",
        " \n",
        "The turtle module is an extended reimplementation of the same-named module from the Python standard distribution up to version Python 2.5.\n",
        " \n",
        "It tries to keep the merits of the old turtle module and to be (nearly) 100% compatible with it. This means in the first place to enable the learning programmer to use all the commands, classes and methods interactively when using the module from within IDLE run with the -n switch.\n",
        " \n",
        "The turtle module provides turtle graphics primitives, in both object-oriented and procedure-oriented ways. Because it uses tkinter for the underlying graphics, it needs a version of Python installed with Tk support."
      ]
    },
    {
      "cell_type": "code",
      "metadata": {
        "id": "Ge7do8lOIGmN"
      },
      "source": [
        " import turtle\n",
        "c=[\"red\",\"green\",\"blue\"]\n",
        "i=0\n",
        "turtle.pensize(5)\n",
        " \n",
        "for angle in range(0,360,30):\n",
        "    if i>2:\n",
        "        i=0\n",
        "    turtle.color(c[i])\n",
        "    turtle.seth(angle)\n",
        "    turtle.circle(50)\n",
        "    i+=1"
      ],
      "execution_count": null,
      "outputs": []
    },
    {
      "cell_type": "markdown",
      "metadata": {
        "id": "up7lt2LQBrsM"
      },
      "source": [
        "**Output**"
      ]
    },
    {
      "cell_type": "markdown",
      "metadata": {
        "id": "4GDeP2zKBsYz"
      },
      "source": [
        " https://drive.google.com/file/d/1eO7D9QdEhvpJ361AQ27u-3vayjNk-W1M/view?usp=sharing"
      ]
    },
    {
      "cell_type": "code",
      "metadata": {
        "id": "yvW8krUDIOP1"
      },
      "source": [
        " import turtle\n",
        "turtle.pensize(1)\n",
        " \n",
        "for i in range(36):\n",
        "    for j in range(4):\n",
        "        turtle.forward(70)\n",
        "        turtle.left(90)\n",
        "    turtle.left(10)"
      ],
      "execution_count": null,
      "outputs": []
    },
    {
      "cell_type": "markdown",
      "metadata": {
        "id": "uqEpe1GxBx8j"
      },
      "source": [
        "**Output**"
      ]
    },
    {
      "cell_type": "markdown",
      "metadata": {
        "id": "PPuaRal0Byge"
      },
      "source": [
        " https://drive.google.com/file/d/1oiosPXpdD-ioDpquXQ0RRgthFwmt1MIj/view?usp=sharing"
      ]
    },
    {
      "cell_type": "markdown",
      "metadata": {
        "id": "VwwRpAafB5qG"
      },
      "source": [
        "# **Exercise - 15 - Testing**"
      ]
    },
    {
      "cell_type": "markdown",
      "metadata": {
        "id": "B2H5IZFSB6eX"
      },
      "source": [
        " **AIM:**"
      ]
    },
    {
      "cell_type": "markdown",
      "metadata": {
        "id": "BbP66mhfB9WQ"
      },
      "source": [
        " **a) Write a test-case to check the function even numbers which return True on passing a list of all even numbers**"
      ]
    },
    {
      "cell_type": "markdown",
      "metadata": {
        "id": "TDRvVoIXCCQP"
      },
      "source": [
        "**DESCRIPTION:**\n",
        " \n",
        "TestCase is used to create test cases by subclassing it. The last block of the code at the bottom allows us to run all the tests just by running the file. Basic terms used in the code : assertEqual() – This statement is used to check if the result obtained is equal to the expected result\n",
        " \n",
        "**test case:**\n",
        " \n",
        "A test case is a set of conditions which is used to determine whether a system under test works correctly."
      ]
    },
    {
      "cell_type": "code",
      "metadata": {
        "colab": {
          "base_uri": "https://localhost:8080/"
        },
        "id": "boAvYdC9IeTT",
        "outputId": "f289628b-acf4-4cee-c4bc-7d25ade96513"
      },
      "source": [
        " \n",
        "def evnNo(num):\n",
        "    stat=True\n",
        " \n",
        "    for i in num:\n",
        "        if i%2 ==1:\n",
        "            stat=False\n",
        "            break\n",
        "    return stat\n",
        "        \n",
        "numbers=[]\n",
        "for i in range(0,2):\n",
        "    numbers.append(int(input(\"Enter a value\")))\n",
        "print(evnNo(numbers))"
      ],
      "execution_count": null,
      "outputs": [
        {
          "output_type": "stream",
          "text": [
            "Enter a value3\n",
            "Enter a value7\n",
            "False\n"
          ],
          "name": "stdout"
        }
      ]
    },
    {
      "cell_type": "markdown",
      "metadata": {
        "id": "YPzf-Ql8CGEJ"
      },
      "source": [
        " **b) Write a test-case to check the function reverse string which returns the reversed string**"
      ]
    },
    {
      "cell_type": "markdown",
      "metadata": {
        "id": "oRL8PKgkCIrz"
      },
      "source": [
        " **DESCRIPTION:**\n",
        "\n",
        "Python string library does’nt support the in-built “reverse()” as done by other python containers like list, hence knowing other methods to reverse string can prove to be useful. This article discusses several ways to achieve it.\n",
        "\n",
        "The reversed() returns the reversed iterator of the given string and then its elements are joined empty string separated using join(). And reversed order string is formed."
      ]
    },
    {
      "cell_type": "code",
      "metadata": {
        "id": "5hxLAB7tIu8-",
        "colab": {
          "base_uri": "https://localhost:8080/"
        },
        "outputId": "75c61cb4-9840-44d1-fb63-70154fddd057"
      },
      "source": [
        " def rev_str(st):\n",
        "    temp=\"\"\n",
        "    for i in range(len(st)-1,-1,-1):\n",
        "        temp+=st[i]\n",
        "    return temp\n",
        " \n",
        "st=\"swarnandhra\"\n",
        "print(\"Given String is: \",st)\n",
        "print(\"Reverse String is: \",st[::-1])\n",
        "print(\"Reverse is: \",rev_str(st))"
      ],
      "execution_count": null,
      "outputs": [
        {
          "output_type": "stream",
          "text": [
            "Given String is:  swarnandhra\n",
            "Reverse String is:  arhdnanraws\n",
            "Reverse is:  arhdnanraws\n"
          ],
          "name": "stdout"
        }
      ]
    },
    {
      "cell_type": "markdown",
      "metadata": {
        "id": "YNSlV8CSCOd8"
      },
      "source": [
        " # **Exercise - 16 - Advanced**"
      ]
    },
    {
      "cell_type": "markdown",
      "metadata": {
        "id": "7xhpBPn6CRbN"
      },
      "source": [
        " **AIM:**"
      ]
    },
    {
      "cell_type": "markdown",
      "metadata": {
        "id": "yLDkOCPaCTyT"
      },
      "source": [
        " a) Build any one classical data structure."
      ]
    },
    {
      "cell_type": "markdown",
      "metadata": {
        "id": "UB-Tu6z3CWRP"
      },
      "source": [
        " **DESCRIPTION:**\n",
        "\n",
        "**What is a Data Structure?** \n",
        "\n",
        "Organizing, managing and storing data is important as it enables easier access and efficient modifications. Data Structures allows you to organize your data in such a way that enables you to store collections of data, relate them and perform operations on them accordingly. \n",
        "\n",
        "**Stack**\n",
        "Stacks are linear Data Structures which are based on the principle of Last-In-First-Out (LIFO) where data which is entered last will be the first to get accessed. It is built using the array structure and has operations namely, pushing (adding) elements, popping (deleting) elements and accessing elements only from one point in the stack called as the TOP. This TOP is the pointer to the current position of the stack. Stacks are prominently used in applications such as Recursive Programming, reversing words, undo mechanisms in word editors and so forth."
      ]
    },
    {
      "cell_type": "code",
      "metadata": {
        "colab": {
          "base_uri": "https://localhost:8080/",
          "height": 1000
        },
        "id": "-CxymtVcCpDy",
        "outputId": "a975c7af-fe3b-4dff-d498-a6374b834b04"
      },
      "source": [
        " \n",
        "import sys\n",
        "a=[]\n",
        " \n",
        "while True:\n",
        "    print(\"\\n1.PUSH 2.POP 3.DISPLAY 4.EXIT\")\n",
        "    ch=int(input(\"Enter Your Choice:\"))\n",
        "    if ch==1:\n",
        "        ele=int(input(\"Enter Element: \"))\n",
        "        a.append(ele)\n",
        "        print(\"Inserted\")\n",
        "    elif ch==2:\n",
        "        if len(a)==0:\n",
        "            print(\"\\t STACK IS EMPTY\")\n",
        "        else:\n",
        "            print(\"Deleted element is:\",a[len(a)-1])\n",
        "            a.remove(a[len(a)-1])\n",
        "    elif ch==3:\n",
        "        if len(a)==0:\n",
        "            print(\"\\tSTACK IS EMPTY\")\n",
        "        else:\n",
        "            print(\"\\t The Elements in Stack is: \")\n",
        "            for i in reversed(a):\n",
        "                print(i)\n",
        "    elif ch==4:\n",
        "        sys.exit()\n",
        "    else:\n",
        "        print(\"\\tINVALID CHOICE\")"
      ],
      "execution_count": 10,
      "outputs": [
        {
          "name": "stdout",
          "output_type": "stream",
          "text": [
            "\n",
            "1.PUSH 2.POP 3.DISPLAY 4.EXIT\n",
            "Enter Your Choice:1\n",
            "Enter Element: 4\n",
            "Inserted\n",
            "\n",
            "1.PUSH 2.POP 3.DISPLAY 4.EXIT\n",
            "Enter Your Choice:1\n",
            "Enter Element: 5\n",
            "Inserted\n",
            "\n",
            "1.PUSH 2.POP 3.DISPLAY 4.EXIT\n",
            "Enter Your Choice:1\n",
            "Enter Element: 6\n",
            "Inserted\n",
            "\n",
            "1.PUSH 2.POP 3.DISPLAY 4.EXIT\n",
            "Enter Your Choice:3\n",
            "\t The Elements in Stack is: \n",
            "6\n",
            "5\n",
            "4\n",
            "\n",
            "1.PUSH 2.POP 3.DISPLAY 4.EXIT\n",
            "Enter Your Choice:1\n",
            "Enter Element: 2\n",
            "Inserted\n",
            "\n",
            "1.PUSH 2.POP 3.DISPLAY 4.EXIT\n",
            "Enter Your Choice:1\n",
            "Enter Element: 5\n",
            "Inserted\n",
            "\n",
            "1.PUSH 2.POP 3.DISPLAY 4.EXIT\n",
            "Enter Your Choice:2\n",
            "Deleted element is: 5\n",
            "\n",
            "1.PUSH 2.POP 3.DISPLAY 4.EXIT\n",
            "Enter Your Choice:3\n",
            "\t The Elements in Stack is: \n",
            "5\n",
            "2\n",
            "6\n",
            "4\n",
            "\n",
            "1.PUSH 2.POP 3.DISPLAY 4.EXIT\n",
            "Enter Your Choice:4\n"
          ]
        },
        {
          "output_type": "error",
          "ename": "SystemExit",
          "evalue": "ignored",
          "traceback": [
            "An exception has occurred, use %tb to see the full traceback.\n",
            "\u001b[0;31mSystemExit\u001b[0m\n"
          ]
        },
        {
          "output_type": "stream",
          "name": "stderr",
          "text": [
            "/usr/local/lib/python3.7/dist-packages/IPython/core/interactiveshell.py:2890: UserWarning: To exit: use 'exit', 'quit', or Ctrl-D.\n",
            "  warn(\"To exit: use 'exit', 'quit', or Ctrl-D.\", stacklevel=1)\n"
          ]
        }
      ]
    },
    {
      "cell_type": "markdown",
      "metadata": {
        "id": "lRQ9j178DG2j"
      },
      "source": [
        " b) Write a program to solve knapsack problem"
      ]
    },
    {
      "cell_type": "markdown",
      "metadata": {
        "id": "o-6qV5u9DKF5"
      },
      "source": [
        " **DESCRIPTION:**\n",
        " \n",
        "Python Program for 0-1 Knapsack Problem\n",
        " \n",
        "Problem statement − We are given weights and values of n items, we need to put these items in a bag of capacity W up to the maximum capacity w. We need to carry a maximum number of items and return its value.\n",
        " \n",
        " Brute-force approach.\n",
        " \n",
        "dynamic approach."
      ]
    },
    {
      "cell_type": "code",
      "metadata": {
        "id": "ib9qcIuYvcPh"
      },
      "source": [
        " \n",
        "import sys\n",
        "a=[]\n",
        "while True: \n",
        " print(\"1.PUSH 2.POP 3.DISPLAY 4.EXIT\")\n",
        " ch=int(input(\"Enter Your Choice: \"))\n",
        " if ch==1:\n",
        "    ele=int(input(\"Enter element: \"))\n",
        "    a.append(ele).\n",
        "    print (\"Inserted\") \n",
        " elif ch==2:\n",
        "  if len(a)==0: \n",
        "     print(\"\\t STACK IS EMPTY\")\n",
        "  else:\n",
        "     print(\"Deleted element is: \", a[len(a)-1])\n",
        "     a.remove (a [len (a) -1])\n",
        " elif ch==3:\n",
        "  if len(a)==0:\n",
        "     print(\"\\t STACK IS EMPTY\")\n",
        "  else:\n",
        "     print(\"\\tThe Elements in Stack is: \") \n",
        "     for i in reversed(a):\n",
        "       print (i)\n",
        " elif ch==4: \n",
        "   sys.exit()\n",
        " else: \n",
        "   print(\"\\tINVALID CHOICE\")"
      ],
      "execution_count": null,
      "outputs": []
    },
    {
      "cell_type": "markdown",
      "metadata": {
        "id": "UUUI7Ne8Cahk"
      },
      "source": [
        ""
      ]
    },
    {
      "cell_type": "code",
      "metadata": {
        "id": "vYpU7WQ_vknN"
      },
      "source": [
        " \n",
        "def knapSack(W,wt,val,n): \n",
        " K=[[0 for x in range(W+1)] for x in range(n+1)]\n",
        " for i in range(n+1):\n",
        "  for w in range(W+1):\n",
        "   if i==0orw==0:\n",
        "      K[i][w]=0\n",
        "   elif wt[i-1]<=w:\n",
        "      K[i][w]=max(val[i-1]+ K[i-1][w-wt[i-1]],K[i-1][w]) \n",
        "   else:\n",
        "      K[i][w]=K[i-1][w]\n",
        " return K[n][W]\n",
        "val= [5,3,4]\n",
        "wt=[3,2,1]\n",
        "W=5 \n",
        "n=len(val)\n",
        "print(\"Maximum value knapsack of capacity W: \",knapSack(W, wt, val, n))"
      ],
      "execution_count": null,
      "outputs": []
    },
    {
      "cell_type": "markdown",
      "metadata": {
        "id": "JAOLLBVnDSQo"
      },
      "source": [
        "# **Exercise - 17&18–Data Analysis**"
      ]
    },
    {
      "cell_type": "markdown",
      "metadata": {
        "id": "b7fd1p2vDTGF"
      },
      "source": [
        " **AIM:**"
      ]
    },
    {
      "cell_type": "markdown",
      "metadata": {
        "id": "2lx0j78qDWAW"
      },
      "source": [
        " 1. Data analysis or manipulation using the following packages                                                                        \n",
        "a) Numpy b) Pandas\n",
        " a) Scipy b) matplotlib"
      ]
    },
    {
      "cell_type": "markdown",
      "metadata": {
        "id": "kxZEFjl5DZx8"
      },
      "source": [
        " **DESCRIPTION:**\n",
        "\n",
        "Learn how to analyze data using Python. ... It includes following parts: Data Analysis libraries: will learn to use Pandas, Numpy and Scipy libraries to work with a sample dataset. We will introduce you to pandas, an open-source library, and we will use it to load, manipulate, analyze, and visualize cool datasets.\n",
        "\n",
        "**SciPy** is a free and open-source Python library used for scientific computing and technical computing. It is a collection of mathematical algorithms and convenience functions built on the NumPy extension of Python\n",
        "\n",
        "**NumPy** is the fundamental package for scientific computing in Python. ... NumPy arrays facilitate advanced mathematical and other types of operations on large numbers of data.\n",
        "\n",
        "**Matplotlib** is a plotting library for the Python programming language and its numerical mathematics extension NumPy. It provides an object-oriented API for embedding plots into applications using general-purpose GUI toolkits like Tkinter, wxPython, Qt, or GTK\n",
        "\n",
        "**Pandas** is an open source Python package that is most widely used for data science/data analysis and machine learning tasks. It is built on top of another package named Numpy, which provides support for multi-dimensional arrays.\n",
        "\n",
        "**Scikit-learn** is probably the most useful library for machine learning in Python. The sklearn library contains a lot of efficient tools for machine learning and statistical modeling including classification, regression, clustering and dimensionality reduction.\n",
        "\n",
        "**Seaborn** is a library in Python predominantly used for making statistical graphics. Seaborn is a data visualization library built on top of matplotlib and closely integrated with pandas data structures in Python"
      ]
    },
    {
      "cell_type": "code",
      "metadata": {
        "colab": {
          "base_uri": "https://localhost:8080/"
        },
        "id": "K-SF3Eb1vuRA",
        "outputId": "db4a0aea-45a7-4581-cce9-085417acbd1d"
      },
      "source": [
        " \n",
        "import sys\n",
        " \n",
        "print('Python:{}'.format(sys.version))\n",
        " \n",
        "#scipy\n",
        " \n",
        "import scipy\n",
        "print('scipy: {}'.format(scipy.__version__))\n",
        " \n",
        "#numpy \n",
        " \n",
        "import numpy\n",
        "print('numpy:{}'.format(numpy.__version__))\n",
        " \n",
        "#matplotlib \n",
        " \n",
        "import matplotlib\n",
        "print('matplotlib:{}'.format(matplotlib.__version__))\n",
        " \n",
        "#pandas \n",
        " \n",
        "import pandas\n",
        "print('pandas:{}'.format(pandas. __version__))\n",
        " \n",
        "#scikit-learn\n",
        " \n",
        "import sklearn\n",
        "print('sklearn:{}'.format(sklearn.__version__))\n",
        " \n",
        "import seaborn\n",
        "print('seaborn: {}'.format(seaborn.__version__)) \n",
        " \n",
        "import urllib\n",
        "print('urlib:{}'.format(urllib.__name__)) \n",
        " \n",
        "import csv\n",
        "print('csv: {}'.format(csv.__version__))"
      ],
      "execution_count": null,
      "outputs": [
        {
          "output_type": "stream",
          "text": [
            "Python:3.7.11 (default, Jul  3 2021, 18:01:19) \n",
            "[GCC 7.5.0]\n",
            "scipy: 1.4.1\n",
            "numpy:1.19.5\n",
            "matplotlib:3.2.2\n",
            "pandas:1.1.5\n",
            "sklearn:0.22.2.post1\n",
            "seaborn: 0.11.1\n",
            "urlib:urllib\n",
            "csv: 1.0\n"
          ],
          "name": "stdout"
        }
      ]
    },
    {
      "cell_type": "markdown",
      "metadata": {
        "id": "bF-jEducDlYI"
      },
      "source": [
        "# **NumPy**"
      ]
    },
    {
      "cell_type": "code",
      "metadata": {
        "colab": {
          "base_uri": "https://localhost:8080/"
        },
        "id": "yWSAEhzDDo2v",
        "outputId": "3e46f7b7-951c-42a5-8b56-953b909db35a"
      },
      "source": [
        "import numpy as np\n",
        "a=np.array([0,1,2])\n",
        "print(type(a))\n",
        "print(a.shape)\n",
        "print(a[0])\n",
        "print(a[1])\n",
        "print(a[2])\n",
        "a[0]=5\n",
        "print(a)"
      ],
      "execution_count": 11,
      "outputs": [
        {
          "output_type": "stream",
          "name": "stdout",
          "text": [
            "<class 'numpy.ndarray'>\n",
            "(3,)\n",
            "0\n",
            "1\n",
            "2\n",
            "[5 1 2]\n"
          ]
        }
      ]
    },
    {
      "cell_type": "code",
      "metadata": {
        "colab": {
          "base_uri": "https://localhost:8080/"
        },
        "id": "O6r_dRJ9DtCX",
        "outputId": "b65cb2dd-10fe-4111-d4c8-07997d58377e"
      },
      "source": [
        "import numpy as np\n",
        "b=np.array([[0,1,2],[3,4,5]])\n",
        "print(b.shape)\n",
        "print(b)\n",
        "print(b[0,0],b[0,1],b[1,0])"
      ],
      "execution_count": 12,
      "outputs": [
        {
          "output_type": "stream",
          "name": "stdout",
          "text": [
            "(2, 3)\n",
            "[[0 1 2]\n",
            " [3 4 5]]\n",
            "0 1 3\n"
          ]
        }
      ]
    },
    {
      "cell_type": "code",
      "metadata": {
        "colab": {
          "base_uri": "https://localhost:8080/"
        },
        "id": "DHlMXUdNDwd-",
        "outputId": "711ecb74-fdfa-4973-a7a3-5020a7e0176e"
      },
      "source": [
        "import numpy as np\n",
        "a=np.zeros((3,3))\n",
        "print(a)"
      ],
      "execution_count": 13,
      "outputs": [
        {
          "output_type": "stream",
          "name": "stdout",
          "text": [
            "[[0. 0. 0.]\n",
            " [0. 0. 0.]\n",
            " [0. 0. 0.]]\n"
          ]
        }
      ]
    },
    {
      "cell_type": "code",
      "metadata": {
        "colab": {
          "base_uri": "https://localhost:8080/"
        },
        "id": "AqkW2tjSDxvW",
        "outputId": "920c97dc-4da0-45a5-ab16-a6d5952954d3"
      },
      "source": [
        "import numpy as np\n",
        "b=np.ones((2,2))\n",
        "print(b)"
      ],
      "execution_count": 14,
      "outputs": [
        {
          "output_type": "stream",
          "name": "stdout",
          "text": [
            "[[1. 1.]\n",
            " [1. 1.]]\n"
          ]
        }
      ]
    },
    {
      "cell_type": "code",
      "metadata": {
        "colab": {
          "base_uri": "https://localhost:8080/"
        },
        "id": "L4Dv6z1iD7Up",
        "outputId": "0dc1a2e1-5ff2-47c6-aaa4-db64e8f7e15b"
      },
      "source": [
        "import numpy as np\n",
        "c=np.full((3,3),7)\n",
        "print(c)"
      ],
      "execution_count": 15,
      "outputs": [
        {
          "output_type": "stream",
          "name": "stdout",
          "text": [
            "[[7 7 7]\n",
            " [7 7 7]\n",
            " [7 7 7]]\n"
          ]
        }
      ]
    },
    {
      "cell_type": "code",
      "metadata": {
        "colab": {
          "base_uri": "https://localhost:8080/"
        },
        "id": "7eh89f-OD_4e",
        "outputId": "64c33091-279f-47b7-d2e6-c5343e20dba1"
      },
      "source": [
        "import numpy as np\n",
        "d=np.random.random((3,3))\n",
        "print(d)"
      ],
      "execution_count": 16,
      "outputs": [
        {
          "output_type": "stream",
          "name": "stdout",
          "text": [
            "[[0.89361059 0.95429051 0.42871182]\n",
            " [0.41000376 0.20727543 0.15935893]\n",
            " [0.18224758 0.83699467 0.2998922 ]]\n"
          ]
        }
      ]
    },
    {
      "cell_type": "code",
      "metadata": {
        "colab": {
          "base_uri": "https://localhost:8080/"
        },
        "id": "JSIPE93YEDAW",
        "outputId": "504ebd9d-210d-4ff8-9f31-368919c427dc"
      },
      "source": [
        "import numpy as np\n",
        "e=np.eye(3)\n",
        "print(e)"
      ],
      "execution_count": 17,
      "outputs": [
        {
          "output_type": "stream",
          "name": "stdout",
          "text": [
            "[[1. 0. 0.]\n",
            " [0. 1. 0.]\n",
            " [0. 0. 1.]]\n"
          ]
        }
      ]
    },
    {
      "cell_type": "code",
      "metadata": {
        "colab": {
          "base_uri": "https://localhost:8080/"
        },
        "id": "dd9EyYSUEG5L",
        "outputId": "a2dac2f1-dd07-47a5-e6c2-e16527f8f2c9"
      },
      "source": [
        "import numpy as np\n",
        "f=np.array([2,3,1,0])\n",
        "print(f)"
      ],
      "execution_count": 18,
      "outputs": [
        {
          "output_type": "stream",
          "name": "stdout",
          "text": [
            "[2 3 1 0]\n"
          ]
        }
      ]
    },
    {
      "cell_type": "code",
      "metadata": {
        "colab": {
          "base_uri": "https://localhost:8080/"
        },
        "id": "mLxmTmPDEKLT",
        "outputId": "a6be91ae-6836-4016-a07a-a180e5541d7e"
      },
      "source": [
        "import numpy as np\n",
        "g=np.arange(2,10)\n",
        "print(g)"
      ],
      "execution_count": 19,
      "outputs": [
        {
          "output_type": "stream",
          "name": "stdout",
          "text": [
            "[2 3 4 5 6 7 8 9]\n"
          ]
        }
      ]
    },
    {
      "cell_type": "code",
      "metadata": {
        "colab": {
          "base_uri": "https://localhost:8080/"
        },
        "id": "iTPDqC7CEOcw",
        "outputId": "8adad5b4-e2ee-439b-e249-6ac969ad9d04"
      },
      "source": [
        "import numpy as np\n",
        "h=np.array([[0,1,2.0],[0,0,0],(1+1j,3.,2.)])\n",
        "print(h)"
      ],
      "execution_count": 20,
      "outputs": [
        {
          "output_type": "stream",
          "name": "stdout",
          "text": [
            "[[0.+0.j 1.+0.j 2.+0.j]\n",
            " [0.+0.j 0.+0.j 0.+0.j]\n",
            " [1.+1.j 3.+0.j 2.+0.j]]\n"
          ]
        }
      ]
    },
    {
      "cell_type": "code",
      "metadata": {
        "colab": {
          "base_uri": "https://localhost:8080/"
        },
        "id": "k7gilmCsERz2",
        "outputId": "75e5c3ab-216b-4079-dd4a-ce68c7bdc3ad"
      },
      "source": [
        "import numpy as np\n",
        "i=np.arange(1,8,dtype=np.float)\n",
        "print(i)"
      ],
      "execution_count": 21,
      "outputs": [
        {
          "output_type": "stream",
          "name": "stdout",
          "text": [
            "[1. 2. 3. 4. 5. 6. 7.]\n"
          ]
        }
      ]
    },
    {
      "cell_type": "code",
      "metadata": {
        "colab": {
          "base_uri": "https://localhost:8080/"
        },
        "id": "m6P-AesBEVWy",
        "outputId": "3a26bbf1-5ca2-4fe6-b440-2d1da3edf319"
      },
      "source": [
        "import numpy as np\n",
        "j=np.linspace(2.,4., 5)\n",
        "print(j)"
      ],
      "execution_count": 22,
      "outputs": [
        {
          "output_type": "stream",
          "name": "stdout",
          "text": [
            "[2.  2.5 3.  3.5 4. ]\n"
          ]
        }
      ]
    },
    {
      "cell_type": "code",
      "metadata": {
        "colab": {
          "base_uri": "https://localhost:8080/"
        },
        "id": "ltRfua0QEY1v",
        "outputId": "bf304e7c-a2fe-4864-e8fe-36afcd32b4b7"
      },
      "source": [
        "import numpy as np\n",
        "k=np.indices((3,3))\n",
        "print(k)"
      ],
      "execution_count": 23,
      "outputs": [
        {
          "output_type": "stream",
          "name": "stdout",
          "text": [
            "[[[0 0 0]\n",
            "  [1 1 1]\n",
            "  [2 2 2]]\n",
            "\n",
            " [[0 1 2]\n",
            "  [0 1 2]\n",
            "  [0 1 2]]]\n"
          ]
        }
      ]
    },
    {
      "cell_type": "code",
      "metadata": {
        "colab": {
          "base_uri": "https://localhost:8080/"
        },
        "id": "1KlwXCMKEb-a",
        "outputId": "cc58a84f-9def-4d5b-9604-cccb04346ed1"
      },
      "source": [
        "import numpy as np\n",
        "x=np.array([0,1])\n",
        "y=np.array([2.0,3.0])\n",
        "z=np.array([5,6], dtype=np.int64)\n",
        "print(x.dtype,y.dtype,z.dtype)"
      ],
      "execution_count": 24,
      "outputs": [
        {
          "output_type": "stream",
          "name": "stdout",
          "text": [
            "int64 float64 int64\n"
          ]
        }
      ]
    },
    {
      "cell_type": "code",
      "metadata": {
        "colab": {
          "base_uri": "https://localhost:8080/"
        },
        "id": "CAZJ5GY_EfLo",
        "outputId": "ad11f5fc-13c9-4a8c-a7f8-1f818103814b"
      },
      "source": [
        "import numpy as np\n",
        "x=np.array([5,6,7,8,9])\n",
        "print(x[1:7:2])\n",
        "print(x[-2:5])\n",
        "print(x[-1:1:-1])"
      ],
      "execution_count": 25,
      "outputs": [
        {
          "output_type": "stream",
          "name": "stdout",
          "text": [
            "[6 8]\n",
            "[8 9]\n",
            "[9 8 7]\n"
          ]
        }
      ]
    },
    {
      "cell_type": "code",
      "metadata": {
        "colab": {
          "base_uri": "https://localhost:8080/"
        },
        "id": "7p0N_Fm9Eicm",
        "outputId": "f25a11f0-dc04-4060-c75d-f905a92c0d53"
      },
      "source": [
        "import numpy as np\n",
        "a=np.array([[1,2],[3,4],[5,6]])\n",
        "print(a>2)\n",
        "print(a[a>2])"
      ],
      "execution_count": 26,
      "outputs": [
        {
          "output_type": "stream",
          "name": "stdout",
          "text": [
            "[[False False]\n",
            " [ True  True]\n",
            " [ True  True]]\n",
            "[3 4 5 6]\n"
          ]
        }
      ]
    },
    {
      "cell_type": "code",
      "metadata": {
        "colab": {
          "base_uri": "https://localhost:8080/"
        },
        "id": "Ov0SuNNGEl9M",
        "outputId": "8fa885fa-f539-4deb-ca50-29ace9b6941a"
      },
      "source": [
        "import numpy as np\n",
        "x=np.array([[1,2],[3,4],[5,6]])\n",
        "y=np.array([[7,8],[9,10],[11,12]])\n",
        "print(x+y)\n",
        "print(np.add(x,y))\n",
        "print(x-y)\n",
        "print(np.subtract(x,y))"
      ],
      "execution_count": 27,
      "outputs": [
        {
          "output_type": "stream",
          "name": "stdout",
          "text": [
            "[[ 8 10]\n",
            " [12 14]\n",
            " [16 18]]\n",
            "[[ 8 10]\n",
            " [12 14]\n",
            " [16 18]]\n",
            "[[-6 -6]\n",
            " [-6 -6]\n",
            " [-6 -6]]\n",
            "[[-6 -6]\n",
            " [-6 -6]\n",
            " [-6 -6]]\n"
          ]
        }
      ]
    },
    {
      "cell_type": "code",
      "metadata": {
        "colab": {
          "base_uri": "https://localhost:8080/"
        },
        "id": "tIbkSh7zEvhg",
        "outputId": "c3a9b4e7-fdda-4ed1-e44c-151ed8f82885"
      },
      "source": [
        "import numpy as np\n",
        "x=np.array([[1,2],[3,4],[5,6]])\n",
        "y=np.array([[7,8],[9,10],[11,12]])\n",
        "print(np.multiply(x,y))\n",
        "print(x*y)"
      ],
      "execution_count": 28,
      "outputs": [
        {
          "output_type": "stream",
          "name": "stdout",
          "text": [
            "[[ 7 16]\n",
            " [27 40]\n",
            " [55 72]]\n",
            "[[ 7 16]\n",
            " [27 40]\n",
            " [55 72]]\n"
          ]
        }
      ]
    },
    {
      "cell_type": "code",
      "metadata": {
        "colab": {
          "base_uri": "https://localhost:8080/"
        },
        "id": "AYL4VpzBEy3v",
        "outputId": "f9a3eb27-6ff6-410f-8c7b-a3f4c79a8497"
      },
      "source": [
        "import numpy as np\n",
        "x=np.array([[1,2],[3,4],[5,6]])\n",
        "y=np.array([[7,8],[9,10],[11,12]])\n",
        "print(np.divide(x,y))\n",
        "print(x/y)"
      ],
      "execution_count": 29,
      "outputs": [
        {
          "output_type": "stream",
          "name": "stdout",
          "text": [
            "[[0.14285714 0.25      ]\n",
            " [0.33333333 0.4       ]\n",
            " [0.45454545 0.5       ]]\n",
            "[[0.14285714 0.25      ]\n",
            " [0.33333333 0.4       ]\n",
            " [0.45454545 0.5       ]]\n"
          ]
        }
      ]
    },
    {
      "cell_type": "code",
      "metadata": {
        "colab": {
          "base_uri": "https://localhost:8080/"
        },
        "id": "oeJEPFDBE2gU",
        "outputId": "a759aaf5-5e5d-43db-8b76-2e01e82a28ce"
      },
      "source": [
        "import numpy as np\n",
        "x=np.array([[1,2],[3,4],[5,6]])\n",
        "print(np.sqrt(x))"
      ],
      "execution_count": 30,
      "outputs": [
        {
          "output_type": "stream",
          "name": "stdout",
          "text": [
            "[[1.         1.41421356]\n",
            " [1.73205081 2.        ]\n",
            " [2.23606798 2.44948974]]\n"
          ]
        }
      ]
    },
    {
      "cell_type": "code",
      "metadata": {
        "colab": {
          "base_uri": "https://localhost:8080/"
        },
        "id": "g17THXLUE525",
        "outputId": "d767b763-279c-4fd6-bf42-0265267aea20"
      },
      "source": [
        "import numpy as np\n",
        "a=np.array([9,10])\n",
        "b=np.array([11,12])\n",
        "print(a.dot(b))\n",
        "print(np.dot(a,b))"
      ],
      "execution_count": 31,
      "outputs": [
        {
          "output_type": "stream",
          "name": "stdout",
          "text": [
            "219\n",
            "219\n"
          ]
        }
      ]
    },
    {
      "cell_type": "code",
      "metadata": {
        "colab": {
          "base_uri": "https://localhost:8080/"
        },
        "id": "hy4FOkNKE9Od",
        "outputId": "ea3f2f71-3155-4800-848c-9576df391121"
      },
      "source": [
        "import numpy as np\n",
        "a=np.array([9,10])\n",
        "x=np.array([[1,2],[3,4]])\n",
        "print(x.dot(a))\n",
        "print(np.dot(x,a))"
      ],
      "execution_count": 32,
      "outputs": [
        {
          "output_type": "stream",
          "name": "stdout",
          "text": [
            "[29 67]\n",
            "[29 67]\n"
          ]
        }
      ]
    },
    {
      "cell_type": "code",
      "metadata": {
        "colab": {
          "base_uri": "https://localhost:8080/"
        },
        "id": "dO9d0TpDFAQh",
        "outputId": "18fc35f2-9291-4d6e-d90b-25eaece8a586"
      },
      "source": [
        "import numpy as np\n",
        "x=np.array([[1,2],[3,4]])\n",
        "y=np.array([[5,6],[7,8]])\n",
        "print(x.dot(y))\n",
        "print(np.dot(x,y))"
      ],
      "execution_count": 33,
      "outputs": [
        {
          "output_type": "stream",
          "name": "stdout",
          "text": [
            "[[19 22]\n",
            " [43 50]]\n",
            "[[19 22]\n",
            " [43 50]]\n"
          ]
        }
      ]
    },
    {
      "cell_type": "code",
      "metadata": {
        "colab": {
          "base_uri": "https://localhost:8080/"
        },
        "id": "HZXBe4xsFDLY",
        "outputId": "e3f641d9-939e-40d6-f274-fb79b90a3c5f"
      },
      "source": [
        "import numpy as np\n",
        "x=np.array([[1,2],[3,4]])\n",
        "print(np.sum(x))\n",
        "print(np.sum(x,axis=0))\n",
        "print(np.sum(x,axis=1))"
      ],
      "execution_count": 34,
      "outputs": [
        {
          "output_type": "stream",
          "name": "stdout",
          "text": [
            "10\n",
            "[4 6]\n",
            "[3 7]\n"
          ]
        }
      ]
    },
    {
      "cell_type": "code",
      "metadata": {
        "colab": {
          "base_uri": "https://localhost:8080/"
        },
        "id": "xpQrGiwcFHGq",
        "outputId": "6abce27c-ba83-47e4-a7cd-365ab2c508df"
      },
      "source": [
        "import numpy as np\n",
        "x=np.array([[1,2],[3,4]])\n",
        "print(x)\n",
        "print(x.T)"
      ],
      "execution_count": 35,
      "outputs": [
        {
          "output_type": "stream",
          "name": "stdout",
          "text": [
            "[[1 2]\n",
            " [3 4]]\n",
            "[[1 3]\n",
            " [2 4]]\n"
          ]
        }
      ]
    },
    {
      "cell_type": "code",
      "metadata": {
        "colab": {
          "base_uri": "https://localhost:8080/"
        },
        "id": "vkwfdwplFKen",
        "outputId": "69cadf35-c05c-48ac-af84-09526aeb0c01"
      },
      "source": [
        "import numpy as np\n",
        "v=np.array([1,2,3])\n",
        "print(v)\n",
        "print(v.T)"
      ],
      "execution_count": 36,
      "outputs": [
        {
          "output_type": "stream",
          "name": "stdout",
          "text": [
            "[1 2 3]\n",
            "[1 2 3]\n"
          ]
        }
      ]
    },
    {
      "cell_type": "code",
      "metadata": {
        "colab": {
          "base_uri": "https://localhost:8080/"
        },
        "id": "gbMKt8nxFOnD",
        "outputId": "181d5ba0-b8d5-495f-911c-0c39371baabd"
      },
      "source": [
        "import numpy as np\n",
        "a=np.array([[1,2,3],[4,5,6],[7,8,9]])\n",
        "v=np.array([1,0,1])\n",
        "b=a+v\n",
        "print(b)"
      ],
      "execution_count": 37,
      "outputs": [
        {
          "output_type": "stream",
          "name": "stdout",
          "text": [
            "[[ 2  2  4]\n",
            " [ 5  5  7]\n",
            " [ 8  8 10]]\n"
          ]
        }
      ]
    },
    {
      "cell_type": "code",
      "metadata": {
        "colab": {
          "base_uri": "https://localhost:8080/"
        },
        "id": "7Y3BjrjoFSVa",
        "outputId": "fd035b04-b147-4587-e46c-86c82fa7b0c8"
      },
      "source": [
        "import numpy as np\n",
        "x=np.array([[1,2,1],[3,4,1]])\n",
        "print(\"X.T:\\n\",x.T)\n",
        "w=np.array([1,1])\n",
        "print(\"W:\\n\",w)\n",
        " \n",
        "print(\"Final :\\n\",(x.T+w).T)"
      ],
      "execution_count": 38,
      "outputs": [
        {
          "output_type": "stream",
          "name": "stdout",
          "text": [
            "X.T:\n",
            " [[1 3]\n",
            " [2 4]\n",
            " [1 1]]\n",
            "W:\n",
            " [1 1]\n",
            "Final :\n",
            " [[2 3 2]\n",
            " [4 5 2]]\n"
          ]
        }
      ]
    },
    {
      "cell_type": "code",
      "metadata": {
        "colab": {
          "base_uri": "https://localhost:8080/"
        },
        "id": "7zpHKzMGFV2u",
        "outputId": "b417efc1-4ab2-4b05-94d0-91bc899b90c8"
      },
      "source": [
        "import numpy as np\n",
        "x=np.array([[1,2,1],[3,4,1]])\n",
        "print(x*2)"
      ],
      "execution_count": 39,
      "outputs": [
        {
          "output_type": "stream",
          "name": "stdout",
          "text": [
            "[[2 4 2]\n",
            " [6 8 2]]\n"
          ]
        }
      ]
    },
    {
      "cell_type": "code",
      "metadata": {
        "colab": {
          "base_uri": "https://localhost:8080/"
        },
        "id": "hsSPn4kXFZAv",
        "outputId": "5ab1ffd4-9d40-4088-af86-b66259bf86a0"
      },
      "source": [
        "import numpy as np\n",
        "np.random.rand(3,2)"
      ],
      "execution_count": 40,
      "outputs": [
        {
          "output_type": "execute_result",
          "data": {
            "text/plain": [
              "array([[0.81489928, 0.11041312],\n",
              "       [0.46947301, 0.22732341],\n",
              "       [0.24308641, 0.09439994]])"
            ]
          },
          "metadata": {},
          "execution_count": 40
        }
      ]
    },
    {
      "cell_type": "code",
      "metadata": {
        "colab": {
          "base_uri": "https://localhost:8080/"
        },
        "id": "nGuLWzb0FcUJ",
        "outputId": "966c10e4-589a-4771-fff6-21a5c4a8e67a"
      },
      "source": [
        "import numpy as np\n",
        "np.random.rand(10)"
      ],
      "execution_count": 41,
      "outputs": [
        {
          "output_type": "execute_result",
          "data": {
            "text/plain": [
              "array([0.15928955, 0.19689528, 0.9989344 , 0.96374504, 0.9159415 ,\n",
              "       0.13402116, 0.91429462, 0.2272718 , 0.58784288, 0.74752714])"
            ]
          },
          "metadata": {},
          "execution_count": 41
        }
      ]
    },
    {
      "cell_type": "code",
      "metadata": {
        "colab": {
          "base_uri": "https://localhost:8080/"
        },
        "id": "LUQ1i2BqFfia",
        "outputId": "0f58314b-d083-4b42-c2ec-d63f076543fe"
      },
      "source": [
        "import random\n",
        "print (random.randint(0,9))"
      ],
      "execution_count": 42,
      "outputs": [
        {
          "output_type": "stream",
          "name": "stdout",
          "text": [
            "8\n"
          ]
        }
      ]
    },
    {
      "cell_type": "markdown",
      "metadata": {
        "id": "9awMknVRFiw-"
      },
      "source": [
        "# **Pandas**"
      ]
    },
    {
      "cell_type": "markdown",
      "metadata": {
        "id": "EofJkEFUFlEI"
      },
      "source": [
        "# **1.Creating Series**"
      ]
    },
    {
      "cell_type": "code",
      "metadata": {
        "colab": {
          "base_uri": "https://localhost:8080/"
        },
        "id": "JG3v08KVFn4Z",
        "outputId": "4ad0b82a-8da3-4dba-c042-6b5bafa713c9"
      },
      "source": [
        "import pandas as pd\n",
        "s=pd.Series([1,2,3,4,5],index=['A','B','C','D','E'])\n",
        "s"
      ],
      "execution_count": 43,
      "outputs": [
        {
          "output_type": "execute_result",
          "data": {
            "text/plain": [
              "A    1\n",
              "B    2\n",
              "C    3\n",
              "D    4\n",
              "E    5\n",
              "dtype: int64"
            ]
          },
          "metadata": {},
          "execution_count": 43
        }
      ]
    },
    {
      "cell_type": "markdown",
      "metadata": {
        "id": "OQ8LR8SqFsPR"
      },
      "source": [
        "# **2.Data Frames**"
      ]
    },
    {
      "cell_type": "code",
      "metadata": {
        "colab": {
          "base_uri": "https://localhost:8080/"
        },
        "id": "kS5acGlDFtFs",
        "outputId": "9876b984-f523-4686-c0c5-53a0fa029855"
      },
      "source": [
        "import pandas as pd\n",
        "data={'Gen':['F','M','M'],'EiD':['E01','E02','E03'],'Age':[25,45,38]}\n",
        " \n",
        "df=pd.DataFrame(data,columns=['EiD','Age','Gen'])\n",
        "print(df)"
      ],
      "execution_count": 44,
      "outputs": [
        {
          "output_type": "stream",
          "name": "stdout",
          "text": [
            "   EiD  Age Gen\n",
            "0  E01   25   F\n",
            "1  E02   45   M\n",
            "2  E03   38   M\n"
          ]
        }
      ]
    },
    {
      "cell_type": "code",
      "metadata": {
        "colab": {
          "base_uri": "https://localhost:8080/"
        },
        "id": "kzSZrRFgFyT4",
        "outputId": "079296e3-344b-4ab6-d8f4-ca0c7f2190c0"
      },
      "source": [
        "import pandas as pd\n",
        "from numpy import loadtxt\n",
        "from urllib.request import urlopen\n",
        " \n",
        "url='https://raw.githubusercontent.com/jbrownlee/datasets/master/pima-indians-diabetes.data.csv'\n",
        " \n",
        "raw_data=pd.read_csv(urlopen(url))\n",
        "raw_data.shape"
      ],
      "execution_count": 45,
      "outputs": [
        {
          "output_type": "execute_result",
          "data": {
            "text/plain": [
              "(767, 9)"
            ]
          },
          "metadata": {},
          "execution_count": 45
        }
      ]
    },
    {
      "cell_type": "code",
      "metadata": {
        "colab": {
          "base_uri": "https://localhost:8080/",
          "height": 226
        },
        "id": "GLpxEGMGF2HE",
        "outputId": "b5a60c75-3340-4ecd-f589-241b46c83568"
      },
      "source": [
        "raw_data.head()"
      ],
      "execution_count": 46,
      "outputs": [
        {
          "output_type": "execute_result",
          "data": {
            "text/html": [
              "<div>\n",
              "<style scoped>\n",
              "    .dataframe tbody tr th:only-of-type {\n",
              "        vertical-align: middle;\n",
              "    }\n",
              "\n",
              "    .dataframe tbody tr th {\n",
              "        vertical-align: top;\n",
              "    }\n",
              "\n",
              "    .dataframe thead th {\n",
              "        text-align: right;\n",
              "    }\n",
              "</style>\n",
              "<table border=\"1\" class=\"dataframe\">\n",
              "  <thead>\n",
              "    <tr style=\"text-align: right;\">\n",
              "      <th></th>\n",
              "      <th>6</th>\n",
              "      <th>148</th>\n",
              "      <th>72</th>\n",
              "      <th>35</th>\n",
              "      <th>0</th>\n",
              "      <th>33.6</th>\n",
              "      <th>0.627</th>\n",
              "      <th>50</th>\n",
              "      <th>1</th>\n",
              "    </tr>\n",
              "  </thead>\n",
              "  <tbody>\n",
              "    <tr>\n",
              "      <th>0</th>\n",
              "      <td>1</td>\n",
              "      <td>85</td>\n",
              "      <td>66</td>\n",
              "      <td>29</td>\n",
              "      <td>0</td>\n",
              "      <td>26.6</td>\n",
              "      <td>0.351</td>\n",
              "      <td>31</td>\n",
              "      <td>0</td>\n",
              "    </tr>\n",
              "    <tr>\n",
              "      <th>1</th>\n",
              "      <td>8</td>\n",
              "      <td>183</td>\n",
              "      <td>64</td>\n",
              "      <td>0</td>\n",
              "      <td>0</td>\n",
              "      <td>23.3</td>\n",
              "      <td>0.672</td>\n",
              "      <td>32</td>\n",
              "      <td>1</td>\n",
              "    </tr>\n",
              "    <tr>\n",
              "      <th>2</th>\n",
              "      <td>1</td>\n",
              "      <td>89</td>\n",
              "      <td>66</td>\n",
              "      <td>23</td>\n",
              "      <td>94</td>\n",
              "      <td>28.1</td>\n",
              "      <td>0.167</td>\n",
              "      <td>21</td>\n",
              "      <td>0</td>\n",
              "    </tr>\n",
              "    <tr>\n",
              "      <th>3</th>\n",
              "      <td>0</td>\n",
              "      <td>137</td>\n",
              "      <td>40</td>\n",
              "      <td>35</td>\n",
              "      <td>168</td>\n",
              "      <td>43.1</td>\n",
              "      <td>2.288</td>\n",
              "      <td>33</td>\n",
              "      <td>1</td>\n",
              "    </tr>\n",
              "    <tr>\n",
              "      <th>4</th>\n",
              "      <td>5</td>\n",
              "      <td>116</td>\n",
              "      <td>74</td>\n",
              "      <td>0</td>\n",
              "      <td>0</td>\n",
              "      <td>25.6</td>\n",
              "      <td>0.201</td>\n",
              "      <td>30</td>\n",
              "      <td>0</td>\n",
              "    </tr>\n",
              "  </tbody>\n",
              "</table>\n",
              "</div>"
            ],
            "text/plain": [
              "   6  148  72  35    0  33.6  0.627  50  1\n",
              "0  1   85  66  29    0  26.6  0.351  31  0\n",
              "1  8  183  64   0    0  23.3  0.672  32  1\n",
              "2  1   89  66  23   94  28.1  0.167  21  0\n",
              "3  0  137  40  35  168  43.1  2.288  33  1\n",
              "4  5  116  74   0    0  25.6  0.201  30  0"
            ]
          },
          "metadata": {},
          "execution_count": 46
        }
      ]
    },
    {
      "cell_type": "code",
      "metadata": {
        "colab": {
          "base_uri": "https://localhost:8080/",
          "height": 226
        },
        "id": "JyXzaKeRF5pr",
        "outputId": "1d0d3159-ce61-411c-fb82-e87f0ff659cf"
      },
      "source": [
        "raw_data.tail()"
      ],
      "execution_count": 47,
      "outputs": [
        {
          "output_type": "execute_result",
          "data": {
            "text/html": [
              "<div>\n",
              "<style scoped>\n",
              "    .dataframe tbody tr th:only-of-type {\n",
              "        vertical-align: middle;\n",
              "    }\n",
              "\n",
              "    .dataframe tbody tr th {\n",
              "        vertical-align: top;\n",
              "    }\n",
              "\n",
              "    .dataframe thead th {\n",
              "        text-align: right;\n",
              "    }\n",
              "</style>\n",
              "<table border=\"1\" class=\"dataframe\">\n",
              "  <thead>\n",
              "    <tr style=\"text-align: right;\">\n",
              "      <th></th>\n",
              "      <th>6</th>\n",
              "      <th>148</th>\n",
              "      <th>72</th>\n",
              "      <th>35</th>\n",
              "      <th>0</th>\n",
              "      <th>33.6</th>\n",
              "      <th>0.627</th>\n",
              "      <th>50</th>\n",
              "      <th>1</th>\n",
              "    </tr>\n",
              "  </thead>\n",
              "  <tbody>\n",
              "    <tr>\n",
              "      <th>762</th>\n",
              "      <td>10</td>\n",
              "      <td>101</td>\n",
              "      <td>76</td>\n",
              "      <td>48</td>\n",
              "      <td>180</td>\n",
              "      <td>32.9</td>\n",
              "      <td>0.171</td>\n",
              "      <td>63</td>\n",
              "      <td>0</td>\n",
              "    </tr>\n",
              "    <tr>\n",
              "      <th>763</th>\n",
              "      <td>2</td>\n",
              "      <td>122</td>\n",
              "      <td>70</td>\n",
              "      <td>27</td>\n",
              "      <td>0</td>\n",
              "      <td>36.8</td>\n",
              "      <td>0.340</td>\n",
              "      <td>27</td>\n",
              "      <td>0</td>\n",
              "    </tr>\n",
              "    <tr>\n",
              "      <th>764</th>\n",
              "      <td>5</td>\n",
              "      <td>121</td>\n",
              "      <td>72</td>\n",
              "      <td>23</td>\n",
              "      <td>112</td>\n",
              "      <td>26.2</td>\n",
              "      <td>0.245</td>\n",
              "      <td>30</td>\n",
              "      <td>0</td>\n",
              "    </tr>\n",
              "    <tr>\n",
              "      <th>765</th>\n",
              "      <td>1</td>\n",
              "      <td>126</td>\n",
              "      <td>60</td>\n",
              "      <td>0</td>\n",
              "      <td>0</td>\n",
              "      <td>30.1</td>\n",
              "      <td>0.349</td>\n",
              "      <td>47</td>\n",
              "      <td>1</td>\n",
              "    </tr>\n",
              "    <tr>\n",
              "      <th>766</th>\n",
              "      <td>1</td>\n",
              "      <td>93</td>\n",
              "      <td>70</td>\n",
              "      <td>31</td>\n",
              "      <td>0</td>\n",
              "      <td>30.4</td>\n",
              "      <td>0.315</td>\n",
              "      <td>23</td>\n",
              "      <td>0</td>\n",
              "    </tr>\n",
              "  </tbody>\n",
              "</table>\n",
              "</div>"
            ],
            "text/plain": [
              "      6  148  72  35    0  33.6  0.627  50  1\n",
              "762  10  101  76  48  180  32.9  0.171  63  0\n",
              "763   2  122  70  27    0  36.8  0.340  27  0\n",
              "764   5  121  72  23  112  26.2  0.245  30  0\n",
              "765   1  126  60   0    0  30.1  0.349  47  1\n",
              "766   1   93  70  31    0  30.4  0.315  23  0"
            ]
          },
          "metadata": {},
          "execution_count": 47
        }
      ]
    },
    {
      "cell_type": "code",
      "metadata": {
        "colab": {
          "base_uri": "https://localhost:8080/",
          "height": 852
        },
        "id": "Y0paWA_6F8_a",
        "outputId": "9d679028-71cd-4cb6-8b89-4d656c8e780d"
      },
      "source": [
        "raw_data.head(25)"
      ],
      "execution_count": 48,
      "outputs": [
        {
          "output_type": "execute_result",
          "data": {
            "text/html": [
              "<div>\n",
              "<style scoped>\n",
              "    .dataframe tbody tr th:only-of-type {\n",
              "        vertical-align: middle;\n",
              "    }\n",
              "\n",
              "    .dataframe tbody tr th {\n",
              "        vertical-align: top;\n",
              "    }\n",
              "\n",
              "    .dataframe thead th {\n",
              "        text-align: right;\n",
              "    }\n",
              "</style>\n",
              "<table border=\"1\" class=\"dataframe\">\n",
              "  <thead>\n",
              "    <tr style=\"text-align: right;\">\n",
              "      <th></th>\n",
              "      <th>6</th>\n",
              "      <th>148</th>\n",
              "      <th>72</th>\n",
              "      <th>35</th>\n",
              "      <th>0</th>\n",
              "      <th>33.6</th>\n",
              "      <th>0.627</th>\n",
              "      <th>50</th>\n",
              "      <th>1</th>\n",
              "    </tr>\n",
              "  </thead>\n",
              "  <tbody>\n",
              "    <tr>\n",
              "      <th>0</th>\n",
              "      <td>1</td>\n",
              "      <td>85</td>\n",
              "      <td>66</td>\n",
              "      <td>29</td>\n",
              "      <td>0</td>\n",
              "      <td>26.6</td>\n",
              "      <td>0.351</td>\n",
              "      <td>31</td>\n",
              "      <td>0</td>\n",
              "    </tr>\n",
              "    <tr>\n",
              "      <th>1</th>\n",
              "      <td>8</td>\n",
              "      <td>183</td>\n",
              "      <td>64</td>\n",
              "      <td>0</td>\n",
              "      <td>0</td>\n",
              "      <td>23.3</td>\n",
              "      <td>0.672</td>\n",
              "      <td>32</td>\n",
              "      <td>1</td>\n",
              "    </tr>\n",
              "    <tr>\n",
              "      <th>2</th>\n",
              "      <td>1</td>\n",
              "      <td>89</td>\n",
              "      <td>66</td>\n",
              "      <td>23</td>\n",
              "      <td>94</td>\n",
              "      <td>28.1</td>\n",
              "      <td>0.167</td>\n",
              "      <td>21</td>\n",
              "      <td>0</td>\n",
              "    </tr>\n",
              "    <tr>\n",
              "      <th>3</th>\n",
              "      <td>0</td>\n",
              "      <td>137</td>\n",
              "      <td>40</td>\n",
              "      <td>35</td>\n",
              "      <td>168</td>\n",
              "      <td>43.1</td>\n",
              "      <td>2.288</td>\n",
              "      <td>33</td>\n",
              "      <td>1</td>\n",
              "    </tr>\n",
              "    <tr>\n",
              "      <th>4</th>\n",
              "      <td>5</td>\n",
              "      <td>116</td>\n",
              "      <td>74</td>\n",
              "      <td>0</td>\n",
              "      <td>0</td>\n",
              "      <td>25.6</td>\n",
              "      <td>0.201</td>\n",
              "      <td>30</td>\n",
              "      <td>0</td>\n",
              "    </tr>\n",
              "    <tr>\n",
              "      <th>5</th>\n",
              "      <td>3</td>\n",
              "      <td>78</td>\n",
              "      <td>50</td>\n",
              "      <td>32</td>\n",
              "      <td>88</td>\n",
              "      <td>31.0</td>\n",
              "      <td>0.248</td>\n",
              "      <td>26</td>\n",
              "      <td>1</td>\n",
              "    </tr>\n",
              "    <tr>\n",
              "      <th>6</th>\n",
              "      <td>10</td>\n",
              "      <td>115</td>\n",
              "      <td>0</td>\n",
              "      <td>0</td>\n",
              "      <td>0</td>\n",
              "      <td>35.3</td>\n",
              "      <td>0.134</td>\n",
              "      <td>29</td>\n",
              "      <td>0</td>\n",
              "    </tr>\n",
              "    <tr>\n",
              "      <th>7</th>\n",
              "      <td>2</td>\n",
              "      <td>197</td>\n",
              "      <td>70</td>\n",
              "      <td>45</td>\n",
              "      <td>543</td>\n",
              "      <td>30.5</td>\n",
              "      <td>0.158</td>\n",
              "      <td>53</td>\n",
              "      <td>1</td>\n",
              "    </tr>\n",
              "    <tr>\n",
              "      <th>8</th>\n",
              "      <td>8</td>\n",
              "      <td>125</td>\n",
              "      <td>96</td>\n",
              "      <td>0</td>\n",
              "      <td>0</td>\n",
              "      <td>0.0</td>\n",
              "      <td>0.232</td>\n",
              "      <td>54</td>\n",
              "      <td>1</td>\n",
              "    </tr>\n",
              "    <tr>\n",
              "      <th>9</th>\n",
              "      <td>4</td>\n",
              "      <td>110</td>\n",
              "      <td>92</td>\n",
              "      <td>0</td>\n",
              "      <td>0</td>\n",
              "      <td>37.6</td>\n",
              "      <td>0.191</td>\n",
              "      <td>30</td>\n",
              "      <td>0</td>\n",
              "    </tr>\n",
              "    <tr>\n",
              "      <th>10</th>\n",
              "      <td>10</td>\n",
              "      <td>168</td>\n",
              "      <td>74</td>\n",
              "      <td>0</td>\n",
              "      <td>0</td>\n",
              "      <td>38.0</td>\n",
              "      <td>0.537</td>\n",
              "      <td>34</td>\n",
              "      <td>1</td>\n",
              "    </tr>\n",
              "    <tr>\n",
              "      <th>11</th>\n",
              "      <td>10</td>\n",
              "      <td>139</td>\n",
              "      <td>80</td>\n",
              "      <td>0</td>\n",
              "      <td>0</td>\n",
              "      <td>27.1</td>\n",
              "      <td>1.441</td>\n",
              "      <td>57</td>\n",
              "      <td>0</td>\n",
              "    </tr>\n",
              "    <tr>\n",
              "      <th>12</th>\n",
              "      <td>1</td>\n",
              "      <td>189</td>\n",
              "      <td>60</td>\n",
              "      <td>23</td>\n",
              "      <td>846</td>\n",
              "      <td>30.1</td>\n",
              "      <td>0.398</td>\n",
              "      <td>59</td>\n",
              "      <td>1</td>\n",
              "    </tr>\n",
              "    <tr>\n",
              "      <th>13</th>\n",
              "      <td>5</td>\n",
              "      <td>166</td>\n",
              "      <td>72</td>\n",
              "      <td>19</td>\n",
              "      <td>175</td>\n",
              "      <td>25.8</td>\n",
              "      <td>0.587</td>\n",
              "      <td>51</td>\n",
              "      <td>1</td>\n",
              "    </tr>\n",
              "    <tr>\n",
              "      <th>14</th>\n",
              "      <td>7</td>\n",
              "      <td>100</td>\n",
              "      <td>0</td>\n",
              "      <td>0</td>\n",
              "      <td>0</td>\n",
              "      <td>30.0</td>\n",
              "      <td>0.484</td>\n",
              "      <td>32</td>\n",
              "      <td>1</td>\n",
              "    </tr>\n",
              "    <tr>\n",
              "      <th>15</th>\n",
              "      <td>0</td>\n",
              "      <td>118</td>\n",
              "      <td>84</td>\n",
              "      <td>47</td>\n",
              "      <td>230</td>\n",
              "      <td>45.8</td>\n",
              "      <td>0.551</td>\n",
              "      <td>31</td>\n",
              "      <td>1</td>\n",
              "    </tr>\n",
              "    <tr>\n",
              "      <th>16</th>\n",
              "      <td>7</td>\n",
              "      <td>107</td>\n",
              "      <td>74</td>\n",
              "      <td>0</td>\n",
              "      <td>0</td>\n",
              "      <td>29.6</td>\n",
              "      <td>0.254</td>\n",
              "      <td>31</td>\n",
              "      <td>1</td>\n",
              "    </tr>\n",
              "    <tr>\n",
              "      <th>17</th>\n",
              "      <td>1</td>\n",
              "      <td>103</td>\n",
              "      <td>30</td>\n",
              "      <td>38</td>\n",
              "      <td>83</td>\n",
              "      <td>43.3</td>\n",
              "      <td>0.183</td>\n",
              "      <td>33</td>\n",
              "      <td>0</td>\n",
              "    </tr>\n",
              "    <tr>\n",
              "      <th>18</th>\n",
              "      <td>1</td>\n",
              "      <td>115</td>\n",
              "      <td>70</td>\n",
              "      <td>30</td>\n",
              "      <td>96</td>\n",
              "      <td>34.6</td>\n",
              "      <td>0.529</td>\n",
              "      <td>32</td>\n",
              "      <td>1</td>\n",
              "    </tr>\n",
              "    <tr>\n",
              "      <th>19</th>\n",
              "      <td>3</td>\n",
              "      <td>126</td>\n",
              "      <td>88</td>\n",
              "      <td>41</td>\n",
              "      <td>235</td>\n",
              "      <td>39.3</td>\n",
              "      <td>0.704</td>\n",
              "      <td>27</td>\n",
              "      <td>0</td>\n",
              "    </tr>\n",
              "    <tr>\n",
              "      <th>20</th>\n",
              "      <td>8</td>\n",
              "      <td>99</td>\n",
              "      <td>84</td>\n",
              "      <td>0</td>\n",
              "      <td>0</td>\n",
              "      <td>35.4</td>\n",
              "      <td>0.388</td>\n",
              "      <td>50</td>\n",
              "      <td>0</td>\n",
              "    </tr>\n",
              "    <tr>\n",
              "      <th>21</th>\n",
              "      <td>7</td>\n",
              "      <td>196</td>\n",
              "      <td>90</td>\n",
              "      <td>0</td>\n",
              "      <td>0</td>\n",
              "      <td>39.8</td>\n",
              "      <td>0.451</td>\n",
              "      <td>41</td>\n",
              "      <td>1</td>\n",
              "    </tr>\n",
              "    <tr>\n",
              "      <th>22</th>\n",
              "      <td>9</td>\n",
              "      <td>119</td>\n",
              "      <td>80</td>\n",
              "      <td>35</td>\n",
              "      <td>0</td>\n",
              "      <td>29.0</td>\n",
              "      <td>0.263</td>\n",
              "      <td>29</td>\n",
              "      <td>1</td>\n",
              "    </tr>\n",
              "    <tr>\n",
              "      <th>23</th>\n",
              "      <td>11</td>\n",
              "      <td>143</td>\n",
              "      <td>94</td>\n",
              "      <td>33</td>\n",
              "      <td>146</td>\n",
              "      <td>36.6</td>\n",
              "      <td>0.254</td>\n",
              "      <td>51</td>\n",
              "      <td>1</td>\n",
              "    </tr>\n",
              "    <tr>\n",
              "      <th>24</th>\n",
              "      <td>10</td>\n",
              "      <td>125</td>\n",
              "      <td>70</td>\n",
              "      <td>26</td>\n",
              "      <td>115</td>\n",
              "      <td>31.1</td>\n",
              "      <td>0.205</td>\n",
              "      <td>41</td>\n",
              "      <td>1</td>\n",
              "    </tr>\n",
              "  </tbody>\n",
              "</table>\n",
              "</div>"
            ],
            "text/plain": [
              "     6  148  72  35    0  33.6  0.627  50  1\n",
              "0    1   85  66  29    0  26.6  0.351  31  0\n",
              "1    8  183  64   0    0  23.3  0.672  32  1\n",
              "2    1   89  66  23   94  28.1  0.167  21  0\n",
              "3    0  137  40  35  168  43.1  2.288  33  1\n",
              "4    5  116  74   0    0  25.6  0.201  30  0\n",
              "5    3   78  50  32   88  31.0  0.248  26  1\n",
              "6   10  115   0   0    0  35.3  0.134  29  0\n",
              "7    2  197  70  45  543  30.5  0.158  53  1\n",
              "8    8  125  96   0    0   0.0  0.232  54  1\n",
              "9    4  110  92   0    0  37.6  0.191  30  0\n",
              "10  10  168  74   0    0  38.0  0.537  34  1\n",
              "11  10  139  80   0    0  27.1  1.441  57  0\n",
              "12   1  189  60  23  846  30.1  0.398  59  1\n",
              "13   5  166  72  19  175  25.8  0.587  51  1\n",
              "14   7  100   0   0    0  30.0  0.484  32  1\n",
              "15   0  118  84  47  230  45.8  0.551  31  1\n",
              "16   7  107  74   0    0  29.6  0.254  31  1\n",
              "17   1  103  30  38   83  43.3  0.183  33  0\n",
              "18   1  115  70  30   96  34.6  0.529  32  1\n",
              "19   3  126  88  41  235  39.3  0.704  27  0\n",
              "20   8   99  84   0    0  35.4  0.388  50  0\n",
              "21   7  196  90   0    0  39.8  0.451  41  1\n",
              "22   9  119  80  35    0  29.0  0.263  29  1\n",
              "23  11  143  94  33  146  36.6  0.254  51  1\n",
              "24  10  125  70  26  115  31.1  0.205  41  1"
            ]
          },
          "metadata": {},
          "execution_count": 48
        }
      ]
    },
    {
      "cell_type": "code",
      "metadata": {
        "colab": {
          "base_uri": "https://localhost:8080/",
          "height": 320
        },
        "id": "J_97sT1iGAvq",
        "outputId": "c1ed1cb8-ffb2-47f5-c041-736db89344a3"
      },
      "source": [
        "raw_data.describe()"
      ],
      "execution_count": 49,
      "outputs": [
        {
          "output_type": "execute_result",
          "data": {
            "text/html": [
              "<div>\n",
              "<style scoped>\n",
              "    .dataframe tbody tr th:only-of-type {\n",
              "        vertical-align: middle;\n",
              "    }\n",
              "\n",
              "    .dataframe tbody tr th {\n",
              "        vertical-align: top;\n",
              "    }\n",
              "\n",
              "    .dataframe thead th {\n",
              "        text-align: right;\n",
              "    }\n",
              "</style>\n",
              "<table border=\"1\" class=\"dataframe\">\n",
              "  <thead>\n",
              "    <tr style=\"text-align: right;\">\n",
              "      <th></th>\n",
              "      <th>6</th>\n",
              "      <th>148</th>\n",
              "      <th>72</th>\n",
              "      <th>35</th>\n",
              "      <th>0</th>\n",
              "      <th>33.6</th>\n",
              "      <th>0.627</th>\n",
              "      <th>50</th>\n",
              "      <th>1</th>\n",
              "    </tr>\n",
              "  </thead>\n",
              "  <tbody>\n",
              "    <tr>\n",
              "      <th>count</th>\n",
              "      <td>767.000000</td>\n",
              "      <td>767.000000</td>\n",
              "      <td>767.000000</td>\n",
              "      <td>767.000000</td>\n",
              "      <td>767.000000</td>\n",
              "      <td>767.000000</td>\n",
              "      <td>767.000000</td>\n",
              "      <td>767.000000</td>\n",
              "      <td>767.000000</td>\n",
              "    </tr>\n",
              "    <tr>\n",
              "      <th>mean</th>\n",
              "      <td>3.842243</td>\n",
              "      <td>120.859192</td>\n",
              "      <td>69.101695</td>\n",
              "      <td>20.517601</td>\n",
              "      <td>79.903520</td>\n",
              "      <td>31.990482</td>\n",
              "      <td>0.471674</td>\n",
              "      <td>33.219035</td>\n",
              "      <td>0.348110</td>\n",
              "    </tr>\n",
              "    <tr>\n",
              "      <th>std</th>\n",
              "      <td>3.370877</td>\n",
              "      <td>31.978468</td>\n",
              "      <td>19.368155</td>\n",
              "      <td>15.954059</td>\n",
              "      <td>115.283105</td>\n",
              "      <td>7.889091</td>\n",
              "      <td>0.331497</td>\n",
              "      <td>11.752296</td>\n",
              "      <td>0.476682</td>\n",
              "    </tr>\n",
              "    <tr>\n",
              "      <th>min</th>\n",
              "      <td>0.000000</td>\n",
              "      <td>0.000000</td>\n",
              "      <td>0.000000</td>\n",
              "      <td>0.000000</td>\n",
              "      <td>0.000000</td>\n",
              "      <td>0.000000</td>\n",
              "      <td>0.078000</td>\n",
              "      <td>21.000000</td>\n",
              "      <td>0.000000</td>\n",
              "    </tr>\n",
              "    <tr>\n",
              "      <th>25%</th>\n",
              "      <td>1.000000</td>\n",
              "      <td>99.000000</td>\n",
              "      <td>62.000000</td>\n",
              "      <td>0.000000</td>\n",
              "      <td>0.000000</td>\n",
              "      <td>27.300000</td>\n",
              "      <td>0.243500</td>\n",
              "      <td>24.000000</td>\n",
              "      <td>0.000000</td>\n",
              "    </tr>\n",
              "    <tr>\n",
              "      <th>50%</th>\n",
              "      <td>3.000000</td>\n",
              "      <td>117.000000</td>\n",
              "      <td>72.000000</td>\n",
              "      <td>23.000000</td>\n",
              "      <td>32.000000</td>\n",
              "      <td>32.000000</td>\n",
              "      <td>0.371000</td>\n",
              "      <td>29.000000</td>\n",
              "      <td>0.000000</td>\n",
              "    </tr>\n",
              "    <tr>\n",
              "      <th>75%</th>\n",
              "      <td>6.000000</td>\n",
              "      <td>140.000000</td>\n",
              "      <td>80.000000</td>\n",
              "      <td>32.000000</td>\n",
              "      <td>127.500000</td>\n",
              "      <td>36.600000</td>\n",
              "      <td>0.625000</td>\n",
              "      <td>41.000000</td>\n",
              "      <td>1.000000</td>\n",
              "    </tr>\n",
              "    <tr>\n",
              "      <th>max</th>\n",
              "      <td>17.000000</td>\n",
              "      <td>199.000000</td>\n",
              "      <td>122.000000</td>\n",
              "      <td>99.000000</td>\n",
              "      <td>846.000000</td>\n",
              "      <td>67.100000</td>\n",
              "      <td>2.420000</td>\n",
              "      <td>81.000000</td>\n",
              "      <td>1.000000</td>\n",
              "    </tr>\n",
              "  </tbody>\n",
              "</table>\n",
              "</div>"
            ],
            "text/plain": [
              "                6         148          72  ...       0.627          50           1\n",
              "count  767.000000  767.000000  767.000000  ...  767.000000  767.000000  767.000000\n",
              "mean     3.842243  120.859192   69.101695  ...    0.471674   33.219035    0.348110\n",
              "std      3.370877   31.978468   19.368155  ...    0.331497   11.752296    0.476682\n",
              "min      0.000000    0.000000    0.000000  ...    0.078000   21.000000    0.000000\n",
              "25%      1.000000   99.000000   62.000000  ...    0.243500   24.000000    0.000000\n",
              "50%      3.000000  117.000000   72.000000  ...    0.371000   29.000000    0.000000\n",
              "75%      6.000000  140.000000   80.000000  ...    0.625000   41.000000    1.000000\n",
              "max     17.000000  199.000000  122.000000  ...    2.420000   81.000000    1.000000\n",
              "\n",
              "[8 rows x 9 columns]"
            ]
          },
          "metadata": {},
          "execution_count": 49
        }
      ]
    },
    {
      "cell_type": "code",
      "metadata": {
        "colab": {
          "base_uri": "https://localhost:8080/",
          "height": 351
        },
        "id": "eFP8qETjGEB1",
        "outputId": "bbb83605-4f15-4e6c-91fd-7fd6bc9db00b"
      },
      "source": [
        "raw_data.cov()"
      ],
      "execution_count": 50,
      "outputs": [
        {
          "output_type": "execute_result",
          "data": {
            "text/html": [
              "<div>\n",
              "<style scoped>\n",
              "    .dataframe tbody tr th:only-of-type {\n",
              "        vertical-align: middle;\n",
              "    }\n",
              "\n",
              "    .dataframe tbody tr th {\n",
              "        vertical-align: top;\n",
              "    }\n",
              "\n",
              "    .dataframe thead th {\n",
              "        text-align: right;\n",
              "    }\n",
              "</style>\n",
              "<table border=\"1\" class=\"dataframe\">\n",
              "  <thead>\n",
              "    <tr style=\"text-align: right;\">\n",
              "      <th></th>\n",
              "      <th>6</th>\n",
              "      <th>148</th>\n",
              "      <th>72</th>\n",
              "      <th>35</th>\n",
              "      <th>0</th>\n",
              "      <th>33.6</th>\n",
              "      <th>0.627</th>\n",
              "      <th>50</th>\n",
              "      <th>1</th>\n",
              "    </tr>\n",
              "  </thead>\n",
              "  <tbody>\n",
              "    <tr>\n",
              "      <th>6</th>\n",
              "      <td>11.362809</td>\n",
              "      <td>13.888985</td>\n",
              "      <td>9.218414</td>\n",
              "      <td>-4.436515</td>\n",
              "      <td>-28.367721</td>\n",
              "      <td>0.465859</td>\n",
              "      <td>-0.037912</td>\n",
              "      <td>21.551571</td>\n",
              "      <td>0.355250</td>\n",
              "    </tr>\n",
              "    <tr>\n",
              "      <th>148</th>\n",
              "      <td>13.888985</td>\n",
              "      <td>1022.622445</td>\n",
              "      <td>94.451675</td>\n",
              "      <td>28.764884</td>\n",
              "      <td>1225.357154</td>\n",
              "      <td>55.742783</td>\n",
              "      <td>1.451278</td>\n",
              "      <td>98.618350</td>\n",
              "      <td>7.101300</td>\n",
              "    </tr>\n",
              "    <tr>\n",
              "      <th>72</th>\n",
              "      <td>9.218414</td>\n",
              "      <td>94.451675</td>\n",
              "      <td>375.125415</td>\n",
              "      <td>64.058260</td>\n",
              "      <td>198.939328</td>\n",
              "      <td>43.054755</td>\n",
              "      <td>0.264396</td>\n",
              "      <td>54.531221</td>\n",
              "      <td>0.599018</td>\n",
              "    </tr>\n",
              "    <tr>\n",
              "      <th>35</th>\n",
              "      <td>-4.436515</td>\n",
              "      <td>28.764884</td>\n",
              "      <td>64.058260</td>\n",
              "      <td>254.532001</td>\n",
              "      <td>805.536948</td>\n",
              "      <td>49.407935</td>\n",
              "      <td>0.970472</td>\n",
              "      <td>-21.725792</td>\n",
              "      <td>0.557181</td>\n",
              "    </tr>\n",
              "    <tr>\n",
              "      <th>0</th>\n",
              "      <td>-28.367721</td>\n",
              "      <td>1225.357154</td>\n",
              "      <td>198.939328</td>\n",
              "      <td>805.536948</td>\n",
              "      <td>13290.194335</td>\n",
              "      <td>180.177540</td>\n",
              "      <td>7.092087</td>\n",
              "      <td>-55.469702</td>\n",
              "      <td>7.252951</td>\n",
              "    </tr>\n",
              "    <tr>\n",
              "      <th>33.6</th>\n",
              "      <td>0.465859</td>\n",
              "      <td>55.742783</td>\n",
              "      <td>43.054755</td>\n",
              "      <td>49.407935</td>\n",
              "      <td>180.177540</td>\n",
              "      <td>62.237755</td>\n",
              "      <td>0.367558</td>\n",
              "      <td>3.329503</td>\n",
              "      <td>1.100707</td>\n",
              "    </tr>\n",
              "    <tr>\n",
              "      <th>0.627</th>\n",
              "      <td>-0.037912</td>\n",
              "      <td>1.451278</td>\n",
              "      <td>0.264396</td>\n",
              "      <td>0.970472</td>\n",
              "      <td>7.092087</td>\n",
              "      <td>0.367558</td>\n",
              "      <td>0.109890</td>\n",
              "      <td>0.127544</td>\n",
              "      <td>0.027376</td>\n",
              "    </tr>\n",
              "    <tr>\n",
              "      <th>50</th>\n",
              "      <td>21.551571</td>\n",
              "      <td>98.618350</td>\n",
              "      <td>54.531221</td>\n",
              "      <td>-21.725792</td>\n",
              "      <td>-55.469702</td>\n",
              "      <td>3.329503</td>\n",
              "      <td>0.127544</td>\n",
              "      <td>138.116452</td>\n",
              "      <td>1.324436</td>\n",
              "    </tr>\n",
              "    <tr>\n",
              "      <th>1</th>\n",
              "      <td>0.355250</td>\n",
              "      <td>7.101300</td>\n",
              "      <td>0.599018</td>\n",
              "      <td>0.557181</td>\n",
              "      <td>7.252951</td>\n",
              "      <td>1.100707</td>\n",
              "      <td>0.027376</td>\n",
              "      <td>1.324436</td>\n",
              "      <td>0.227226</td>\n",
              "    </tr>\n",
              "  </tbody>\n",
              "</table>\n",
              "</div>"
            ],
            "text/plain": [
              "               6          148          72  ...     0.627          50         1\n",
              "6      11.362809    13.888985    9.218414  ... -0.037912   21.551571  0.355250\n",
              "148    13.888985  1022.622445   94.451675  ...  1.451278   98.618350  7.101300\n",
              "72      9.218414    94.451675  375.125415  ...  0.264396   54.531221  0.599018\n",
              "35     -4.436515    28.764884   64.058260  ...  0.970472  -21.725792  0.557181\n",
              "0     -28.367721  1225.357154  198.939328  ...  7.092087  -55.469702  7.252951\n",
              "33.6    0.465859    55.742783   43.054755  ...  0.367558    3.329503  1.100707\n",
              "0.627  -0.037912     1.451278    0.264396  ...  0.109890    0.127544  0.027376\n",
              "50     21.551571    98.618350   54.531221  ...  0.127544  138.116452  1.324436\n",
              "1       0.355250     7.101300    0.599018  ...  0.027376    1.324436  0.227226\n",
              "\n",
              "[9 rows x 9 columns]"
            ]
          },
          "metadata": {},
          "execution_count": 50
        }
      ]
    },
    {
      "cell_type": "code",
      "metadata": {
        "colab": {
          "base_uri": "https://localhost:8080/",
          "height": 351
        },
        "id": "_jZbwYxCGIcz",
        "outputId": "cb74f77c-ffe2-4659-f10c-f3f0d46290d6"
      },
      "source": [
        "raw_data.corr()"
      ],
      "execution_count": 51,
      "outputs": [
        {
          "output_type": "execute_result",
          "data": {
            "text/html": [
              "<div>\n",
              "<style scoped>\n",
              "    .dataframe tbody tr th:only-of-type {\n",
              "        vertical-align: middle;\n",
              "    }\n",
              "\n",
              "    .dataframe tbody tr th {\n",
              "        vertical-align: top;\n",
              "    }\n",
              "\n",
              "    .dataframe thead th {\n",
              "        text-align: right;\n",
              "    }\n",
              "</style>\n",
              "<table border=\"1\" class=\"dataframe\">\n",
              "  <thead>\n",
              "    <tr style=\"text-align: right;\">\n",
              "      <th></th>\n",
              "      <th>6</th>\n",
              "      <th>148</th>\n",
              "      <th>72</th>\n",
              "      <th>35</th>\n",
              "      <th>0</th>\n",
              "      <th>33.6</th>\n",
              "      <th>0.627</th>\n",
              "      <th>50</th>\n",
              "      <th>1</th>\n",
              "    </tr>\n",
              "  </thead>\n",
              "  <tbody>\n",
              "    <tr>\n",
              "      <th>6</th>\n",
              "      <td>1.000000</td>\n",
              "      <td>0.128846</td>\n",
              "      <td>0.141197</td>\n",
              "      <td>-0.082495</td>\n",
              "      <td>-0.072999</td>\n",
              "      <td>0.017518</td>\n",
              "      <td>-0.033927</td>\n",
              "      <td>0.544018</td>\n",
              "      <td>0.221087</td>\n",
              "    </tr>\n",
              "    <tr>\n",
              "      <th>148</th>\n",
              "      <td>0.128846</td>\n",
              "      <td>1.000000</td>\n",
              "      <td>0.152498</td>\n",
              "      <td>0.056381</td>\n",
              "      <td>0.332383</td>\n",
              "      <td>0.220955</td>\n",
              "      <td>0.136903</td>\n",
              "      <td>0.262408</td>\n",
              "      <td>0.465856</td>\n",
              "    </tr>\n",
              "    <tr>\n",
              "      <th>72</th>\n",
              "      <td>0.141197</td>\n",
              "      <td>0.152498</td>\n",
              "      <td>1.000000</td>\n",
              "      <td>0.207308</td>\n",
              "      <td>0.089098</td>\n",
              "      <td>0.281777</td>\n",
              "      <td>0.041180</td>\n",
              "      <td>0.239571</td>\n",
              "      <td>0.064882</td>\n",
              "    </tr>\n",
              "    <tr>\n",
              "      <th>35</th>\n",
              "      <td>-0.082495</td>\n",
              "      <td>0.056381</td>\n",
              "      <td>0.207308</td>\n",
              "      <td>1.000000</td>\n",
              "      <td>0.437974</td>\n",
              "      <td>0.392553</td>\n",
              "      <td>0.183498</td>\n",
              "      <td>-0.115873</td>\n",
              "      <td>0.073265</td>\n",
              "    </tr>\n",
              "    <tr>\n",
              "      <th>0</th>\n",
              "      <td>-0.072999</td>\n",
              "      <td>0.332383</td>\n",
              "      <td>0.089098</td>\n",
              "      <td>0.437974</td>\n",
              "      <td>1.000000</td>\n",
              "      <td>0.198111</td>\n",
              "      <td>0.185579</td>\n",
              "      <td>-0.040942</td>\n",
              "      <td>0.131984</td>\n",
              "    </tr>\n",
              "    <tr>\n",
              "      <th>33.6</th>\n",
              "      <td>0.017518</td>\n",
              "      <td>0.220955</td>\n",
              "      <td>0.281777</td>\n",
              "      <td>0.392553</td>\n",
              "      <td>0.198111</td>\n",
              "      <td>1.000000</td>\n",
              "      <td>0.140546</td>\n",
              "      <td>0.035911</td>\n",
              "      <td>0.292695</td>\n",
              "    </tr>\n",
              "    <tr>\n",
              "      <th>0.627</th>\n",
              "      <td>-0.033927</td>\n",
              "      <td>0.136903</td>\n",
              "      <td>0.041180</td>\n",
              "      <td>0.183498</td>\n",
              "      <td>0.185579</td>\n",
              "      <td>0.140546</td>\n",
              "      <td>1.000000</td>\n",
              "      <td>0.032738</td>\n",
              "      <td>0.173245</td>\n",
              "    </tr>\n",
              "    <tr>\n",
              "      <th>50</th>\n",
              "      <td>0.544018</td>\n",
              "      <td>0.262408</td>\n",
              "      <td>0.239571</td>\n",
              "      <td>-0.115873</td>\n",
              "      <td>-0.040942</td>\n",
              "      <td>0.035911</td>\n",
              "      <td>0.032738</td>\n",
              "      <td>1.000000</td>\n",
              "      <td>0.236417</td>\n",
              "    </tr>\n",
              "    <tr>\n",
              "      <th>1</th>\n",
              "      <td>0.221087</td>\n",
              "      <td>0.465856</td>\n",
              "      <td>0.064882</td>\n",
              "      <td>0.073265</td>\n",
              "      <td>0.131984</td>\n",
              "      <td>0.292695</td>\n",
              "      <td>0.173245</td>\n",
              "      <td>0.236417</td>\n",
              "      <td>1.000000</td>\n",
              "    </tr>\n",
              "  </tbody>\n",
              "</table>\n",
              "</div>"
            ],
            "text/plain": [
              "              6       148        72  ...     0.627        50         1\n",
              "6      1.000000  0.128846  0.141197  ... -0.033927  0.544018  0.221087\n",
              "148    0.128846  1.000000  0.152498  ...  0.136903  0.262408  0.465856\n",
              "72     0.141197  0.152498  1.000000  ...  0.041180  0.239571  0.064882\n",
              "35    -0.082495  0.056381  0.207308  ...  0.183498 -0.115873  0.073265\n",
              "0     -0.072999  0.332383  0.089098  ...  0.185579 -0.040942  0.131984\n",
              "33.6   0.017518  0.220955  0.281777  ...  0.140546  0.035911  0.292695\n",
              "0.627 -0.033927  0.136903  0.041180  ...  1.000000  0.032738  0.173245\n",
              "50     0.544018  0.262408  0.239571  ...  0.032738  1.000000  0.236417\n",
              "1      0.221087  0.465856  0.064882  ...  0.173245  0.236417  1.000000\n",
              "\n",
              "[9 rows x 9 columns]"
            ]
          },
          "metadata": {},
          "execution_count": 51
        }
      ]
    },
    {
      "cell_type": "code",
      "metadata": {
        "colab": {
          "base_uri": "https://localhost:8080/"
        },
        "id": "rxL-44WoGOE9",
        "outputId": "827cf3ac-5534-40a7-f948-ff6260ac1dc3"
      },
      "source": [
        "from sklearn.datasets import load_iris\n",
        "import numpy as np\n",
        "iris=load_iris()\n",
        "iris"
      ],
      "execution_count": 52,
      "outputs": [
        {
          "output_type": "execute_result",
          "data": {
            "text/plain": [
              "{'DESCR': '.. _iris_dataset:\\n\\nIris plants dataset\\n--------------------\\n\\n**Data Set Characteristics:**\\n\\n    :Number of Instances: 150 (50 in each of three classes)\\n    :Number of Attributes: 4 numeric, predictive attributes and the class\\n    :Attribute Information:\\n        - sepal length in cm\\n        - sepal width in cm\\n        - petal length in cm\\n        - petal width in cm\\n        - class:\\n                - Iris-Setosa\\n                - Iris-Versicolour\\n                - Iris-Virginica\\n                \\n    :Summary Statistics:\\n\\n    ============== ==== ==== ======= ===== ====================\\n                    Min  Max   Mean    SD   Class Correlation\\n    ============== ==== ==== ======= ===== ====================\\n    sepal length:   4.3  7.9   5.84   0.83    0.7826\\n    sepal width:    2.0  4.4   3.05   0.43   -0.4194\\n    petal length:   1.0  6.9   3.76   1.76    0.9490  (high!)\\n    petal width:    0.1  2.5   1.20   0.76    0.9565  (high!)\\n    ============== ==== ==== ======= ===== ====================\\n\\n    :Missing Attribute Values: None\\n    :Class Distribution: 33.3% for each of 3 classes.\\n    :Creator: R.A. Fisher\\n    :Donor: Michael Marshall (MARSHALL%PLU@io.arc.nasa.gov)\\n    :Date: July, 1988\\n\\nThe famous Iris database, first used by Sir R.A. Fisher. The dataset is taken\\nfrom Fisher\\'s paper. Note that it\\'s the same as in R, but not as in the UCI\\nMachine Learning Repository, which has two wrong data points.\\n\\nThis is perhaps the best known database to be found in the\\npattern recognition literature.  Fisher\\'s paper is a classic in the field and\\nis referenced frequently to this day.  (See Duda & Hart, for example.)  The\\ndata set contains 3 classes of 50 instances each, where each class refers to a\\ntype of iris plant.  One class is linearly separable from the other 2; the\\nlatter are NOT linearly separable from each other.\\n\\n.. topic:: References\\n\\n   - Fisher, R.A. \"The use of multiple measurements in taxonomic problems\"\\n     Annual Eugenics, 7, Part II, 179-188 (1936); also in \"Contributions to\\n     Mathematical Statistics\" (John Wiley, NY, 1950).\\n   - Duda, R.O., & Hart, P.E. (1973) Pattern Classification and Scene Analysis.\\n     (Q327.D83) John Wiley & Sons.  ISBN 0-471-22361-1.  See page 218.\\n   - Dasarathy, B.V. (1980) \"Nosing Around the Neighborhood: A New System\\n     Structure and Classification Rule for Recognition in Partially Exposed\\n     Environments\".  IEEE Transactions on Pattern Analysis and Machine\\n     Intelligence, Vol. PAMI-2, No. 1, 67-71.\\n   - Gates, G.W. (1972) \"The Reduced Nearest Neighbor Rule\".  IEEE Transactions\\n     on Information Theory, May 1972, 431-433.\\n   - See also: 1988 MLC Proceedings, 54-64.  Cheeseman et al\"s AUTOCLASS II\\n     conceptual clustering system finds 3 classes in the data.\\n   - Many, many more ...',\n",
              " 'data': array([[5.1, 3.5, 1.4, 0.2],\n",
              "        [4.9, 3. , 1.4, 0.2],\n",
              "        [4.7, 3.2, 1.3, 0.2],\n",
              "        [4.6, 3.1, 1.5, 0.2],\n",
              "        [5. , 3.6, 1.4, 0.2],\n",
              "        [5.4, 3.9, 1.7, 0.4],\n",
              "        [4.6, 3.4, 1.4, 0.3],\n",
              "        [5. , 3.4, 1.5, 0.2],\n",
              "        [4.4, 2.9, 1.4, 0.2],\n",
              "        [4.9, 3.1, 1.5, 0.1],\n",
              "        [5.4, 3.7, 1.5, 0.2],\n",
              "        [4.8, 3.4, 1.6, 0.2],\n",
              "        [4.8, 3. , 1.4, 0.1],\n",
              "        [4.3, 3. , 1.1, 0.1],\n",
              "        [5.8, 4. , 1.2, 0.2],\n",
              "        [5.7, 4.4, 1.5, 0.4],\n",
              "        [5.4, 3.9, 1.3, 0.4],\n",
              "        [5.1, 3.5, 1.4, 0.3],\n",
              "        [5.7, 3.8, 1.7, 0.3],\n",
              "        [5.1, 3.8, 1.5, 0.3],\n",
              "        [5.4, 3.4, 1.7, 0.2],\n",
              "        [5.1, 3.7, 1.5, 0.4],\n",
              "        [4.6, 3.6, 1. , 0.2],\n",
              "        [5.1, 3.3, 1.7, 0.5],\n",
              "        [4.8, 3.4, 1.9, 0.2],\n",
              "        [5. , 3. , 1.6, 0.2],\n",
              "        [5. , 3.4, 1.6, 0.4],\n",
              "        [5.2, 3.5, 1.5, 0.2],\n",
              "        [5.2, 3.4, 1.4, 0.2],\n",
              "        [4.7, 3.2, 1.6, 0.2],\n",
              "        [4.8, 3.1, 1.6, 0.2],\n",
              "        [5.4, 3.4, 1.5, 0.4],\n",
              "        [5.2, 4.1, 1.5, 0.1],\n",
              "        [5.5, 4.2, 1.4, 0.2],\n",
              "        [4.9, 3.1, 1.5, 0.2],\n",
              "        [5. , 3.2, 1.2, 0.2],\n",
              "        [5.5, 3.5, 1.3, 0.2],\n",
              "        [4.9, 3.6, 1.4, 0.1],\n",
              "        [4.4, 3. , 1.3, 0.2],\n",
              "        [5.1, 3.4, 1.5, 0.2],\n",
              "        [5. , 3.5, 1.3, 0.3],\n",
              "        [4.5, 2.3, 1.3, 0.3],\n",
              "        [4.4, 3.2, 1.3, 0.2],\n",
              "        [5. , 3.5, 1.6, 0.6],\n",
              "        [5.1, 3.8, 1.9, 0.4],\n",
              "        [4.8, 3. , 1.4, 0.3],\n",
              "        [5.1, 3.8, 1.6, 0.2],\n",
              "        [4.6, 3.2, 1.4, 0.2],\n",
              "        [5.3, 3.7, 1.5, 0.2],\n",
              "        [5. , 3.3, 1.4, 0.2],\n",
              "        [7. , 3.2, 4.7, 1.4],\n",
              "        [6.4, 3.2, 4.5, 1.5],\n",
              "        [6.9, 3.1, 4.9, 1.5],\n",
              "        [5.5, 2.3, 4. , 1.3],\n",
              "        [6.5, 2.8, 4.6, 1.5],\n",
              "        [5.7, 2.8, 4.5, 1.3],\n",
              "        [6.3, 3.3, 4.7, 1.6],\n",
              "        [4.9, 2.4, 3.3, 1. ],\n",
              "        [6.6, 2.9, 4.6, 1.3],\n",
              "        [5.2, 2.7, 3.9, 1.4],\n",
              "        [5. , 2. , 3.5, 1. ],\n",
              "        [5.9, 3. , 4.2, 1.5],\n",
              "        [6. , 2.2, 4. , 1. ],\n",
              "        [6.1, 2.9, 4.7, 1.4],\n",
              "        [5.6, 2.9, 3.6, 1.3],\n",
              "        [6.7, 3.1, 4.4, 1.4],\n",
              "        [5.6, 3. , 4.5, 1.5],\n",
              "        [5.8, 2.7, 4.1, 1. ],\n",
              "        [6.2, 2.2, 4.5, 1.5],\n",
              "        [5.6, 2.5, 3.9, 1.1],\n",
              "        [5.9, 3.2, 4.8, 1.8],\n",
              "        [6.1, 2.8, 4. , 1.3],\n",
              "        [6.3, 2.5, 4.9, 1.5],\n",
              "        [6.1, 2.8, 4.7, 1.2],\n",
              "        [6.4, 2.9, 4.3, 1.3],\n",
              "        [6.6, 3. , 4.4, 1.4],\n",
              "        [6.8, 2.8, 4.8, 1.4],\n",
              "        [6.7, 3. , 5. , 1.7],\n",
              "        [6. , 2.9, 4.5, 1.5],\n",
              "        [5.7, 2.6, 3.5, 1. ],\n",
              "        [5.5, 2.4, 3.8, 1.1],\n",
              "        [5.5, 2.4, 3.7, 1. ],\n",
              "        [5.8, 2.7, 3.9, 1.2],\n",
              "        [6. , 2.7, 5.1, 1.6],\n",
              "        [5.4, 3. , 4.5, 1.5],\n",
              "        [6. , 3.4, 4.5, 1.6],\n",
              "        [6.7, 3.1, 4.7, 1.5],\n",
              "        [6.3, 2.3, 4.4, 1.3],\n",
              "        [5.6, 3. , 4.1, 1.3],\n",
              "        [5.5, 2.5, 4. , 1.3],\n",
              "        [5.5, 2.6, 4.4, 1.2],\n",
              "        [6.1, 3. , 4.6, 1.4],\n",
              "        [5.8, 2.6, 4. , 1.2],\n",
              "        [5. , 2.3, 3.3, 1. ],\n",
              "        [5.6, 2.7, 4.2, 1.3],\n",
              "        [5.7, 3. , 4.2, 1.2],\n",
              "        [5.7, 2.9, 4.2, 1.3],\n",
              "        [6.2, 2.9, 4.3, 1.3],\n",
              "        [5.1, 2.5, 3. , 1.1],\n",
              "        [5.7, 2.8, 4.1, 1.3],\n",
              "        [6.3, 3.3, 6. , 2.5],\n",
              "        [5.8, 2.7, 5.1, 1.9],\n",
              "        [7.1, 3. , 5.9, 2.1],\n",
              "        [6.3, 2.9, 5.6, 1.8],\n",
              "        [6.5, 3. , 5.8, 2.2],\n",
              "        [7.6, 3. , 6.6, 2.1],\n",
              "        [4.9, 2.5, 4.5, 1.7],\n",
              "        [7.3, 2.9, 6.3, 1.8],\n",
              "        [6.7, 2.5, 5.8, 1.8],\n",
              "        [7.2, 3.6, 6.1, 2.5],\n",
              "        [6.5, 3.2, 5.1, 2. ],\n",
              "        [6.4, 2.7, 5.3, 1.9],\n",
              "        [6.8, 3. , 5.5, 2.1],\n",
              "        [5.7, 2.5, 5. , 2. ],\n",
              "        [5.8, 2.8, 5.1, 2.4],\n",
              "        [6.4, 3.2, 5.3, 2.3],\n",
              "        [6.5, 3. , 5.5, 1.8],\n",
              "        [7.7, 3.8, 6.7, 2.2],\n",
              "        [7.7, 2.6, 6.9, 2.3],\n",
              "        [6. , 2.2, 5. , 1.5],\n",
              "        [6.9, 3.2, 5.7, 2.3],\n",
              "        [5.6, 2.8, 4.9, 2. ],\n",
              "        [7.7, 2.8, 6.7, 2. ],\n",
              "        [6.3, 2.7, 4.9, 1.8],\n",
              "        [6.7, 3.3, 5.7, 2.1],\n",
              "        [7.2, 3.2, 6. , 1.8],\n",
              "        [6.2, 2.8, 4.8, 1.8],\n",
              "        [6.1, 3. , 4.9, 1.8],\n",
              "        [6.4, 2.8, 5.6, 2.1],\n",
              "        [7.2, 3. , 5.8, 1.6],\n",
              "        [7.4, 2.8, 6.1, 1.9],\n",
              "        [7.9, 3.8, 6.4, 2. ],\n",
              "        [6.4, 2.8, 5.6, 2.2],\n",
              "        [6.3, 2.8, 5.1, 1.5],\n",
              "        [6.1, 2.6, 5.6, 1.4],\n",
              "        [7.7, 3. , 6.1, 2.3],\n",
              "        [6.3, 3.4, 5.6, 2.4],\n",
              "        [6.4, 3.1, 5.5, 1.8],\n",
              "        [6. , 3. , 4.8, 1.8],\n",
              "        [6.9, 3.1, 5.4, 2.1],\n",
              "        [6.7, 3.1, 5.6, 2.4],\n",
              "        [6.9, 3.1, 5.1, 2.3],\n",
              "        [5.8, 2.7, 5.1, 1.9],\n",
              "        [6.8, 3.2, 5.9, 2.3],\n",
              "        [6.7, 3.3, 5.7, 2.5],\n",
              "        [6.7, 3. , 5.2, 2.3],\n",
              "        [6.3, 2.5, 5. , 1.9],\n",
              "        [6.5, 3. , 5.2, 2. ],\n",
              "        [6.2, 3.4, 5.4, 2.3],\n",
              "        [5.9, 3. , 5.1, 1.8]]),\n",
              " 'feature_names': ['sepal length (cm)',\n",
              "  'sepal width (cm)',\n",
              "  'petal length (cm)',\n",
              "  'petal width (cm)'],\n",
              " 'filename': '/usr/local/lib/python3.7/dist-packages/sklearn/datasets/data/iris.csv',\n",
              " 'target': array([0, 0, 0, 0, 0, 0, 0, 0, 0, 0, 0, 0, 0, 0, 0, 0, 0, 0, 0, 0, 0, 0,\n",
              "        0, 0, 0, 0, 0, 0, 0, 0, 0, 0, 0, 0, 0, 0, 0, 0, 0, 0, 0, 0, 0, 0,\n",
              "        0, 0, 0, 0, 0, 0, 1, 1, 1, 1, 1, 1, 1, 1, 1, 1, 1, 1, 1, 1, 1, 1,\n",
              "        1, 1, 1, 1, 1, 1, 1, 1, 1, 1, 1, 1, 1, 1, 1, 1, 1, 1, 1, 1, 1, 1,\n",
              "        1, 1, 1, 1, 1, 1, 1, 1, 1, 1, 1, 1, 2, 2, 2, 2, 2, 2, 2, 2, 2, 2,\n",
              "        2, 2, 2, 2, 2, 2, 2, 2, 2, 2, 2, 2, 2, 2, 2, 2, 2, 2, 2, 2, 2, 2,\n",
              "        2, 2, 2, 2, 2, 2, 2, 2, 2, 2, 2, 2, 2, 2, 2, 2, 2, 2]),\n",
              " 'target_names': array(['setosa', 'versicolor', 'virginica'], dtype='<U10')}"
            ]
          },
          "metadata": {},
          "execution_count": 52
        }
      ]
    },
    {
      "cell_type": "code",
      "metadata": {
        "colab": {
          "base_uri": "https://localhost:8080/",
          "height": 423
        },
        "id": "57Sxw4sOGXn2",
        "outputId": "939c0728-0067-4f0d-c484-f697f3c70bcb"
      },
      "source": [
        "X=pd.DataFrame(iris.data)\n",
        "X"
      ],
      "execution_count": 53,
      "outputs": [
        {
          "output_type": "execute_result",
          "data": {
            "text/html": [
              "<div>\n",
              "<style scoped>\n",
              "    .dataframe tbody tr th:only-of-type {\n",
              "        vertical-align: middle;\n",
              "    }\n",
              "\n",
              "    .dataframe tbody tr th {\n",
              "        vertical-align: top;\n",
              "    }\n",
              "\n",
              "    .dataframe thead th {\n",
              "        text-align: right;\n",
              "    }\n",
              "</style>\n",
              "<table border=\"1\" class=\"dataframe\">\n",
              "  <thead>\n",
              "    <tr style=\"text-align: right;\">\n",
              "      <th></th>\n",
              "      <th>0</th>\n",
              "      <th>1</th>\n",
              "      <th>2</th>\n",
              "      <th>3</th>\n",
              "    </tr>\n",
              "  </thead>\n",
              "  <tbody>\n",
              "    <tr>\n",
              "      <th>0</th>\n",
              "      <td>5.1</td>\n",
              "      <td>3.5</td>\n",
              "      <td>1.4</td>\n",
              "      <td>0.2</td>\n",
              "    </tr>\n",
              "    <tr>\n",
              "      <th>1</th>\n",
              "      <td>4.9</td>\n",
              "      <td>3.0</td>\n",
              "      <td>1.4</td>\n",
              "      <td>0.2</td>\n",
              "    </tr>\n",
              "    <tr>\n",
              "      <th>2</th>\n",
              "      <td>4.7</td>\n",
              "      <td>3.2</td>\n",
              "      <td>1.3</td>\n",
              "      <td>0.2</td>\n",
              "    </tr>\n",
              "    <tr>\n",
              "      <th>3</th>\n",
              "      <td>4.6</td>\n",
              "      <td>3.1</td>\n",
              "      <td>1.5</td>\n",
              "      <td>0.2</td>\n",
              "    </tr>\n",
              "    <tr>\n",
              "      <th>4</th>\n",
              "      <td>5.0</td>\n",
              "      <td>3.6</td>\n",
              "      <td>1.4</td>\n",
              "      <td>0.2</td>\n",
              "    </tr>\n",
              "    <tr>\n",
              "      <th>...</th>\n",
              "      <td>...</td>\n",
              "      <td>...</td>\n",
              "      <td>...</td>\n",
              "      <td>...</td>\n",
              "    </tr>\n",
              "    <tr>\n",
              "      <th>145</th>\n",
              "      <td>6.7</td>\n",
              "      <td>3.0</td>\n",
              "      <td>5.2</td>\n",
              "      <td>2.3</td>\n",
              "    </tr>\n",
              "    <tr>\n",
              "      <th>146</th>\n",
              "      <td>6.3</td>\n",
              "      <td>2.5</td>\n",
              "      <td>5.0</td>\n",
              "      <td>1.9</td>\n",
              "    </tr>\n",
              "    <tr>\n",
              "      <th>147</th>\n",
              "      <td>6.5</td>\n",
              "      <td>3.0</td>\n",
              "      <td>5.2</td>\n",
              "      <td>2.0</td>\n",
              "    </tr>\n",
              "    <tr>\n",
              "      <th>148</th>\n",
              "      <td>6.2</td>\n",
              "      <td>3.4</td>\n",
              "      <td>5.4</td>\n",
              "      <td>2.3</td>\n",
              "    </tr>\n",
              "    <tr>\n",
              "      <th>149</th>\n",
              "      <td>5.9</td>\n",
              "      <td>3.0</td>\n",
              "      <td>5.1</td>\n",
              "      <td>1.8</td>\n",
              "    </tr>\n",
              "  </tbody>\n",
              "</table>\n",
              "<p>150 rows × 4 columns</p>\n",
              "</div>"
            ],
            "text/plain": [
              "       0    1    2    3\n",
              "0    5.1  3.5  1.4  0.2\n",
              "1    4.9  3.0  1.4  0.2\n",
              "2    4.7  3.2  1.3  0.2\n",
              "3    4.6  3.1  1.5  0.2\n",
              "4    5.0  3.6  1.4  0.2\n",
              "..   ...  ...  ...  ...\n",
              "145  6.7  3.0  5.2  2.3\n",
              "146  6.3  2.5  5.0  1.9\n",
              "147  6.5  3.0  5.2  2.0\n",
              "148  6.2  3.4  5.4  2.3\n",
              "149  5.9  3.0  5.1  1.8\n",
              "\n",
              "[150 rows x 4 columns]"
            ]
          },
          "metadata": {},
          "execution_count": 53
        }
      ]
    },
    {
      "cell_type": "code",
      "metadata": {
        "colab": {
          "base_uri": "https://localhost:8080/",
          "height": 226
        },
        "id": "VDq8hhzdGdYM",
        "outputId": "643859a2-479c-4776-b422-b9f7d9b0a80e"
      },
      "source": [
        "X.shape\n",
        "(150,4)\n",
        "X.columns=['Sepal_length','Sepal_width','petal_length','petal_width']\n",
        "X.head()"
      ],
      "execution_count": 54,
      "outputs": [
        {
          "output_type": "execute_result",
          "data": {
            "text/html": [
              "<div>\n",
              "<style scoped>\n",
              "    .dataframe tbody tr th:only-of-type {\n",
              "        vertical-align: middle;\n",
              "    }\n",
              "\n",
              "    .dataframe tbody tr th {\n",
              "        vertical-align: top;\n",
              "    }\n",
              "\n",
              "    .dataframe thead th {\n",
              "        text-align: right;\n",
              "    }\n",
              "</style>\n",
              "<table border=\"1\" class=\"dataframe\">\n",
              "  <thead>\n",
              "    <tr style=\"text-align: right;\">\n",
              "      <th></th>\n",
              "      <th>Sepal_length</th>\n",
              "      <th>Sepal_width</th>\n",
              "      <th>petal_length</th>\n",
              "      <th>petal_width</th>\n",
              "    </tr>\n",
              "  </thead>\n",
              "  <tbody>\n",
              "    <tr>\n",
              "      <th>0</th>\n",
              "      <td>5.1</td>\n",
              "      <td>3.5</td>\n",
              "      <td>1.4</td>\n",
              "      <td>0.2</td>\n",
              "    </tr>\n",
              "    <tr>\n",
              "      <th>1</th>\n",
              "      <td>4.9</td>\n",
              "      <td>3.0</td>\n",
              "      <td>1.4</td>\n",
              "      <td>0.2</td>\n",
              "    </tr>\n",
              "    <tr>\n",
              "      <th>2</th>\n",
              "      <td>4.7</td>\n",
              "      <td>3.2</td>\n",
              "      <td>1.3</td>\n",
              "      <td>0.2</td>\n",
              "    </tr>\n",
              "    <tr>\n",
              "      <th>3</th>\n",
              "      <td>4.6</td>\n",
              "      <td>3.1</td>\n",
              "      <td>1.5</td>\n",
              "      <td>0.2</td>\n",
              "    </tr>\n",
              "    <tr>\n",
              "      <th>4</th>\n",
              "      <td>5.0</td>\n",
              "      <td>3.6</td>\n",
              "      <td>1.4</td>\n",
              "      <td>0.2</td>\n",
              "    </tr>\n",
              "  </tbody>\n",
              "</table>\n",
              "</div>"
            ],
            "text/plain": [
              "   Sepal_length  Sepal_width  petal_length  petal_width\n",
              "0           5.1          3.5           1.4          0.2\n",
              "1           4.9          3.0           1.4          0.2\n",
              "2           4.7          3.2           1.3          0.2\n",
              "3           4.6          3.1           1.5          0.2\n",
              "4           5.0          3.6           1.4          0.2"
            ]
          },
          "metadata": {},
          "execution_count": 54
        }
      ]
    },
    {
      "cell_type": "code",
      "metadata": {
        "colab": {
          "base_uri": "https://localhost:8080/",
          "height": 226
        },
        "id": "oaKGe3AKGk31",
        "outputId": "205e2c55-555f-4114-985c-3a4ab0eaf737"
      },
      "source": [
        "X.tail()"
      ],
      "execution_count": 55,
      "outputs": [
        {
          "output_type": "execute_result",
          "data": {
            "text/html": [
              "<div>\n",
              "<style scoped>\n",
              "    .dataframe tbody tr th:only-of-type {\n",
              "        vertical-align: middle;\n",
              "    }\n",
              "\n",
              "    .dataframe tbody tr th {\n",
              "        vertical-align: top;\n",
              "    }\n",
              "\n",
              "    .dataframe thead th {\n",
              "        text-align: right;\n",
              "    }\n",
              "</style>\n",
              "<table border=\"1\" class=\"dataframe\">\n",
              "  <thead>\n",
              "    <tr style=\"text-align: right;\">\n",
              "      <th></th>\n",
              "      <th>Sepal_length</th>\n",
              "      <th>Sepal_width</th>\n",
              "      <th>petal_length</th>\n",
              "      <th>petal_width</th>\n",
              "    </tr>\n",
              "  </thead>\n",
              "  <tbody>\n",
              "    <tr>\n",
              "      <th>145</th>\n",
              "      <td>6.7</td>\n",
              "      <td>3.0</td>\n",
              "      <td>5.2</td>\n",
              "      <td>2.3</td>\n",
              "    </tr>\n",
              "    <tr>\n",
              "      <th>146</th>\n",
              "      <td>6.3</td>\n",
              "      <td>2.5</td>\n",
              "      <td>5.0</td>\n",
              "      <td>1.9</td>\n",
              "    </tr>\n",
              "    <tr>\n",
              "      <th>147</th>\n",
              "      <td>6.5</td>\n",
              "      <td>3.0</td>\n",
              "      <td>5.2</td>\n",
              "      <td>2.0</td>\n",
              "    </tr>\n",
              "    <tr>\n",
              "      <th>148</th>\n",
              "      <td>6.2</td>\n",
              "      <td>3.4</td>\n",
              "      <td>5.4</td>\n",
              "      <td>2.3</td>\n",
              "    </tr>\n",
              "    <tr>\n",
              "      <th>149</th>\n",
              "      <td>5.9</td>\n",
              "      <td>3.0</td>\n",
              "      <td>5.1</td>\n",
              "      <td>1.8</td>\n",
              "    </tr>\n",
              "  </tbody>\n",
              "</table>\n",
              "</div>"
            ],
            "text/plain": [
              "     Sepal_length  Sepal_width  petal_length  petal_width\n",
              "145           6.7          3.0           5.2          2.3\n",
              "146           6.3          2.5           5.0          1.9\n",
              "147           6.5          3.0           5.2          2.0\n",
              "148           6.2          3.4           5.4          2.3\n",
              "149           5.9          3.0           5.1          1.8"
            ]
          },
          "metadata": {},
          "execution_count": 55
        }
      ]
    },
    {
      "cell_type": "code",
      "metadata": {
        "colab": {
          "base_uri": "https://localhost:8080/",
          "height": 320
        },
        "id": "UuaMaV48GpBP",
        "outputId": "c004bd3b-2774-47a0-ef99-83682ee08b57"
      },
      "source": [
        "X.describe()"
      ],
      "execution_count": 56,
      "outputs": [
        {
          "output_type": "execute_result",
          "data": {
            "text/html": [
              "<div>\n",
              "<style scoped>\n",
              "    .dataframe tbody tr th:only-of-type {\n",
              "        vertical-align: middle;\n",
              "    }\n",
              "\n",
              "    .dataframe tbody tr th {\n",
              "        vertical-align: top;\n",
              "    }\n",
              "\n",
              "    .dataframe thead th {\n",
              "        text-align: right;\n",
              "    }\n",
              "</style>\n",
              "<table border=\"1\" class=\"dataframe\">\n",
              "  <thead>\n",
              "    <tr style=\"text-align: right;\">\n",
              "      <th></th>\n",
              "      <th>Sepal_length</th>\n",
              "      <th>Sepal_width</th>\n",
              "      <th>petal_length</th>\n",
              "      <th>petal_width</th>\n",
              "    </tr>\n",
              "  </thead>\n",
              "  <tbody>\n",
              "    <tr>\n",
              "      <th>count</th>\n",
              "      <td>150.000000</td>\n",
              "      <td>150.000000</td>\n",
              "      <td>150.000000</td>\n",
              "      <td>150.000000</td>\n",
              "    </tr>\n",
              "    <tr>\n",
              "      <th>mean</th>\n",
              "      <td>5.843333</td>\n",
              "      <td>3.057333</td>\n",
              "      <td>3.758000</td>\n",
              "      <td>1.199333</td>\n",
              "    </tr>\n",
              "    <tr>\n",
              "      <th>std</th>\n",
              "      <td>0.828066</td>\n",
              "      <td>0.435866</td>\n",
              "      <td>1.765298</td>\n",
              "      <td>0.762238</td>\n",
              "    </tr>\n",
              "    <tr>\n",
              "      <th>min</th>\n",
              "      <td>4.300000</td>\n",
              "      <td>2.000000</td>\n",
              "      <td>1.000000</td>\n",
              "      <td>0.100000</td>\n",
              "    </tr>\n",
              "    <tr>\n",
              "      <th>25%</th>\n",
              "      <td>5.100000</td>\n",
              "      <td>2.800000</td>\n",
              "      <td>1.600000</td>\n",
              "      <td>0.300000</td>\n",
              "    </tr>\n",
              "    <tr>\n",
              "      <th>50%</th>\n",
              "      <td>5.800000</td>\n",
              "      <td>3.000000</td>\n",
              "      <td>4.350000</td>\n",
              "      <td>1.300000</td>\n",
              "    </tr>\n",
              "    <tr>\n",
              "      <th>75%</th>\n",
              "      <td>6.400000</td>\n",
              "      <td>3.300000</td>\n",
              "      <td>5.100000</td>\n",
              "      <td>1.800000</td>\n",
              "    </tr>\n",
              "    <tr>\n",
              "      <th>max</th>\n",
              "      <td>7.900000</td>\n",
              "      <td>4.400000</td>\n",
              "      <td>6.900000</td>\n",
              "      <td>2.500000</td>\n",
              "    </tr>\n",
              "  </tbody>\n",
              "</table>\n",
              "</div>"
            ],
            "text/plain": [
              "       Sepal_length  Sepal_width  petal_length  petal_width\n",
              "count    150.000000   150.000000    150.000000   150.000000\n",
              "mean       5.843333     3.057333      3.758000     1.199333\n",
              "std        0.828066     0.435866      1.765298     0.762238\n",
              "min        4.300000     2.000000      1.000000     0.100000\n",
              "25%        5.100000     2.800000      1.600000     0.300000\n",
              "50%        5.800000     3.000000      4.350000     1.300000\n",
              "75%        6.400000     3.300000      5.100000     1.800000\n",
              "max        7.900000     4.400000      6.900000     2.500000"
            ]
          },
          "metadata": {},
          "execution_count": 56
        }
      ]
    },
    {
      "cell_type": "code",
      "metadata": {
        "colab": {
          "base_uri": "https://localhost:8080/",
          "height": 194
        },
        "id": "aQTiNEbSGs6l",
        "outputId": "015b48c5-5969-40bd-f912-f640dbfe3d58"
      },
      "source": [
        "X.cov()"
      ],
      "execution_count": 57,
      "outputs": [
        {
          "output_type": "execute_result",
          "data": {
            "text/html": [
              "<div>\n",
              "<style scoped>\n",
              "    .dataframe tbody tr th:only-of-type {\n",
              "        vertical-align: middle;\n",
              "    }\n",
              "\n",
              "    .dataframe tbody tr th {\n",
              "        vertical-align: top;\n",
              "    }\n",
              "\n",
              "    .dataframe thead th {\n",
              "        text-align: right;\n",
              "    }\n",
              "</style>\n",
              "<table border=\"1\" class=\"dataframe\">\n",
              "  <thead>\n",
              "    <tr style=\"text-align: right;\">\n",
              "      <th></th>\n",
              "      <th>Sepal_length</th>\n",
              "      <th>Sepal_width</th>\n",
              "      <th>petal_length</th>\n",
              "      <th>petal_width</th>\n",
              "    </tr>\n",
              "  </thead>\n",
              "  <tbody>\n",
              "    <tr>\n",
              "      <th>Sepal_length</th>\n",
              "      <td>0.685694</td>\n",
              "      <td>-0.042434</td>\n",
              "      <td>1.274315</td>\n",
              "      <td>0.516271</td>\n",
              "    </tr>\n",
              "    <tr>\n",
              "      <th>Sepal_width</th>\n",
              "      <td>-0.042434</td>\n",
              "      <td>0.189979</td>\n",
              "      <td>-0.329656</td>\n",
              "      <td>-0.121639</td>\n",
              "    </tr>\n",
              "    <tr>\n",
              "      <th>petal_length</th>\n",
              "      <td>1.274315</td>\n",
              "      <td>-0.329656</td>\n",
              "      <td>3.116278</td>\n",
              "      <td>1.295609</td>\n",
              "    </tr>\n",
              "    <tr>\n",
              "      <th>petal_width</th>\n",
              "      <td>0.516271</td>\n",
              "      <td>-0.121639</td>\n",
              "      <td>1.295609</td>\n",
              "      <td>0.581006</td>\n",
              "    </tr>\n",
              "  </tbody>\n",
              "</table>\n",
              "</div>"
            ],
            "text/plain": [
              "              Sepal_length  Sepal_width  petal_length  petal_width\n",
              "Sepal_length      0.685694    -0.042434      1.274315     0.516271\n",
              "Sepal_width      -0.042434     0.189979     -0.329656    -0.121639\n",
              "petal_length      1.274315    -0.329656      3.116278     1.295609\n",
              "petal_width       0.516271    -0.121639      1.295609     0.581006"
            ]
          },
          "metadata": {},
          "execution_count": 57
        }
      ]
    },
    {
      "cell_type": "code",
      "metadata": {
        "colab": {
          "base_uri": "https://localhost:8080/",
          "height": 194
        },
        "id": "nvpaG4EDGwao",
        "outputId": "47dc0276-6709-452c-8ba3-12370f3822c8"
      },
      "source": [
        "X.corr()"
      ],
      "execution_count": 58,
      "outputs": [
        {
          "output_type": "execute_result",
          "data": {
            "text/html": [
              "<div>\n",
              "<style scoped>\n",
              "    .dataframe tbody tr th:only-of-type {\n",
              "        vertical-align: middle;\n",
              "    }\n",
              "\n",
              "    .dataframe tbody tr th {\n",
              "        vertical-align: top;\n",
              "    }\n",
              "\n",
              "    .dataframe thead th {\n",
              "        text-align: right;\n",
              "    }\n",
              "</style>\n",
              "<table border=\"1\" class=\"dataframe\">\n",
              "  <thead>\n",
              "    <tr style=\"text-align: right;\">\n",
              "      <th></th>\n",
              "      <th>Sepal_length</th>\n",
              "      <th>Sepal_width</th>\n",
              "      <th>petal_length</th>\n",
              "      <th>petal_width</th>\n",
              "    </tr>\n",
              "  </thead>\n",
              "  <tbody>\n",
              "    <tr>\n",
              "      <th>Sepal_length</th>\n",
              "      <td>1.000000</td>\n",
              "      <td>-0.117570</td>\n",
              "      <td>0.871754</td>\n",
              "      <td>0.817941</td>\n",
              "    </tr>\n",
              "    <tr>\n",
              "      <th>Sepal_width</th>\n",
              "      <td>-0.117570</td>\n",
              "      <td>1.000000</td>\n",
              "      <td>-0.428440</td>\n",
              "      <td>-0.366126</td>\n",
              "    </tr>\n",
              "    <tr>\n",
              "      <th>petal_length</th>\n",
              "      <td>0.871754</td>\n",
              "      <td>-0.428440</td>\n",
              "      <td>1.000000</td>\n",
              "      <td>0.962865</td>\n",
              "    </tr>\n",
              "    <tr>\n",
              "      <th>petal_width</th>\n",
              "      <td>0.817941</td>\n",
              "      <td>-0.366126</td>\n",
              "      <td>0.962865</td>\n",
              "      <td>1.000000</td>\n",
              "    </tr>\n",
              "  </tbody>\n",
              "</table>\n",
              "</div>"
            ],
            "text/plain": [
              "              Sepal_length  Sepal_width  petal_length  petal_width\n",
              "Sepal_length      1.000000    -0.117570      0.871754     0.817941\n",
              "Sepal_width      -0.117570     1.000000     -0.428440    -0.366126\n",
              "petal_length      0.871754    -0.428440      1.000000     0.962865\n",
              "petal_width       0.817941    -0.366126      0.962865     1.000000"
            ]
          },
          "metadata": {},
          "execution_count": 58
        }
      ]
    },
    {
      "cell_type": "code",
      "metadata": {
        "colab": {
          "base_uri": "https://localhost:8080/"
        },
        "id": "erg-_VjIGzuA",
        "outputId": "ef6f02e3-1397-455c-eddc-3d2e9bd382aa"
      },
      "source": [
        "import numpy as np\n",
        "df=pd.DataFrame({'Name':['Pooji','Nani','Chinni','Chikki'],'state':['IND','USA','UK','USSR'],'Grade':['A','A','B','C'],'Age':np.random.uniform(24,35,size=4),'salary':np.random.uniform(3000,5000,size=4),})\n",
        "print(df)"
      ],
      "execution_count": 59,
      "outputs": [
        {
          "output_type": "stream",
          "name": "stdout",
          "text": [
            "     Name state Grade        Age       salary\n",
            "0   Pooji   IND     A  28.059964  4485.757497\n",
            "1    Nani   USA     A  28.049251  3775.689004\n",
            "2  Chinni    UK     B  30.639730  3148.494944\n",
            "3  Chikki  USSR     C  24.888283  3948.934156\n"
          ]
        }
      ]
    },
    {
      "cell_type": "code",
      "metadata": {
        "colab": {
          "base_uri": "https://localhost:8080/",
          "height": 226
        },
        "id": "8sTmF8wfG29Q",
        "outputId": "1dbf6b7c-8e0b-4a25-991d-38302eee558e"
      },
      "source": [
        "import numpy as np\n",
        "import pandas as pd\n",
        "df=pd.DataFrame({'Name':['Pooji','Nani','Chinni','Chikki'],'state':['IND','USA','UK','USSR'],'Grade':['A','A','B','C'],'Age':np.random.uniform(24,35,size=4),'salary':np.random.uniform(3000,5000,size=4),})\n",
        "df.groupby(['Name','state']).max()"
      ],
      "execution_count": 60,
      "outputs": [
        {
          "output_type": "execute_result",
          "data": {
            "text/html": [
              "<div>\n",
              "<style scoped>\n",
              "    .dataframe tbody tr th:only-of-type {\n",
              "        vertical-align: middle;\n",
              "    }\n",
              "\n",
              "    .dataframe tbody tr th {\n",
              "        vertical-align: top;\n",
              "    }\n",
              "\n",
              "    .dataframe thead th {\n",
              "        text-align: right;\n",
              "    }\n",
              "</style>\n",
              "<table border=\"1\" class=\"dataframe\">\n",
              "  <thead>\n",
              "    <tr style=\"text-align: right;\">\n",
              "      <th></th>\n",
              "      <th></th>\n",
              "      <th>Grade</th>\n",
              "      <th>Age</th>\n",
              "      <th>salary</th>\n",
              "    </tr>\n",
              "    <tr>\n",
              "      <th>Name</th>\n",
              "      <th>state</th>\n",
              "      <th></th>\n",
              "      <th></th>\n",
              "      <th></th>\n",
              "    </tr>\n",
              "  </thead>\n",
              "  <tbody>\n",
              "    <tr>\n",
              "      <th>Chikki</th>\n",
              "      <th>USSR</th>\n",
              "      <td>C</td>\n",
              "      <td>26.382989</td>\n",
              "      <td>3147.859361</td>\n",
              "    </tr>\n",
              "    <tr>\n",
              "      <th>Chinni</th>\n",
              "      <th>UK</th>\n",
              "      <td>B</td>\n",
              "      <td>28.409628</td>\n",
              "      <td>4400.070555</td>\n",
              "    </tr>\n",
              "    <tr>\n",
              "      <th>Nani</th>\n",
              "      <th>USA</th>\n",
              "      <td>A</td>\n",
              "      <td>33.974131</td>\n",
              "      <td>3983.828494</td>\n",
              "    </tr>\n",
              "    <tr>\n",
              "      <th>Pooji</th>\n",
              "      <th>IND</th>\n",
              "      <td>A</td>\n",
              "      <td>32.746848</td>\n",
              "      <td>4618.963257</td>\n",
              "    </tr>\n",
              "  </tbody>\n",
              "</table>\n",
              "</div>"
            ],
            "text/plain": [
              "             Grade        Age       salary\n",
              "Name   state                              \n",
              "Chikki USSR      C  26.382989  3147.859361\n",
              "Chinni UK        B  28.409628  4400.070555\n",
              "Nani   USA       A  33.974131  3983.828494\n",
              "Pooji  IND       A  32.746848  4618.963257"
            ]
          },
          "metadata": {},
          "execution_count": 60
        }
      ]
    },
    {
      "cell_type": "markdown",
      "metadata": {
        "id": "chW9AzzTG6Sx"
      },
      "source": [
        "# **Scipy**"
      ]
    },
    {
      "cell_type": "code",
      "metadata": {
        "colab": {
          "base_uri": "https://localhost:8080/"
        },
        "id": "OxTWwWrmG67O",
        "outputId": "03a33656-e21b-4b3d-ab03-fe77790289cc"
      },
      "source": [
        "import numpy as np\n",
        "np.linspace(1.,4.,6)"
      ],
      "execution_count": 61,
      "outputs": [
        {
          "output_type": "execute_result",
          "data": {
            "text/plain": [
              "array([1. , 1.6, 2.2, 2.8, 3.4, 4. ])"
            ]
          },
          "metadata": {},
          "execution_count": 61
        }
      ]
    },
    {
      "cell_type": "code",
      "metadata": {
        "colab": {
          "base_uri": "https://localhost:8080/"
        },
        "id": "XUUZTCI8HCKh",
        "outputId": "e64b20e0-ed38-4a5b-e5ed-68bd8fa0c4f8"
      },
      "source": [
        "from scipy.cluster.vq import kmeans,vq,whiten\n",
        "from numpy import vstack,array\n",
        "from numpy.random import rand\n",
        " \n",
        "data=vstack((rand(100,3)+array([.5,.5,.5]),rand(100,3)))\n",
        "data"
      ],
      "execution_count": 62,
      "outputs": [
        {
          "output_type": "execute_result",
          "data": {
            "text/plain": [
              "array([[0.78289626, 1.06397987, 1.36054199],\n",
              "       [1.16695015, 0.92544764, 0.75088592],\n",
              "       [0.63952789, 1.1204115 , 0.93544415],\n",
              "       [0.62242509, 0.62065674, 0.68825093],\n",
              "       [0.8718164 , 1.0774455 , 1.39480173],\n",
              "       [0.94264077, 1.27697329, 1.35659608],\n",
              "       [0.92307976, 0.68745428, 0.92194984],\n",
              "       [0.60962016, 0.65007141, 1.15239061],\n",
              "       [0.75416676, 0.89348154, 0.66318257],\n",
              "       [1.03380731, 1.02467371, 0.56062955],\n",
              "       [0.94270727, 0.936221  , 1.45156853],\n",
              "       [0.87615653, 0.6540537 , 1.20908433],\n",
              "       [0.70356492, 1.1731676 , 0.92086241],\n",
              "       [1.03293237, 1.29202982, 1.18515189],\n",
              "       [1.22834665, 0.67162732, 1.17677516],\n",
              "       [0.69459542, 0.87865029, 1.23076081],\n",
              "       [0.58048774, 1.26721553, 0.84833939],\n",
              "       [1.23633032, 0.73469517, 1.2242996 ],\n",
              "       [1.41565773, 1.21089247, 1.04129668],\n",
              "       [1.05311658, 0.66039233, 1.2431851 ],\n",
              "       [0.84051669, 1.47747058, 0.91973353],\n",
              "       [0.82191232, 1.33062633, 0.90421765],\n",
              "       [1.39015249, 0.74069933, 1.26925779],\n",
              "       [0.86379391, 1.06315927, 0.50210541],\n",
              "       [0.75209917, 1.43855474, 0.65852435],\n",
              "       [0.77541265, 0.52753002, 1.43874835],\n",
              "       [1.37580199, 1.18603624, 1.05017854],\n",
              "       [1.48966571, 0.86998044, 1.11143722],\n",
              "       [1.35716031, 1.23078793, 0.59981287],\n",
              "       [0.77530047, 1.38285688, 1.45382247],\n",
              "       [0.68934135, 1.04003292, 0.88595073],\n",
              "       [0.65185571, 0.96811241, 0.70048417],\n",
              "       [0.97165627, 1.18786321, 1.12362302],\n",
              "       [1.49403773, 0.80471561, 1.11857585],\n",
              "       [0.77703071, 0.55655749, 0.58863249],\n",
              "       [1.48842197, 0.87853674, 1.0741025 ],\n",
              "       [1.37522455, 0.95759993, 1.25754407],\n",
              "       [0.57994401, 1.21801308, 0.54343289],\n",
              "       [0.81566911, 0.87442027, 0.94322272],\n",
              "       [1.02253179, 0.8512649 , 1.10934059],\n",
              "       [1.32781792, 1.07584362, 0.60466922],\n",
              "       [1.02600528, 0.95521196, 1.00274892],\n",
              "       [0.5702616 , 1.0667408 , 1.18833099],\n",
              "       [0.68457415, 1.43254212, 0.8335218 ],\n",
              "       [0.98193682, 0.74543544, 0.92424311],\n",
              "       [1.0940137 , 1.00042054, 0.813221  ],\n",
              "       [0.80039793, 1.35837998, 1.38523544],\n",
              "       [0.52414814, 1.392079  , 0.68121711],\n",
              "       [1.47944354, 1.10462869, 0.62133372],\n",
              "       [1.46330923, 0.50762818, 1.08690551],\n",
              "       [0.60769607, 0.92217162, 1.47791043],\n",
              "       [1.44267089, 0.88258284, 1.47580829],\n",
              "       [0.93178878, 0.97143632, 1.13550941],\n",
              "       [1.41179263, 0.83074308, 0.50606314],\n",
              "       [1.34980289, 0.64224186, 0.80575556],\n",
              "       [1.1947957 , 0.69661144, 1.32053079],\n",
              "       [1.43128123, 0.55790768, 1.32329162],\n",
              "       [0.67850571, 0.95532743, 1.21761613],\n",
              "       [1.26520483, 0.93181926, 0.79355384],\n",
              "       [1.42773909, 0.88302071, 0.67860264],\n",
              "       [0.83997093, 1.04298735, 0.81360165],\n",
              "       [0.60288368, 1.41717398, 0.84346503],\n",
              "       [1.05746333, 0.71232239, 0.93094304],\n",
              "       [1.17448209, 1.32950156, 1.26280524],\n",
              "       [0.67864656, 0.79156049, 1.47101947],\n",
              "       [1.00443621, 0.97520441, 0.63613115],\n",
              "       [0.77128635, 1.08536194, 1.43166561],\n",
              "       [0.72522998, 0.91746585, 0.70990163],\n",
              "       [0.64391698, 0.62108832, 1.47795804],\n",
              "       [1.21485185, 1.33375035, 1.25066944],\n",
              "       [0.62852376, 1.31803934, 1.31565738],\n",
              "       [1.30513705, 1.2918369 , 1.0997812 ],\n",
              "       [0.78715316, 0.50269446, 1.38695283],\n",
              "       [0.56358263, 0.98960947, 0.67968171],\n",
              "       [1.31453642, 0.76759051, 0.72487104],\n",
              "       [0.68029035, 1.15207116, 1.13603545],\n",
              "       [0.71853551, 0.63090368, 1.1900516 ],\n",
              "       [1.45144263, 0.68358895, 1.10114191],\n",
              "       [1.26897184, 0.79028921, 0.95773146],\n",
              "       [0.82900254, 1.19003353, 1.4403953 ],\n",
              "       [1.38458301, 1.04203038, 1.44634887],\n",
              "       [0.68100104, 1.47521088, 1.43552332],\n",
              "       [1.42842993, 0.65975336, 0.64030864],\n",
              "       [1.20418704, 1.02630953, 0.79292621],\n",
              "       [0.51840626, 1.39101761, 0.63502133],\n",
              "       [0.53179567, 0.50242284, 1.16265024],\n",
              "       [1.13745799, 0.72773786, 0.84541897],\n",
              "       [1.49099635, 0.59140115, 1.00125947],\n",
              "       [0.61559421, 0.74338793, 0.80748974],\n",
              "       [1.36296451, 1.27928264, 0.96751193],\n",
              "       [0.74971365, 0.59569088, 1.49156829],\n",
              "       [1.1266735 , 0.81691755, 1.15332088],\n",
              "       [1.00749228, 0.53002066, 1.01543435],\n",
              "       [0.5160895 , 1.34793478, 1.04607526],\n",
              "       [1.23137381, 0.63322488, 1.25668048],\n",
              "       [0.783584  , 0.62578632, 1.11261049],\n",
              "       [0.65386811, 0.6854621 , 0.6541418 ],\n",
              "       [1.36043174, 1.24894076, 0.89128905],\n",
              "       [0.83113149, 0.76311699, 1.02696531],\n",
              "       [1.47643356, 1.0924441 , 0.88037083],\n",
              "       [0.83716256, 0.62969405, 0.50776866],\n",
              "       [0.77824   , 0.62225277, 0.28122398],\n",
              "       [0.13862242, 0.71083745, 0.51703117],\n",
              "       [0.4160527 , 0.07591071, 0.56444714],\n",
              "       [0.16335132, 0.30692349, 0.72136244],\n",
              "       [0.82163422, 0.61869943, 0.26689478],\n",
              "       [0.0797423 , 0.00866435, 0.44665468],\n",
              "       [0.07641682, 0.24057653, 0.27207824],\n",
              "       [0.02098383, 0.03368833, 0.21657247],\n",
              "       [0.92432084, 0.35371932, 0.28375983],\n",
              "       [0.09382421, 0.92846701, 0.82031118],\n",
              "       [0.06115873, 0.17017   , 0.89537659],\n",
              "       [0.17001045, 0.02539698, 0.24446375],\n",
              "       [0.15789996, 0.07850735, 0.89523655],\n",
              "       [0.95474017, 0.62830281, 0.75912826],\n",
              "       [0.7707265 , 0.98220047, 0.6043373 ],\n",
              "       [0.81772096, 0.16915947, 0.55901528],\n",
              "       [0.56046591, 0.46745969, 0.39666551],\n",
              "       [0.13169776, 0.17677386, 0.9918612 ],\n",
              "       [0.69009458, 0.88405312, 0.1261825 ],\n",
              "       [0.2516937 , 0.34641959, 0.90732136],\n",
              "       [0.1513831 , 0.78696319, 0.4520415 ],\n",
              "       [0.50129953, 0.21163292, 0.19140824],\n",
              "       [0.70969796, 0.66694132, 0.5841237 ],\n",
              "       [0.4776631 , 0.15168093, 0.59294872],\n",
              "       [0.64998864, 0.83789811, 0.17351684],\n",
              "       [0.72273823, 0.939244  , 0.86795167],\n",
              "       [0.6812239 , 0.40814029, 0.59492613],\n",
              "       [0.76070136, 0.82476944, 0.40265128],\n",
              "       [0.41098712, 0.88416018, 0.56677078],\n",
              "       [0.86996099, 0.52931642, 0.04846419],\n",
              "       [0.16213855, 0.17476485, 0.5266204 ],\n",
              "       [0.1953427 , 0.78152269, 0.08258167],\n",
              "       [0.79874827, 0.38924422, 0.21606248],\n",
              "       [0.15559938, 0.36610852, 0.61657484],\n",
              "       [0.59822788, 0.43726682, 0.53251556],\n",
              "       [0.43790862, 0.99364488, 0.87558012],\n",
              "       [0.42232988, 0.90662758, 0.73659048],\n",
              "       [0.66375874, 0.94116347, 0.94177674],\n",
              "       [0.67154471, 0.28151945, 0.90775409],\n",
              "       [0.28357229, 0.52650846, 0.01107483],\n",
              "       [0.1289846 , 0.82013996, 0.06708843],\n",
              "       [0.22328147, 0.8568053 , 0.70372523],\n",
              "       [0.13568182, 0.79589186, 0.32226987],\n",
              "       [0.96219274, 0.46452001, 0.80010232],\n",
              "       [0.23507778, 0.77263126, 0.08797453],\n",
              "       [0.67502066, 0.54411651, 0.08367135],\n",
              "       [0.65247843, 0.43717488, 0.68730572],\n",
              "       [0.90031442, 0.00822101, 0.2573432 ],\n",
              "       [0.81516347, 0.71204256, 0.17435189],\n",
              "       [0.35985694, 0.99198706, 0.94341251],\n",
              "       [0.27594494, 0.57314021, 0.89865983],\n",
              "       [0.66358853, 0.40552085, 0.42092201],\n",
              "       [0.30362349, 0.11168216, 0.25319293],\n",
              "       [0.80855614, 0.35477212, 0.86606088],\n",
              "       [0.1840456 , 0.05983414, 0.63410172],\n",
              "       [0.93324675, 0.50585534, 0.13105746],\n",
              "       [0.2500131 , 0.15156887, 0.63300444],\n",
              "       [0.64422348, 0.28337714, 0.36721187],\n",
              "       [0.40031024, 0.62600211, 0.48747852],\n",
              "       [0.91464663, 0.10680302, 0.66427235],\n",
              "       [0.22590714, 0.07309693, 0.16607595],\n",
              "       [0.247761  , 0.1605015 , 0.73044931],\n",
              "       [0.62237889, 0.86514722, 0.76493503],\n",
              "       [0.40113847, 0.4598661 , 0.1933171 ],\n",
              "       [0.63709142, 0.2376828 , 0.070539  ],\n",
              "       [0.84661273, 0.10588778, 0.43377708],\n",
              "       [0.77634958, 0.57966525, 0.82900075],\n",
              "       [0.95732234, 0.17846724, 0.8331906 ],\n",
              "       [0.74287279, 0.25466569, 0.78368688],\n",
              "       [0.9767982 , 0.86371445, 0.59907797],\n",
              "       [0.41439207, 0.40775279, 0.48301966],\n",
              "       [0.39732907, 0.18304909, 0.42396636],\n",
              "       [0.8991896 , 0.62431051, 0.65877514],\n",
              "       [0.62296828, 0.53317297, 0.19283729],\n",
              "       [0.41736766, 0.91295879, 0.37595761],\n",
              "       [0.79715   , 0.3421883 , 0.73447508],\n",
              "       [0.78027812, 0.16229965, 0.90173097],\n",
              "       [0.61628584, 0.54063818, 0.26218847],\n",
              "       [0.63478812, 0.201839  , 0.32590966],\n",
              "       [0.41439846, 0.20413393, 0.50262822],\n",
              "       [0.11683677, 0.25211507, 0.75726094],\n",
              "       [0.69706669, 0.56761602, 0.92386742],\n",
              "       [0.59200444, 0.47026542, 0.61643868],\n",
              "       [0.68428583, 0.38543777, 0.09437859],\n",
              "       [0.25063766, 0.73712821, 0.76822942],\n",
              "       [0.35711504, 0.86234689, 0.45678149],\n",
              "       [0.24439963, 0.79674228, 0.19725417],\n",
              "       [0.71746976, 0.55817862, 0.38334829],\n",
              "       [0.26097794, 0.87830582, 0.91067432],\n",
              "       [0.37125905, 0.17053818, 0.15036118],\n",
              "       [0.58569573, 0.6847884 , 0.99050138],\n",
              "       [0.76988601, 0.45079743, 0.4937763 ],\n",
              "       [0.49464376, 0.51899917, 0.17571268],\n",
              "       [0.55805712, 0.6164675 , 0.43973465],\n",
              "       [0.86803997, 0.53235018, 0.09027131],\n",
              "       [0.2686395 , 0.80345116, 0.96441289],\n",
              "       [0.74635247, 0.10422003, 0.64476701],\n",
              "       [0.37322845, 0.0043807 , 0.2755663 ],\n",
              "       [0.696712  , 0.49971604, 0.93191925]])"
            ]
          },
          "metadata": {},
          "execution_count": 62
        }
      ]
    },
    {
      "cell_type": "code",
      "metadata": {
        "colab": {
          "base_uri": "https://localhost:8080/"
        },
        "id": "XPQu_pagHHr7",
        "outputId": "68208e39-a2a9-4265-ffe4-4acd96feeb93"
      },
      "source": [
        "data=whiten(data)\n",
        "data"
      ],
      "execution_count": 63,
      "outputs": [
        {
          "output_type": "execute_result",
          "data": {
            "text/plain": [
              "array([[2.09580022, 2.89317713, 3.57803848],\n",
              "       [3.12390607, 2.51647987, 1.97472678],\n",
              "       [1.71200548, 3.04662617, 2.46008959],\n",
              "       [1.66622157, 1.68769159, 1.81000537],\n",
              "       [2.33383796, 2.9297929 , 3.66813689],\n",
              "       [2.5234336 , 3.47234943, 3.56766128],\n",
              "       [2.4710691 , 1.86932766, 2.42460139],\n",
              "       [1.631943  , 1.76767605, 3.03062897],\n",
              "       [2.01889182, 2.42955757, 1.74407903],\n",
              "       [2.76748491, 2.78629569, 1.47437868],\n",
              "       [2.52361162, 2.54577483, 3.81742578],\n",
              "       [2.34545641, 1.77850469, 3.17972565],\n",
              "       [1.88343154, 3.19008071, 2.42174161],\n",
              "       [2.76514272, 3.51329119, 3.11678661],\n",
              "       [3.28826348, 1.82629094, 3.09475698],\n",
              "       [1.85942034, 2.38922839, 3.23673183],\n",
              "       [1.55395599, 3.44581611, 2.23101604],\n",
              "       [3.30963563, 1.99778521, 3.21973973],\n",
              "       [3.78969212, 3.29266227, 2.7384672 ],\n",
              "       [2.8191755 , 1.79574071, 3.269406  ],\n",
              "       [2.25004914, 4.01754224, 2.41877281],\n",
              "       [2.20024556, 3.61824294, 2.37796817],\n",
              "       [3.72141502, 2.01411174, 3.3379736 ],\n",
              "       [2.31236188, 2.89094573, 1.32046823],\n",
              "       [2.01335692, 3.91172218, 1.73182856],\n",
              "       [2.07576673, 1.43446113, 3.78371048],\n",
              "       [3.68299895, 3.22507316, 2.76182527],\n",
              "       [3.98781025, 2.36565331, 2.92292718],\n",
              "       [3.63309551, 3.34676207, 1.57742542],\n",
              "       [2.07546641, 3.76026839, 3.82335335],\n",
              "       [1.8453553 , 2.8280605 , 2.32992868],\n",
              "       [1.74500687, 2.63249404, 1.84217713],\n",
              "       [2.60110762, 3.23004104, 2.95497416],\n",
              "       [3.99951408, 2.188185  , 2.94170079],\n",
              "       [2.08009823, 1.51339273, 1.54802257],\n",
              "       [3.98448078, 2.38891962, 2.824742  ],\n",
              "       [3.68145317, 2.60390847, 3.30716811],\n",
              "       [1.55250044, 3.31202467, 1.42915383],\n",
              "       [2.18353259, 2.37772611, 2.48054616],\n",
              "       [2.73730053, 2.31476196, 2.91741331],\n",
              "       [3.55454641, 2.92543706, 1.59019697],\n",
              "       [2.74659901, 2.59741511, 2.63709188],\n",
              "       [1.52658079, 2.90068464, 3.12514721],\n",
              "       [1.83259357, 3.89537264, 2.19204782],\n",
              "       [2.62862848, 2.02699018, 2.43063238],\n",
              "       [2.92865641, 2.72034641, 2.13865949],\n",
              "       [2.14265189, 3.69371075, 3.64297887],\n",
              "       [1.40313583, 3.78534521, 1.7915074 ],\n",
              "       [3.96044567, 3.0037095 , 1.63402232],\n",
              "       [3.91725439, 1.38034402, 2.85841215],\n",
              "       [1.62679224, 2.50757172, 3.88670136],\n",
              "       [3.8620059 , 2.39992179, 3.88117302],\n",
              "       [2.49438301, 2.64153243, 2.98623373],\n",
              "       [3.77934531, 2.25895896, 1.33087653],\n",
              "       [3.61339982, 1.74638592, 2.11902642],\n",
              "       [3.19844816, 1.89422782, 3.47281453],\n",
              "       [3.83151596, 1.51706416, 3.48007513],\n",
              "       [1.81634846, 2.59772909, 3.20216312],\n",
              "       [3.38693223, 2.5338056 , 2.08693756],\n",
              "       [3.8220337 , 2.40111246, 1.7846317 ],\n",
              "       [2.24858817, 2.83609419, 2.13966054],\n",
              "       [1.61390954, 3.85358355, 2.21819713],\n",
              "       [2.83081168, 1.93694909, 2.44825227],\n",
              "       [3.14406895, 3.61518445, 3.32100426],\n",
              "       [1.81672552, 2.15241356, 3.86857908],\n",
              "       [2.68885897, 2.65177863, 1.67293751],\n",
              "       [2.06472068, 2.9513193 , 3.76508383],\n",
              "       [1.94142856, 2.49477577, 1.86694374],\n",
              "       [1.72375501, 1.68886514, 3.88682658],\n",
              "       [3.25213813, 3.62673777, 3.28908877],\n",
              "       [1.68254762, 3.58401635, 3.45999813],\n",
              "       [3.49383011, 3.51276661, 2.89227344],\n",
              "       [2.10719587, 1.36692823, 3.64749536],\n",
              "       [1.50870129, 2.69094892, 1.7874695 ],\n",
              "       [3.51899207, 2.08723433, 1.90631125],\n",
              "       [1.82112592, 3.13271522, 2.98761713],\n",
              "       [1.92350757, 1.71555511, 3.1296722 ],\n",
              "       [3.8854877 , 1.85881704, 2.89585193],\n",
              "       [3.39701643, 2.14895668, 2.51870216],\n",
              "       [2.21922596, 3.23594258, 3.78804173],\n",
              "       [3.70650562, 2.83349201, 3.8036988 ],\n",
              "       [1.82302843, 4.01139767, 3.77522909],\n",
              "       [3.82388309, 1.79400323, 1.68392374],\n",
              "       [3.2235886 , 2.79074382, 2.08528698],\n",
              "       [1.3877649 , 3.78245908, 1.67001884],\n",
              "       [1.42360815, 1.36618963, 3.05761039],\n",
              "       [3.04495606, 1.97886689, 2.22333572],\n",
              "       [3.99137235, 1.6081397 , 2.63317484],\n",
              "       [1.64793544, 2.02142258, 2.12358706],\n",
              "       [3.64863324, 3.47862903, 2.54442345],\n",
              "       [2.00697093, 1.61980435, 3.92261965],\n",
              "       [3.01608615, 2.22136454, 3.03307544],\n",
              "       [2.69704002, 1.4412337 , 2.67045281],\n",
              "       [1.38156299, 3.66530811, 2.75103421],\n",
              "       [3.29636713, 1.72186691, 3.30489699],\n",
              "       [2.0976413 , 1.70163994, 2.92601272],\n",
              "       [1.75039401, 1.8639105 , 1.72030305],\n",
              "       [3.64185305, 3.39612331, 2.34396775],\n",
              "       [2.22492513, 2.07506992, 2.70077766],\n",
              "       [3.95238801, 2.97057712, 2.31525432],\n",
              "       [2.2410702 , 1.71226587, 1.33536181],\n",
              "       [2.08333548, 1.69203151, 0.73958042],\n",
              "       [0.37108989, 1.93291124, 1.35972094],\n",
              "       [1.11376613, 0.20641663, 1.48441842],\n",
              "       [0.43728876, 0.83458724, 1.8970841 ],\n",
              "       [2.19950109, 1.68236927, 0.70189659],\n",
              "       [0.21346881, 0.02356012, 1.17464045],\n",
              "       [0.20456655, 0.6541764 , 0.71552839],\n",
              "       [0.05617335, 0.09160539, 0.56955584],\n",
              "       [2.47439147, 0.9618346 , 0.74624937],\n",
              "       [0.25116585, 2.52469017, 2.1573057 ],\n",
              "       [0.1637209 , 0.46272676, 2.35471741],\n",
              "       [0.45511513, 0.06905955, 0.64290608],\n",
              "       [0.42269557, 0.21347742, 2.35434913],\n",
              "       [2.5558235 , 1.70848282, 1.99640302],\n",
              "       [2.06322197, 2.67080234, 1.58932405],\n",
              "       [2.18902537, 0.4599789 , 1.47013337],\n",
              "       [1.50035789, 1.27111773, 1.04317579],\n",
              "       [0.35255271, 0.480684  , 2.60845868],\n",
              "       [1.84737167, 2.40391977, 0.33184264],\n",
              "       [0.67377984, 0.94198515, 2.38613052],\n",
              "       [0.40525002, 2.13991257, 1.18880704],\n",
              "       [1.34197049, 0.57547285, 0.50337738],\n",
              "       [1.89984959, 1.81354876, 1.53616508],\n",
              "       [1.27869614, 0.41245121, 1.55937367],\n",
              "       [1.74000875, 2.27841494, 0.45632544],\n",
              "       [1.93475817, 2.55399498, 2.28259363],\n",
              "       [1.823625  , 1.10981624, 1.56457398],\n",
              "       [2.03638485, 2.24271542, 1.05891753],\n",
              "       [1.10020565, 2.4042109 , 1.49052928],\n",
              "       [2.32887105, 1.43931873, 0.12745415],\n",
              "       [0.43404219, 0.47522107, 1.3849393 ],\n",
              "       [0.52292914, 2.12511874, 0.21717844],\n",
              "       [2.13823579, 1.05843399, 0.56821465],\n",
              "       [0.41653696, 0.99552334, 1.62150711],\n",
              "       [1.60144605, 1.18901718, 1.40044276],\n",
              "       [1.17227408, 2.70192202, 2.30265542],\n",
              "       [1.13057004, 2.46530431, 1.93713176],\n",
              "       [1.77687108, 2.55921441, 2.47674341],\n",
              "       [1.79771398, 0.7655085 , 2.38726852],\n",
              "       [0.75911829, 1.43168333, 0.02912529],\n",
              "       [0.34528961, 2.23012694, 0.17643335],\n",
              "       [0.59772078, 2.32982744, 1.85070067],\n",
              "       [0.36321797, 2.16419142, 0.84752548],\n",
              "       [2.57577391, 1.26312414, 2.10415918],\n",
              "       [0.62929929, 2.10094115, 0.23136094],\n",
              "       [1.80701905, 1.47956317, 0.22004415],\n",
              "       [1.74667386, 1.18876719, 1.80751961],\n",
              "       [2.41012668, 0.02235458, 0.67677725],\n",
              "       [2.18217899, 1.93618818, 0.45852152],\n",
              "       [0.96333103, 2.69741406, 2.48104527],\n",
              "       [0.7387    , 1.55848451, 2.36335188],\n",
              "       [1.77641542, 1.10269347, 1.10696704],\n",
              "       [0.81279502, 0.30368644, 0.66586261],\n",
              "       [2.16449129, 0.96469737, 2.27762112],\n",
              "       [0.49268701, 0.16270117, 1.66760039],\n",
              "       [2.49828598, 1.37552331, 0.34466312],\n",
              "       [0.66928091, 0.4121465 , 1.66471471],\n",
              "       [1.7245755 , 0.77055994, 0.96571675],\n",
              "       [1.07162382, 1.70222673, 1.28200154],\n",
              "       [2.44849375, 0.29041908, 1.746945  ],\n",
              "       [0.60474966, 0.19876538, 0.43675693],\n",
              "       [0.66325206, 0.43643614, 1.92098131],\n",
              "       [1.66609791, 2.3525108 , 2.01167402],\n",
              "       [1.073841  , 1.25046923, 0.5083974 ],\n",
              "       [1.70548311, 0.64630776, 0.18550787],\n",
              "       [2.26636814, 0.28793035, 1.14077411],\n",
              "       [2.07827487, 1.57622741, 2.18015806],\n",
              "       [2.56273593, 0.48528863, 2.19117679],\n",
              "       [1.98865807, 0.69248768, 2.06098881],\n",
              "       [2.61487249, 2.34861482, 1.57549275],\n",
              "       [1.10932066, 1.10876255, 1.27027535],\n",
              "       [1.06364329, 0.49774761, 1.11497327],\n",
              "       [2.40711556, 1.69762692, 1.7324881 ],\n",
              "       [1.6676757 , 1.44980546, 0.50713558],\n",
              "       [1.11728625, 2.48252016, 0.98871686],\n",
              "       [2.13395724, 0.93047941, 1.93156853],\n",
              "       [2.08879151, 0.44132569, 2.37142854],\n",
              "       [1.64978692, 1.47010488, 0.68951965],\n",
              "       [1.69931719, 0.54884118, 0.85709761],\n",
              "       [1.10933775, 0.55508158, 1.32184317],\n",
              "       [0.31277008, 0.68555203, 1.99149223],\n",
              "       [1.86603588, 1.54346311, 2.42964437],\n",
              "       [1.58478599, 1.27874707, 1.62114903],\n",
              "       [1.83182174, 1.04808348, 0.24820272],\n",
              "       [0.67095284, 2.00440114, 2.02033783],\n",
              "       [0.95599099, 2.34489614, 1.20127256],\n",
              "       [0.65425373, 2.16650389, 0.51875136],\n",
              "       [1.92065456, 1.51780089, 1.00815332],\n",
              "       [0.69863359, 2.38829171, 2.39494834],\n",
              "       [0.99385427, 0.46372792, 0.39542925],\n",
              "       [1.56789768, 1.86207858, 2.60488254],\n",
              "       [2.06097199, 1.22580967, 1.29856384],\n",
              "       [1.32415308, 1.41126402, 0.4621002 ],\n",
              "       [1.49390959, 1.6763002 , 1.15644171],\n",
              "       [2.3237285 , 1.44756813, 0.23740113],\n",
              "       [0.71914346, 2.18474669, 2.53627339],\n",
              "       [1.99797309, 0.28339539, 1.69564866],\n",
              "       [0.99912632, 0.01191201, 0.7247015 ],\n",
              "       [1.86508639, 1.35882929, 2.45081958]])"
            ]
          },
          "metadata": {},
          "execution_count": 63
        }
      ]
    },
    {
      "cell_type": "code",
      "metadata": {
        "colab": {
          "base_uri": "https://localhost:8080/"
        },
        "id": "LIyn8EgZHO5y",
        "outputId": "c17d6364-e5ed-4a55-be3a-bbce2a93c537"
      },
      "source": [
        "centroids,_=kmeans(data,3)\n",
        "centroids"
      ],
      "execution_count": 64,
      "outputs": [
        {
          "output_type": "execute_result",
          "data": {
            "text/plain": [
              "array([[1.80978979, 2.73362001, 2.72855746],\n",
              "       [3.36454908, 2.37862727, 2.5498754 ],\n",
              "       [1.37909943, 1.13864759, 1.20726621]])"
            ]
          },
          "metadata": {},
          "execution_count": 64
        }
      ]
    },
    {
      "cell_type": "code",
      "metadata": {
        "colab": {
          "base_uri": "https://localhost:8080/"
        },
        "id": "ombNca36HS8u",
        "outputId": "5cfa2bed-540c-483d-8f77-f63b8c97ea65"
      },
      "source": [
        "clx,_=vq(data,centroids)\n",
        "clx"
      ],
      "execution_count": 65,
      "outputs": [
        {
          "output_type": "execute_result",
          "data": {
            "text/plain": [
              "array([0, 1, 0, 2, 0, 0, 1, 0, 0, 1, 0, 0, 0, 0, 1, 0, 0, 1, 1, 1, 0, 0,\n",
              "       1, 0, 0, 0, 1, 1, 1, 0, 0, 0, 0, 1, 2, 1, 1, 0, 0, 1, 1, 1, 0, 0,\n",
              "       1, 1, 0, 0, 1, 1, 0, 1, 0, 1, 1, 1, 1, 0, 1, 1, 0, 0, 1, 1, 0, 1,\n",
              "       0, 0, 0, 1, 0, 1, 0, 0, 1, 0, 0, 1, 1, 0, 1, 0, 1, 1, 0, 0, 1, 1,\n",
              "       0, 1, 0, 1, 1, 0, 1, 0, 2, 1, 0, 1, 2, 2, 2, 2, 2, 2, 2, 2, 2, 2,\n",
              "       0, 2, 2, 2, 1, 0, 2, 2, 2, 2, 2, 2, 2, 2, 2, 2, 0, 2, 2, 2, 2, 2,\n",
              "       2, 2, 2, 2, 0, 0, 0, 2, 2, 2, 0, 2, 1, 2, 2, 2, 2, 2, 0, 2, 2, 2,\n",
              "       2, 2, 2, 2, 2, 2, 2, 2, 2, 0, 2, 2, 2, 2, 2, 2, 1, 2, 2, 2, 2, 2,\n",
              "       2, 2, 2, 2, 2, 2, 0, 2, 2, 2, 2, 2, 2, 0, 2, 0, 2, 2, 2, 2, 0, 2,\n",
              "       2, 2], dtype=int32)"
            ]
          },
          "metadata": {},
          "execution_count": 65
        }
      ]
    },
    {
      "cell_type": "code",
      "metadata": {
        "colab": {
          "base_uri": "https://localhost:8080/"
        },
        "id": "3q4Q0pnRHW_-",
        "outputId": "2a1f1c58-733f-4074-d57a-4ce3cb6531f1"
      },
      "source": [
        "from scipy.fftpack import fft\n",
        " \n",
        "x=np.array([1.0,2.0,1.0,-1.0,1.5])\n",
        " \n",
        "y=fft(x)\n",
        "print(\"FFT :\\n\",y)"
      ],
      "execution_count": 66,
      "outputs": [
        {
          "output_type": "stream",
          "name": "stdout",
          "text": [
            "FFT :\n",
            " [ 4.5       -0.j          2.08155948-1.65109876j -1.83155948+1.60822041j\n",
            " -1.83155948-1.60822041j  2.08155948+1.65109876j]\n"
          ]
        }
      ]
    },
    {
      "cell_type": "code",
      "metadata": {
        "colab": {
          "base_uri": "https://localhost:8080/"
        },
        "id": "K2PTYZTtHa1v",
        "outputId": "c28f84c3-2c35-4b4c-e066-e4ded223cf5c"
      },
      "source": [
        "from scipy.fftpack import ifft\n",
        "yinv=ifft(y)\n",
        "print(\"FFT Inverse:\\n\",yinv)"
      ],
      "execution_count": 67,
      "outputs": [
        {
          "output_type": "stream",
          "name": "stdout",
          "text": [
            "FFT Inverse:\n",
            " [ 1. +0.j  2. +0.j  1. +0.j -1. +0.j  1.5+0.j]\n"
          ]
        }
      ]
    },
    {
      "cell_type": "code",
      "metadata": {
        "colab": {
          "base_uri": "https://localhost:8080/"
        },
        "id": "WtnYd14XHd_M",
        "outputId": "9f255a3d-7e73-4848-9108-6f48f5d005a1"
      },
      "source": [
        "from scipy.fftpack import dct\n",
        "print(\"DCT:\\n\",dct(np.array([4.,3.,5.,10.,5.,3.])))"
      ],
      "execution_count": 68,
      "outputs": [
        {
          "output_type": "stream",
          "name": "stdout",
          "text": [
            "DCT:\n",
            " [ 60.          -3.48476592 -13.85640646  11.3137085    6.\n",
            "  -6.31319305]\n"
          ]
        }
      ]
    },
    {
      "cell_type": "code",
      "metadata": {
        "colab": {
          "base_uri": "https://localhost:8080/"
        },
        "id": "gxHSMq8THhuO",
        "outputId": "d341e761-9a69-4327-e0fb-bb40755139d5"
      },
      "source": [
        "from scipy.fftpack import idct\n",
        "print(\"IDCT:\\n\",idct(np.array([4.,3.,5.,10.,5.,3.])))"
      ],
      "execution_count": 69,
      "outputs": [
        {
          "output_type": "stream",
          "name": "stdout",
          "text": [
            "IDCT:\n",
            " [ 39.15085889 -20.14213562  -6.45392043   7.13341236   8.14213562\n",
            "  -3.83035081]\n"
          ]
        }
      ]
    },
    {
      "cell_type": "markdown",
      "metadata": {
        "id": "FMDv9G68HlPO"
      },
      "source": [
        "# **SciPy-Integrated**"
      ]
    },
    {
      "cell_type": "markdown",
      "metadata": {
        "id": "uDKd5KvEHoB9"
      },
      "source": [
        "The general form of quad is scipy.integrate.quad(f,a,b), Where 'f' is the name of the function to be integrated. Whereas, 'a' and 'b' are the lower and upper limits, respectively. Let us see an example of the Gaussian function, integrated over a range of 0 and 1"
      ]
    },
    {
      "cell_type": "markdown",
      "metadata": {
        "id": "TxRquMvyHrGz"
      },
      "source": [
        "  # **∫f(x)dx**"
      ]
    },
    {
      "cell_type": "code",
      "metadata": {
        "colab": {
          "base_uri": "https://localhost:8080/"
        },
        "id": "nPImTo6uHtrb",
        "outputId": "0215c80a-6236-4361-e91a-b238d0b0a3e2"
      },
      "source": [
        "import scipy.integrate\n",
        "from numpy import exp\n",
        "f=lambda x:exp(-x**2)\n",
        "i=scipy.integrate.quad(f,0,1)\n",
        "print(i)"
      ],
      "execution_count": 70,
      "outputs": [
        {
          "output_type": "stream",
          "name": "stdout",
          "text": [
            "(0.7468241328124271, 8.291413475940725e-15)\n"
          ]
        }
      ]
    },
    {
      "cell_type": "markdown",
      "metadata": {
        "id": "weN3ioHUHw3r"
      },
      "source": [
        "# **Linear Algebra**"
      ]
    },
    {
      "cell_type": "markdown",
      "metadata": {
        "id": "YiXfkkgaHzUP"
      },
      "source": [
        "**x+3y+5z=10**\n",
        " \n",
        "**2x+5y+z=8**\n",
        " \n",
        "**2x+3y+8z=3 ***"
      ]
    },
    {
      "cell_type": "code",
      "metadata": {
        "colab": {
          "base_uri": "https://localhost:8080/"
        },
        "id": "ofEC0AzeH2MR",
        "outputId": "71423c8b-e2cd-45f6-8bdf-eb23abd42a4c"
      },
      "source": [
        "from scipy import linalg\n",
        "import numpy as np\n",
        " \n",
        "a=np.array([[1,3,5],[2,5,1],[2,3,8]])\n",
        "b=np.array([10,8,3])\n",
        " \n",
        "X=linalg.solve(a,b)\n",
        " \n",
        "print(X)"
      ],
      "execution_count": 71,
      "outputs": [
        {
          "output_type": "stream",
          "name": "stdout",
          "text": [
            "[-9.28  5.16  0.76]\n"
          ]
        }
      ]
    },
    {
      "cell_type": "markdown",
      "metadata": {
        "id": "y1S0Mv49H7QJ"
      },
      "source": [
        "# **Finding an Determinant**"
      ]
    },
    {
      "cell_type": "code",
      "metadata": {
        "colab": {
          "base_uri": "https://localhost:8080/"
        },
        "id": "zV-zpnVgH-C9",
        "outputId": "6a747059-c1fb-48bf-e4c3-470b69581e83"
      },
      "source": [
        "from scipy import linalg\n",
        "import numpy as np\n",
        " \n",
        "A=np.array([[1,2],[3,4]])\n",
        " \n",
        "x=linalg.det(A)\n",
        " \n",
        "print(x)"
      ],
      "execution_count": 72,
      "outputs": [
        {
          "output_type": "stream",
          "name": "stdout",
          "text": [
            "-2.0\n"
          ]
        }
      ]
    },
    {
      "cell_type": "markdown",
      "metadata": {
        "id": "Rek_YUg5IBfU"
      },
      "source": [
        "# **Eigen values and Eigen Vectors**"
      ]
    },
    {
      "cell_type": "code",
      "metadata": {
        "colab": {
          "base_uri": "https://localhost:8080/"
        },
        "id": "A4eiXlVrICQF",
        "outputId": "562728ca-1275-425b-b69d-46ea870c86e5"
      },
      "source": [
        "from scipy import linalg\n",
        "import numpy as np\n",
        " \n",
        "A=np.array([[1,2],[3,4]])\n",
        " \n",
        "l,v=linalg.eig(A)\n",
        " \n",
        "print(\"Eigen Values :\\n\",l)\n",
        " \n",
        "print(\"Eigen Vectors:\\n\",v)"
      ],
      "execution_count": 73,
      "outputs": [
        {
          "output_type": "stream",
          "name": "stdout",
          "text": [
            "Eigen Values :\n",
            " [-0.37228132+0.j  5.37228132+0.j]\n",
            "Eigen Vectors:\n",
            " [[-0.82456484 -0.41597356]\n",
            " [ 0.56576746 -0.90937671]]\n"
          ]
        }
      ]
    },
    {
      "cell_type": "markdown",
      "metadata": {
        "id": "i0CU5QQJIHyx"
      },
      "source": [
        "# **Matplot Library**"
      ]
    },
    {
      "cell_type": "code",
      "metadata": {
        "colab": {
          "base_uri": "https://localhost:8080/",
          "height": 199
        },
        "id": "fO5QemZwIKvB",
        "outputId": "974a0743-a168-486e-8af2-2cb662b1a15d"
      },
      "source": [
        "import matplotlib.pyplot as plt\n",
        "import numpy as np\n",
        " \n",
        "x=np.arange(5)\n",
        "y=(35,45,23,27,60)\n",
        " \n",
        "plt.bar(x,y)\n",
        "plt.show()"
      ],
      "execution_count": 74,
      "outputs": [
        {
          "output_type": "display_data",
          "data": {
            "image/png": "[encoded data removed]",
            "text/plain": [
              "<Figure size 432x288 with 1 Axes>"
            ]
          },
          "metadata": {
            "needs_background": "light"
          }
        }
      ]
    },
    {
      "cell_type": "code",
      "metadata": {
        "colab": {
          "base_uri": "https://localhost:8080/",
          "height": 199
        },
        "id": "3afiQIsGIO7g",
        "outputId": "5b064725-1c23-41fb-92e5-11549c18baea"
      },
      "source": [
        "plt.scatter(x,y)\n",
        "plt.show()"
      ],
      "execution_count": 75,
      "outputs": [
        {
          "output_type": "display_data",
          "data": {
            "image/png": "[encoded data removed]",
            "text/plain": [
              "<Figure size 432x288 with 1 Axes>"
            ]
          },
          "metadata": {
            "needs_background": "light"
          }
        }
      ]
    },
    {
      "cell_type": "code",
      "metadata": {
        "colab": {
          "base_uri": "https://localhost:8080/",
          "height": 226
        },
        "id": "8SRZi0SUISR4",
        "outputId": "0465a0a3-51e8-472d-d3ca-d9497dbf3bc7"
      },
      "source": [
        "import pandas as pd\n",
        "from sklearn.datasets import load_iris\n",
        "iris=load_iris()\n",
        "df=pd.DataFrame(iris.data)\n",
        " \n",
        "df.columns=['sepal_Length','sepal_Width','petal_Length','petal_Width']\n",
        "df.head()"
      ],
      "execution_count": 76,
      "outputs": [
        {
          "output_type": "execute_result",
          "data": {
            "text/html": [
              "<div>\n",
              "<style scoped>\n",
              "    .dataframe tbody tr th:only-of-type {\n",
              "        vertical-align: middle;\n",
              "    }\n",
              "\n",
              "    .dataframe tbody tr th {\n",
              "        vertical-align: top;\n",
              "    }\n",
              "\n",
              "    .dataframe thead th {\n",
              "        text-align: right;\n",
              "    }\n",
              "</style>\n",
              "<table border=\"1\" class=\"dataframe\">\n",
              "  <thead>\n",
              "    <tr style=\"text-align: right;\">\n",
              "      <th></th>\n",
              "      <th>sepal_Length</th>\n",
              "      <th>sepal_Width</th>\n",
              "      <th>petal_Length</th>\n",
              "      <th>petal_Width</th>\n",
              "    </tr>\n",
              "  </thead>\n",
              "  <tbody>\n",
              "    <tr>\n",
              "      <th>0</th>\n",
              "      <td>5.1</td>\n",
              "      <td>3.5</td>\n",
              "      <td>1.4</td>\n",
              "      <td>0.2</td>\n",
              "    </tr>\n",
              "    <tr>\n",
              "      <th>1</th>\n",
              "      <td>4.9</td>\n",
              "      <td>3.0</td>\n",
              "      <td>1.4</td>\n",
              "      <td>0.2</td>\n",
              "    </tr>\n",
              "    <tr>\n",
              "      <th>2</th>\n",
              "      <td>4.7</td>\n",
              "      <td>3.2</td>\n",
              "      <td>1.3</td>\n",
              "      <td>0.2</td>\n",
              "    </tr>\n",
              "    <tr>\n",
              "      <th>3</th>\n",
              "      <td>4.6</td>\n",
              "      <td>3.1</td>\n",
              "      <td>1.5</td>\n",
              "      <td>0.2</td>\n",
              "    </tr>\n",
              "    <tr>\n",
              "      <th>4</th>\n",
              "      <td>5.0</td>\n",
              "      <td>3.6</td>\n",
              "      <td>1.4</td>\n",
              "      <td>0.2</td>\n",
              "    </tr>\n",
              "  </tbody>\n",
              "</table>\n",
              "</div>"
            ],
            "text/plain": [
              "   sepal_Length  sepal_Width  petal_Length  petal_Width\n",
              "0           5.1          3.5           1.4          0.2\n",
              "1           4.9          3.0           1.4          0.2\n",
              "2           4.7          3.2           1.3          0.2\n",
              "3           4.6          3.1           1.5          0.2\n",
              "4           5.0          3.6           1.4          0.2"
            ]
          },
          "metadata": {},
          "execution_count": 76
        }
      ]
    },
    {
      "cell_type": "code",
      "metadata": {
        "colab": {
          "base_uri": "https://localhost:8080/",
          "height": 211
        },
        "id": "ft6kHaISIYkb",
        "outputId": "6ce2569c-97ad-434e-d536-10bb51fed453"
      },
      "source": [
        "df.hist()\n",
        "plt.show()"
      ],
      "execution_count": 77,
      "outputs": [
        {
          "output_type": "display_data",
          "data": {
            "image/png": "[encoded data removed]",
            "text/plain": [
              "<Figure size 432x288 with 4 Axes>"
            ]
          },
          "metadata": {
            "needs_background": "light"
          }
        }
      ]
    },
    {
      "cell_type": "code",
      "metadata": {
        "colab": {
          "base_uri": "https://localhost:8080/",
          "height": 202
        },
        "id": "-A8MgYokIdtk",
        "outputId": "b0f903f7-4eb6-4b24-b1e2-58a7f2ccedb9"
      },
      "source": [
        "df.plot()\n",
        "plt.show()"
      ],
      "execution_count": 78,
      "outputs": [
        {
          "output_type": "display_data",
          "data": {
            "image/png": "[encoded data removed]",
            "text/plain": [
              "<Figure size 432x288 with 1 Axes>"
            ]
          },
          "metadata": {
            "needs_background": "light"
          }
        }
      ]
    },
    {
      "cell_type": "code",
      "metadata": {
        "colab": {
          "base_uri": "https://localhost:8080/",
          "height": 203
        },
        "id": "uAn32PkaIiLG",
        "outputId": "0ddf77c9-347d-438a-99bb-2a2645d3b16f"
      },
      "source": [
        "df.boxplot()\n",
        "plt.show()"
      ],
      "execution_count": 79,
      "outputs": [
        {
          "output_type": "display_data",
          "data": {
            "image/png": "[encoded data removed]",
            "text/plain": [
              "<Figure size 432x288 with 1 Axes>"
            ]
          },
          "metadata": {
            "needs_background": "light"
          }
        }
      ]
    },
    {
      "cell_type": "code",
      "metadata": {
        "colab": {
          "base_uri": "https://localhost:8080/",
          "height": 201
        },
        "id": "5WOHyiokIo_s",
        "outputId": "b0ed04e5-f5ab-4ded-8492-680a50116661"
      },
      "source": [
        "import numpy as np\n",
        "x=np.linspace(0,20,1000)\n",
        "y=np.sin(x)\n",
        " \n",
        "plt.plot(x,y,label='sample Label')\n",
        "plt.title('sample plot title')\n",
        "plt.xlabel('x axis label')\n",
        "plt.ylabel('y axis label')\n",
        "plt.grid(True)\n",
        " \n",
        "plt.figtext(0.5,0.01,'Fig1:Sinusodial', ha='right',va='bottom')\n",
        " \n",
        "plt.legend(loc='best',framealpha=0.5,prop={'size':'small'})\n",
        " \n",
        "plt.tight_layout(pad=1)\n",
        " \n",
        "plt.show()"
      ],
      "execution_count": 80,
      "outputs": [
        {
          "output_type": "display_data",
          "data": {
            "image/png": "[encoded data removed]",
            "text/plain": [
              "<Figure size 432x288 with 1 Axes>"
            ]
          },
          "metadata": {
            "needs_background": "light"
          }
        }
      ]
    }
  ]
}